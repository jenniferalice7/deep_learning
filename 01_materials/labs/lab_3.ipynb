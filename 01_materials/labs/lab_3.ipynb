{
 "cells": [
  {
   "cell_type": "markdown",
   "metadata": {},
   "source": [
    "# Recommender Systems\n",
    "\n",
    "In this lab, we'll be using Keras to build a recommender system. We'll be using the MovieLens dataset, a common benchmark dataset for recommender systems. \n",
    "\n",
    "MovieLens is a web-based recommender system and virtual community that recommends movies for its users to watch, based on their film preferences using collaborative filtering of members' movie ratings and movie reviews. You can check out the website here: https://movielens.org/\n",
    "\n",
    "We will download a subset of the dataset containing 100k ratings. There are tens of millions of ratings in the full dataset, spanning hundreds of thousands of users and movies. The subset we'll be using is a good example to demonstrate the concepts in this lab."
   ]
  },
  {
   "cell_type": "code",
   "execution_count": 1,
   "metadata": {},
   "outputs": [],
   "source": [
    "%matplotlib inline\n",
    "import matplotlib.pyplot as plt\n",
    "import numpy as np\n",
    "from zipfile import ZipFile\n",
    "from urllib.request import urlretrieve\n",
    "from pathlib import Path\n",
    "\n",
    "ML_100K_URL = \"http://files.grouplens.org/datasets/movielens/ml-100k.zip\"\n",
    "ML_100K_FILENAME = Path(\"ml-100k.zip\")\n",
    "ML_100K_FOLDER = Path(\"ml-100k\")\n",
    "\n",
    "if not ML_100K_FOLDER.exists():\n",
    "    if not ML_100K_FILENAME.exists():\n",
    "        urlretrieve(ML_100K_URL, ML_100K_FILENAME.name)\n",
    "    with ZipFile(ML_100K_FILENAME.name) as zip_file:\n",
    "        zip_file.extractall()"
   ]
  },
  {
   "cell_type": "markdown",
   "metadata": {},
   "source": [
    "The goal of MovieLens is to enable models to predict the rating a user would give to a movie they have not yet watched. This is a classic example of a recommendation system. The dataset is huge, and contains many parts giving information about the movies, the users, and the ratings. To begin with, we will look at the ratings file. Each line in the ratings file (u.data) is formatted as:\n",
    "\n",
    "`user_id, item_id, rating, timestamp`\n",
    "\n",
    "Which tells us a single user's rating of a single movie.\n",
    "\n",
    "We will start by loading the ratings data into a pandas dataframe and then take a look at the first few rows. If you haven't used Pandas before, it's an extremely powerful library for dealing with tabular data. You can think of it as a Python version of Excel."
   ]
  },
  {
   "cell_type": "code",
   "execution_count": 2,
   "metadata": {},
   "outputs": [
    {
     "data": {
      "text/html": [
       "<div>\n",
       "<style scoped>\n",
       "    .dataframe tbody tr th:only-of-type {\n",
       "        vertical-align: middle;\n",
       "    }\n",
       "\n",
       "    .dataframe tbody tr th {\n",
       "        vertical-align: top;\n",
       "    }\n",
       "\n",
       "    .dataframe thead th {\n",
       "        text-align: right;\n",
       "    }\n",
       "</style>\n",
       "<table border=\"1\" class=\"dataframe\">\n",
       "  <thead>\n",
       "    <tr style=\"text-align: right;\">\n",
       "      <th></th>\n",
       "      <th>user_id</th>\n",
       "      <th>item_id</th>\n",
       "      <th>rating</th>\n",
       "      <th>timestamp</th>\n",
       "    </tr>\n",
       "  </thead>\n",
       "  <tbody>\n",
       "    <tr>\n",
       "      <th>0</th>\n",
       "      <td>196</td>\n",
       "      <td>242</td>\n",
       "      <td>3</td>\n",
       "      <td>881250949</td>\n",
       "    </tr>\n",
       "    <tr>\n",
       "      <th>1</th>\n",
       "      <td>186</td>\n",
       "      <td>302</td>\n",
       "      <td>3</td>\n",
       "      <td>891717742</td>\n",
       "    </tr>\n",
       "    <tr>\n",
       "      <th>2</th>\n",
       "      <td>22</td>\n",
       "      <td>377</td>\n",
       "      <td>1</td>\n",
       "      <td>878887116</td>\n",
       "    </tr>\n",
       "    <tr>\n",
       "      <th>3</th>\n",
       "      <td>244</td>\n",
       "      <td>51</td>\n",
       "      <td>2</td>\n",
       "      <td>880606923</td>\n",
       "    </tr>\n",
       "    <tr>\n",
       "      <th>4</th>\n",
       "      <td>166</td>\n",
       "      <td>346</td>\n",
       "      <td>1</td>\n",
       "      <td>886397596</td>\n",
       "    </tr>\n",
       "    <tr>\n",
       "      <th>...</th>\n",
       "      <td>...</td>\n",
       "      <td>...</td>\n",
       "      <td>...</td>\n",
       "      <td>...</td>\n",
       "    </tr>\n",
       "    <tr>\n",
       "      <th>99995</th>\n",
       "      <td>880</td>\n",
       "      <td>476</td>\n",
       "      <td>3</td>\n",
       "      <td>880175444</td>\n",
       "    </tr>\n",
       "    <tr>\n",
       "      <th>99996</th>\n",
       "      <td>716</td>\n",
       "      <td>204</td>\n",
       "      <td>5</td>\n",
       "      <td>879795543</td>\n",
       "    </tr>\n",
       "    <tr>\n",
       "      <th>99997</th>\n",
       "      <td>276</td>\n",
       "      <td>1090</td>\n",
       "      <td>1</td>\n",
       "      <td>874795795</td>\n",
       "    </tr>\n",
       "    <tr>\n",
       "      <th>99998</th>\n",
       "      <td>13</td>\n",
       "      <td>225</td>\n",
       "      <td>2</td>\n",
       "      <td>882399156</td>\n",
       "    </tr>\n",
       "    <tr>\n",
       "      <th>99999</th>\n",
       "      <td>12</td>\n",
       "      <td>203</td>\n",
       "      <td>3</td>\n",
       "      <td>879959583</td>\n",
       "    </tr>\n",
       "  </tbody>\n",
       "</table>\n",
       "<p>100000 rows × 4 columns</p>\n",
       "</div>"
      ],
      "text/plain": [
       "       user_id  item_id  rating  timestamp\n",
       "0          196      242       3  881250949\n",
       "1          186      302       3  891717742\n",
       "2           22      377       1  878887116\n",
       "3          244       51       2  880606923\n",
       "4          166      346       1  886397596\n",
       "...        ...      ...     ...        ...\n",
       "99995      880      476       3  880175444\n",
       "99996      716      204       5  879795543\n",
       "99997      276     1090       1  874795795\n",
       "99998       13      225       2  882399156\n",
       "99999       12      203       3  879959583\n",
       "\n",
       "[100000 rows x 4 columns]"
      ]
     },
     "execution_count": 2,
     "metadata": {},
     "output_type": "execute_result"
    }
   ],
   "source": [
    "import pandas as pd\n",
    "\n",
    "raw_ratings = pd.read_csv(ML_100K_FOLDER / \"u.data\", sep='\\t',\n",
    "                          names=[\"user_id\", \"item_id\", \"rating\", \"timestamp\"])\n",
    "raw_ratings"
   ]
  },
  {
   "cell_type": "markdown",
   "metadata": {},
   "source": [
    "The second file we'll look at is the movie metadata. This file (u.item) contains information about each movie, including the title and release date. Each line in the file is formatted as:\n",
    "\n",
    "`movie_id | movie_title | release_date | video_release_date | IMDb_URL | unknown | Action | Adventure | Animation | Children's | Comedy | Crime | Documentary | Drama | Fantasy | Film-Noir | Horror | Musical | Mystery | Romance | Sci-Fi | Thriller | War | Western`\n",
    "\n",
    "As you can see, the genres are binary variables. As with one-hot encoding, a 1 indicates that the movie is of that genre, and a 0 indicates that it is not. We aren't going to work with the genre data in this lab, but it's easy to imagine that it could be useful in a real-world recommendation system."
   ]
  },
  {
   "cell_type": "code",
   "execution_count": 3,
   "metadata": {},
   "outputs": [
    {
     "data": {
      "text/html": [
       "<div>\n",
       "<style scoped>\n",
       "    .dataframe tbody tr th:only-of-type {\n",
       "        vertical-align: middle;\n",
       "    }\n",
       "\n",
       "    .dataframe tbody tr th {\n",
       "        vertical-align: top;\n",
       "    }\n",
       "\n",
       "    .dataframe thead th {\n",
       "        text-align: right;\n",
       "    }\n",
       "</style>\n",
       "<table border=\"1\" class=\"dataframe\">\n",
       "  <thead>\n",
       "    <tr style=\"text-align: right;\">\n",
       "      <th></th>\n",
       "      <th>item_id</th>\n",
       "      <th>title</th>\n",
       "      <th>release_date</th>\n",
       "      <th>video_release_date</th>\n",
       "      <th>imdb_url</th>\n",
       "    </tr>\n",
       "  </thead>\n",
       "  <tbody>\n",
       "    <tr>\n",
       "      <th>0</th>\n",
       "      <td>1</td>\n",
       "      <td>Toy Story (1995)</td>\n",
       "      <td>01-Jan-1995</td>\n",
       "      <td>NaN</td>\n",
       "      <td>http://us.imdb.com/M/title-exact?Toy%20Story%2...</td>\n",
       "    </tr>\n",
       "    <tr>\n",
       "      <th>1</th>\n",
       "      <td>2</td>\n",
       "      <td>GoldenEye (1995)</td>\n",
       "      <td>01-Jan-1995</td>\n",
       "      <td>NaN</td>\n",
       "      <td>http://us.imdb.com/M/title-exact?GoldenEye%20(...</td>\n",
       "    </tr>\n",
       "    <tr>\n",
       "      <th>2</th>\n",
       "      <td>3</td>\n",
       "      <td>Four Rooms (1995)</td>\n",
       "      <td>01-Jan-1995</td>\n",
       "      <td>NaN</td>\n",
       "      <td>http://us.imdb.com/M/title-exact?Four%20Rooms%...</td>\n",
       "    </tr>\n",
       "    <tr>\n",
       "      <th>3</th>\n",
       "      <td>4</td>\n",
       "      <td>Get Shorty (1995)</td>\n",
       "      <td>01-Jan-1995</td>\n",
       "      <td>NaN</td>\n",
       "      <td>http://us.imdb.com/M/title-exact?Get%20Shorty%...</td>\n",
       "    </tr>\n",
       "    <tr>\n",
       "      <th>4</th>\n",
       "      <td>5</td>\n",
       "      <td>Copycat (1995)</td>\n",
       "      <td>01-Jan-1995</td>\n",
       "      <td>NaN</td>\n",
       "      <td>http://us.imdb.com/M/title-exact?Copycat%20(1995)</td>\n",
       "    </tr>\n",
       "    <tr>\n",
       "      <th>...</th>\n",
       "      <td>...</td>\n",
       "      <td>...</td>\n",
       "      <td>...</td>\n",
       "      <td>...</td>\n",
       "      <td>...</td>\n",
       "    </tr>\n",
       "    <tr>\n",
       "      <th>1677</th>\n",
       "      <td>1678</td>\n",
       "      <td>Mat' i syn (1997)</td>\n",
       "      <td>06-Feb-1998</td>\n",
       "      <td>NaN</td>\n",
       "      <td>http://us.imdb.com/M/title-exact?Mat%27+i+syn+...</td>\n",
       "    </tr>\n",
       "    <tr>\n",
       "      <th>1678</th>\n",
       "      <td>1679</td>\n",
       "      <td>B. Monkey (1998)</td>\n",
       "      <td>06-Feb-1998</td>\n",
       "      <td>NaN</td>\n",
       "      <td>http://us.imdb.com/M/title-exact?B%2E+Monkey+(...</td>\n",
       "    </tr>\n",
       "    <tr>\n",
       "      <th>1679</th>\n",
       "      <td>1680</td>\n",
       "      <td>Sliding Doors (1998)</td>\n",
       "      <td>01-Jan-1998</td>\n",
       "      <td>NaN</td>\n",
       "      <td>http://us.imdb.com/Title?Sliding+Doors+(1998)</td>\n",
       "    </tr>\n",
       "    <tr>\n",
       "      <th>1680</th>\n",
       "      <td>1681</td>\n",
       "      <td>You So Crazy (1994)</td>\n",
       "      <td>01-Jan-1994</td>\n",
       "      <td>NaN</td>\n",
       "      <td>http://us.imdb.com/M/title-exact?You%20So%20Cr...</td>\n",
       "    </tr>\n",
       "    <tr>\n",
       "      <th>1681</th>\n",
       "      <td>1682</td>\n",
       "      <td>Scream of Stone (Schrei aus Stein) (1991)</td>\n",
       "      <td>08-Mar-1996</td>\n",
       "      <td>NaN</td>\n",
       "      <td>http://us.imdb.com/M/title-exact?Schrei%20aus%...</td>\n",
       "    </tr>\n",
       "  </tbody>\n",
       "</table>\n",
       "<p>1682 rows × 5 columns</p>\n",
       "</div>"
      ],
      "text/plain": [
       "      item_id                                      title release_date  \\\n",
       "0           1                           Toy Story (1995)  01-Jan-1995   \n",
       "1           2                           GoldenEye (1995)  01-Jan-1995   \n",
       "2           3                          Four Rooms (1995)  01-Jan-1995   \n",
       "3           4                          Get Shorty (1995)  01-Jan-1995   \n",
       "4           5                             Copycat (1995)  01-Jan-1995   \n",
       "...       ...                                        ...          ...   \n",
       "1677     1678                          Mat' i syn (1997)  06-Feb-1998   \n",
       "1678     1679                           B. Monkey (1998)  06-Feb-1998   \n",
       "1679     1680                       Sliding Doors (1998)  01-Jan-1998   \n",
       "1680     1681                        You So Crazy (1994)  01-Jan-1994   \n",
       "1681     1682  Scream of Stone (Schrei aus Stein) (1991)  08-Mar-1996   \n",
       "\n",
       "      video_release_date                                           imdb_url  \n",
       "0                    NaN  http://us.imdb.com/M/title-exact?Toy%20Story%2...  \n",
       "1                    NaN  http://us.imdb.com/M/title-exact?GoldenEye%20(...  \n",
       "2                    NaN  http://us.imdb.com/M/title-exact?Four%20Rooms%...  \n",
       "3                    NaN  http://us.imdb.com/M/title-exact?Get%20Shorty%...  \n",
       "4                    NaN  http://us.imdb.com/M/title-exact?Copycat%20(1995)  \n",
       "...                  ...                                                ...  \n",
       "1677                 NaN  http://us.imdb.com/M/title-exact?Mat%27+i+syn+...  \n",
       "1678                 NaN  http://us.imdb.com/M/title-exact?B%2E+Monkey+(...  \n",
       "1679                 NaN      http://us.imdb.com/Title?Sliding+Doors+(1998)  \n",
       "1680                 NaN  http://us.imdb.com/M/title-exact?You%20So%20Cr...  \n",
       "1681                 NaN  http://us.imdb.com/M/title-exact?Schrei%20aus%...  \n",
       "\n",
       "[1682 rows x 5 columns]"
      ]
     },
     "execution_count": 3,
     "metadata": {},
     "output_type": "execute_result"
    }
   ],
   "source": [
    "columns_to_keep = ['item_id', 'title', 'release_date', 'video_release_date', 'imdb_url']\n",
    "items = pd.read_csv(ML_100K_FOLDER / \"u.item\", sep='|', names=columns_to_keep,\n",
    "                    encoding='latin-1', usecols=range(5))\n",
    "items"
   ]
  },
  {
   "cell_type": "markdown",
   "metadata": {},
   "source": [
    "By default, the `release_date` column is a string. We can convert it to a `datetime` object using the `pd.to_datetime` function. This will make it easier to work with in the future (if we want to do things like check which date came first, for example).\n",
    " \n",
    "We can also extract the year from the date and store it in a separate column. This will make it easier to do things like plot the number of movies released each year."
   ]
  },
  {
   "cell_type": "code",
   "execution_count": 4,
   "metadata": {},
   "outputs": [],
   "source": [
    "items['release_date'] = pd.to_datetime(items['release_date']) # Pandas makes this easy!\n",
    "items['release_year'] = items['release_date'].dt.year # For later use"
   ]
  },
  {
   "cell_type": "markdown",
   "metadata": {},
   "source": [
    "For our purposes, it will be easier to work with the data if we merge our two dataframes into a single dataframe. We can do this using the `merge` method. We'll merge the `items` dataframe into the `raw_ratings` dataframe, using the `item_id` column as the key. This will add the movie title and release year to each rating."
   ]
  },
  {
   "cell_type": "code",
   "execution_count": 5,
   "metadata": {},
   "outputs": [],
   "source": [
    "all_ratings = pd.merge(items, raw_ratings)"
   ]
  },
  {
   "cell_type": "code",
   "execution_count": 6,
   "metadata": {},
   "outputs": [
    {
     "data": {
      "text/html": [
       "<div>\n",
       "<style scoped>\n",
       "    .dataframe tbody tr th:only-of-type {\n",
       "        vertical-align: middle;\n",
       "    }\n",
       "\n",
       "    .dataframe tbody tr th {\n",
       "        vertical-align: top;\n",
       "    }\n",
       "\n",
       "    .dataframe thead th {\n",
       "        text-align: right;\n",
       "    }\n",
       "</style>\n",
       "<table border=\"1\" class=\"dataframe\">\n",
       "  <thead>\n",
       "    <tr style=\"text-align: right;\">\n",
       "      <th></th>\n",
       "      <th>item_id</th>\n",
       "      <th>title</th>\n",
       "      <th>release_date</th>\n",
       "      <th>video_release_date</th>\n",
       "      <th>imdb_url</th>\n",
       "      <th>release_year</th>\n",
       "      <th>user_id</th>\n",
       "      <th>rating</th>\n",
       "      <th>timestamp</th>\n",
       "    </tr>\n",
       "  </thead>\n",
       "  <tbody>\n",
       "    <tr>\n",
       "      <th>0</th>\n",
       "      <td>1</td>\n",
       "      <td>Toy Story (1995)</td>\n",
       "      <td>1995-01-01</td>\n",
       "      <td>NaN</td>\n",
       "      <td>http://us.imdb.com/M/title-exact?Toy%20Story%2...</td>\n",
       "      <td>1995.0</td>\n",
       "      <td>308</td>\n",
       "      <td>4</td>\n",
       "      <td>887736532</td>\n",
       "    </tr>\n",
       "    <tr>\n",
       "      <th>1</th>\n",
       "      <td>1</td>\n",
       "      <td>Toy Story (1995)</td>\n",
       "      <td>1995-01-01</td>\n",
       "      <td>NaN</td>\n",
       "      <td>http://us.imdb.com/M/title-exact?Toy%20Story%2...</td>\n",
       "      <td>1995.0</td>\n",
       "      <td>287</td>\n",
       "      <td>5</td>\n",
       "      <td>875334088</td>\n",
       "    </tr>\n",
       "    <tr>\n",
       "      <th>2</th>\n",
       "      <td>1</td>\n",
       "      <td>Toy Story (1995)</td>\n",
       "      <td>1995-01-01</td>\n",
       "      <td>NaN</td>\n",
       "      <td>http://us.imdb.com/M/title-exact?Toy%20Story%2...</td>\n",
       "      <td>1995.0</td>\n",
       "      <td>148</td>\n",
       "      <td>4</td>\n",
       "      <td>877019411</td>\n",
       "    </tr>\n",
       "    <tr>\n",
       "      <th>3</th>\n",
       "      <td>1</td>\n",
       "      <td>Toy Story (1995)</td>\n",
       "      <td>1995-01-01</td>\n",
       "      <td>NaN</td>\n",
       "      <td>http://us.imdb.com/M/title-exact?Toy%20Story%2...</td>\n",
       "      <td>1995.0</td>\n",
       "      <td>280</td>\n",
       "      <td>4</td>\n",
       "      <td>891700426</td>\n",
       "    </tr>\n",
       "    <tr>\n",
       "      <th>4</th>\n",
       "      <td>1</td>\n",
       "      <td>Toy Story (1995)</td>\n",
       "      <td>1995-01-01</td>\n",
       "      <td>NaN</td>\n",
       "      <td>http://us.imdb.com/M/title-exact?Toy%20Story%2...</td>\n",
       "      <td>1995.0</td>\n",
       "      <td>66</td>\n",
       "      <td>3</td>\n",
       "      <td>883601324</td>\n",
       "    </tr>\n",
       "  </tbody>\n",
       "</table>\n",
       "</div>"
      ],
      "text/plain": [
       "   item_id             title release_date  video_release_date  \\\n",
       "0        1  Toy Story (1995)   1995-01-01                 NaN   \n",
       "1        1  Toy Story (1995)   1995-01-01                 NaN   \n",
       "2        1  Toy Story (1995)   1995-01-01                 NaN   \n",
       "3        1  Toy Story (1995)   1995-01-01                 NaN   \n",
       "4        1  Toy Story (1995)   1995-01-01                 NaN   \n",
       "\n",
       "                                            imdb_url  release_year  user_id  \\\n",
       "0  http://us.imdb.com/M/title-exact?Toy%20Story%2...        1995.0      308   \n",
       "1  http://us.imdb.com/M/title-exact?Toy%20Story%2...        1995.0      287   \n",
       "2  http://us.imdb.com/M/title-exact?Toy%20Story%2...        1995.0      148   \n",
       "3  http://us.imdb.com/M/title-exact?Toy%20Story%2...        1995.0      280   \n",
       "4  http://us.imdb.com/M/title-exact?Toy%20Story%2...        1995.0       66   \n",
       "\n",
       "   rating  timestamp  \n",
       "0       4  887736532  \n",
       "1       5  875334088  \n",
       "2       4  877019411  \n",
       "3       4  891700426  \n",
       "4       3  883601324  "
      ]
     },
     "execution_count": 6,
     "metadata": {},
     "output_type": "execute_result"
    }
   ],
   "source": [
    "all_ratings.head()"
   ]
  },
  {
   "cell_type": "markdown",
   "metadata": {},
   "source": [
    "### Data preprocessing\n",
    "\n",
    "It's always important to understand the data you've collected. Thankfully, Pandas continues to make this easy for us. Using the `describe` method, we can get a quick statistical summary of the data."
   ]
  },
  {
   "cell_type": "code",
   "execution_count": 7,
   "metadata": {},
   "outputs": [
    {
     "data": {
      "text/html": [
       "<div>\n",
       "<style scoped>\n",
       "    .dataframe tbody tr th:only-of-type {\n",
       "        vertical-align: middle;\n",
       "    }\n",
       "\n",
       "    .dataframe tbody tr th {\n",
       "        vertical-align: top;\n",
       "    }\n",
       "\n",
       "    .dataframe thead th {\n",
       "        text-align: right;\n",
       "    }\n",
       "</style>\n",
       "<table border=\"1\" class=\"dataframe\">\n",
       "  <thead>\n",
       "    <tr style=\"text-align: right;\">\n",
       "      <th></th>\n",
       "      <th>item_id</th>\n",
       "      <th>release_date</th>\n",
       "      <th>video_release_date</th>\n",
       "      <th>release_year</th>\n",
       "      <th>user_id</th>\n",
       "      <th>rating</th>\n",
       "      <th>timestamp</th>\n",
       "    </tr>\n",
       "  </thead>\n",
       "  <tbody>\n",
       "    <tr>\n",
       "      <th>count</th>\n",
       "      <td>100000.000000</td>\n",
       "      <td>99991</td>\n",
       "      <td>0.0</td>\n",
       "      <td>99991.000000</td>\n",
       "      <td>100000.00000</td>\n",
       "      <td>100000.000000</td>\n",
       "      <td>1.000000e+05</td>\n",
       "    </tr>\n",
       "    <tr>\n",
       "      <th>mean</th>\n",
       "      <td>425.530130</td>\n",
       "      <td>1988-02-09 00:43:11.369223296</td>\n",
       "      <td>NaN</td>\n",
       "      <td>1987.956216</td>\n",
       "      <td>462.48475</td>\n",
       "      <td>3.529860</td>\n",
       "      <td>8.835289e+08</td>\n",
       "    </tr>\n",
       "    <tr>\n",
       "      <th>min</th>\n",
       "      <td>1.000000</td>\n",
       "      <td>1922-01-01 00:00:00</td>\n",
       "      <td>NaN</td>\n",
       "      <td>1922.000000</td>\n",
       "      <td>1.00000</td>\n",
       "      <td>1.000000</td>\n",
       "      <td>8.747247e+08</td>\n",
       "    </tr>\n",
       "    <tr>\n",
       "      <th>25%</th>\n",
       "      <td>175.000000</td>\n",
       "      <td>1986-01-01 00:00:00</td>\n",
       "      <td>NaN</td>\n",
       "      <td>1986.000000</td>\n",
       "      <td>254.00000</td>\n",
       "      <td>3.000000</td>\n",
       "      <td>8.794487e+08</td>\n",
       "    </tr>\n",
       "    <tr>\n",
       "      <th>50%</th>\n",
       "      <td>322.000000</td>\n",
       "      <td>1994-01-01 00:00:00</td>\n",
       "      <td>NaN</td>\n",
       "      <td>1994.000000</td>\n",
       "      <td>447.00000</td>\n",
       "      <td>4.000000</td>\n",
       "      <td>8.828269e+08</td>\n",
       "    </tr>\n",
       "    <tr>\n",
       "      <th>75%</th>\n",
       "      <td>631.000000</td>\n",
       "      <td>1996-09-28 00:00:00</td>\n",
       "      <td>NaN</td>\n",
       "      <td>1996.000000</td>\n",
       "      <td>682.00000</td>\n",
       "      <td>4.000000</td>\n",
       "      <td>8.882600e+08</td>\n",
       "    </tr>\n",
       "    <tr>\n",
       "      <th>max</th>\n",
       "      <td>1682.000000</td>\n",
       "      <td>1998-10-23 00:00:00</td>\n",
       "      <td>NaN</td>\n",
       "      <td>1998.000000</td>\n",
       "      <td>943.00000</td>\n",
       "      <td>5.000000</td>\n",
       "      <td>8.932866e+08</td>\n",
       "    </tr>\n",
       "    <tr>\n",
       "      <th>std</th>\n",
       "      <td>330.798356</td>\n",
       "      <td>NaN</td>\n",
       "      <td>NaN</td>\n",
       "      <td>14.155523</td>\n",
       "      <td>266.61442</td>\n",
       "      <td>1.125674</td>\n",
       "      <td>5.343856e+06</td>\n",
       "    </tr>\n",
       "  </tbody>\n",
       "</table>\n",
       "</div>"
      ],
      "text/plain": [
       "             item_id                   release_date  video_release_date  \\\n",
       "count  100000.000000                          99991                 0.0   \n",
       "mean      425.530130  1988-02-09 00:43:11.369223296                 NaN   \n",
       "min         1.000000            1922-01-01 00:00:00                 NaN   \n",
       "25%       175.000000            1986-01-01 00:00:00                 NaN   \n",
       "50%       322.000000            1994-01-01 00:00:00                 NaN   \n",
       "75%       631.000000            1996-09-28 00:00:00                 NaN   \n",
       "max      1682.000000            1998-10-23 00:00:00                 NaN   \n",
       "std       330.798356                            NaN                 NaN   \n",
       "\n",
       "       release_year       user_id         rating     timestamp  \n",
       "count  99991.000000  100000.00000  100000.000000  1.000000e+05  \n",
       "mean    1987.956216     462.48475       3.529860  8.835289e+08  \n",
       "min     1922.000000       1.00000       1.000000  8.747247e+08  \n",
       "25%     1986.000000     254.00000       3.000000  8.794487e+08  \n",
       "50%     1994.000000     447.00000       4.000000  8.828269e+08  \n",
       "75%     1996.000000     682.00000       4.000000  8.882600e+08  \n",
       "max     1998.000000     943.00000       5.000000  8.932866e+08  \n",
       "std       14.155523     266.61442       1.125674  5.343856e+06  "
      ]
     },
     "execution_count": 7,
     "metadata": {},
     "output_type": "execute_result"
    }
   ],
   "source": [
    "all_ratings.describe()"
   ]
  },
  {
   "cell_type": "markdown",
   "metadata": {},
   "source": [
    "Let's do a bit more pandas magic to compute the popularity of each movie (number of ratings). We will use the `groupby` method to group the dataframe by the `item_id` column and then use the `size` method to compute the number of ratings for each movie. We will use the `reset_index` method to convert the resulting Series into a dataframe with an `item_id` column."
   ]
  },
  {
   "cell_type": "code",
   "execution_count": 8,
   "metadata": {},
   "outputs": [],
   "source": [
    "popularity = all_ratings.groupby('item_id').size().reset_index(name='popularity')\n",
    "items = pd.merge(popularity, items)"
   ]
  },
  {
   "cell_type": "code",
   "execution_count": 9,
   "metadata": {},
   "outputs": [
    {
     "data": {
      "image/png": "[encoded data removed]",
      "text/plain": [
       "<Figure size 640x480 with 1 Axes>"
      ]
     },
     "metadata": {},
     "output_type": "display_data"
    }
   ],
   "source": [
    "items['popularity'].plot.hist(bins=30);"
   ]
  },
  {
   "cell_type": "code",
   "execution_count": 10,
   "metadata": {},
   "outputs": [
    {
     "data": {
      "text/plain": [
       "141"
      ]
     },
     "execution_count": 10,
     "metadata": {},
     "output_type": "execute_result"
    }
   ],
   "source": [
    "(items['popularity'] == 1).sum() # Number of movies with only one rating"
   ]
  },
  {
   "cell_type": "code",
   "execution_count": 11,
   "metadata": {},
   "outputs": [
    {
     "data": {
      "text/plain": [
       "49                  Star Wars (1977)\n",
       "257                   Contact (1997)\n",
       "99                      Fargo (1996)\n",
       "180        Return of the Jedi (1983)\n",
       "293                 Liar Liar (1997)\n",
       "285      English Patient, The (1996)\n",
       "287                    Scream (1996)\n",
       "0                   Toy Story (1995)\n",
       "299             Air Force One (1997)\n",
       "120    Independence Day (ID4) (1996)\n",
       "Name: title, dtype: object"
      ]
     },
     "execution_count": 11,
     "metadata": {},
     "output_type": "execute_result"
    }
   ],
   "source": [
    "items.nlargest(10, 'popularity')['title'] # Get the 10 most popular movies"
   ]
  },
  {
   "cell_type": "code",
   "execution_count": 12,
   "metadata": {},
   "outputs": [
    {
     "data": {
      "text/html": [
       "<div>\n",
       "<style scoped>\n",
       "    .dataframe tbody tr th:only-of-type {\n",
       "        vertical-align: middle;\n",
       "    }\n",
       "\n",
       "    .dataframe tbody tr th {\n",
       "        vertical-align: top;\n",
       "    }\n",
       "\n",
       "    .dataframe thead th {\n",
       "        text-align: right;\n",
       "    }\n",
       "</style>\n",
       "<table border=\"1\" class=\"dataframe\">\n",
       "  <thead>\n",
       "    <tr style=\"text-align: right;\">\n",
       "      <th></th>\n",
       "      <th>item_id</th>\n",
       "      <th>popularity</th>\n",
       "      <th>release_date</th>\n",
       "      <th>video_release_date</th>\n",
       "      <th>release_year</th>\n",
       "      <th>user_id</th>\n",
       "      <th>rating</th>\n",
       "      <th>timestamp</th>\n",
       "    </tr>\n",
       "  </thead>\n",
       "  <tbody>\n",
       "    <tr>\n",
       "      <th>count</th>\n",
       "      <td>100000.000000</td>\n",
       "      <td>100000.000000</td>\n",
       "      <td>99991</td>\n",
       "      <td>0.0</td>\n",
       "      <td>99991.000000</td>\n",
       "      <td>100000.00000</td>\n",
       "      <td>100000.000000</td>\n",
       "      <td>1.000000e+05</td>\n",
       "    </tr>\n",
       "    <tr>\n",
       "      <th>mean</th>\n",
       "      <td>425.530130</td>\n",
       "      <td>168.071900</td>\n",
       "      <td>1988-02-09 00:43:11.369223296</td>\n",
       "      <td>NaN</td>\n",
       "      <td>1987.956216</td>\n",
       "      <td>462.48475</td>\n",
       "      <td>3.529860</td>\n",
       "      <td>8.835289e+08</td>\n",
       "    </tr>\n",
       "    <tr>\n",
       "      <th>min</th>\n",
       "      <td>1.000000</td>\n",
       "      <td>1.000000</td>\n",
       "      <td>1922-01-01 00:00:00</td>\n",
       "      <td>NaN</td>\n",
       "      <td>1922.000000</td>\n",
       "      <td>1.00000</td>\n",
       "      <td>1.000000</td>\n",
       "      <td>8.747247e+08</td>\n",
       "    </tr>\n",
       "    <tr>\n",
       "      <th>25%</th>\n",
       "      <td>175.000000</td>\n",
       "      <td>71.000000</td>\n",
       "      <td>1986-01-01 00:00:00</td>\n",
       "      <td>NaN</td>\n",
       "      <td>1986.000000</td>\n",
       "      <td>254.00000</td>\n",
       "      <td>3.000000</td>\n",
       "      <td>8.794487e+08</td>\n",
       "    </tr>\n",
       "    <tr>\n",
       "      <th>50%</th>\n",
       "      <td>322.000000</td>\n",
       "      <td>145.000000</td>\n",
       "      <td>1994-01-01 00:00:00</td>\n",
       "      <td>NaN</td>\n",
       "      <td>1994.000000</td>\n",
       "      <td>447.00000</td>\n",
       "      <td>4.000000</td>\n",
       "      <td>8.828269e+08</td>\n",
       "    </tr>\n",
       "    <tr>\n",
       "      <th>75%</th>\n",
       "      <td>631.000000</td>\n",
       "      <td>239.000000</td>\n",
       "      <td>1996-09-28 00:00:00</td>\n",
       "      <td>NaN</td>\n",
       "      <td>1996.000000</td>\n",
       "      <td>682.00000</td>\n",
       "      <td>4.000000</td>\n",
       "      <td>8.882600e+08</td>\n",
       "    </tr>\n",
       "    <tr>\n",
       "      <th>max</th>\n",
       "      <td>1682.000000</td>\n",
       "      <td>583.000000</td>\n",
       "      <td>1998-10-23 00:00:00</td>\n",
       "      <td>NaN</td>\n",
       "      <td>1998.000000</td>\n",
       "      <td>943.00000</td>\n",
       "      <td>5.000000</td>\n",
       "      <td>8.932866e+08</td>\n",
       "    </tr>\n",
       "    <tr>\n",
       "      <th>std</th>\n",
       "      <td>330.798356</td>\n",
       "      <td>121.784558</td>\n",
       "      <td>NaN</td>\n",
       "      <td>NaN</td>\n",
       "      <td>14.155523</td>\n",
       "      <td>266.61442</td>\n",
       "      <td>1.125674</td>\n",
       "      <td>5.343856e+06</td>\n",
       "    </tr>\n",
       "  </tbody>\n",
       "</table>\n",
       "</div>"
      ],
      "text/plain": [
       "             item_id     popularity                   release_date  \\\n",
       "count  100000.000000  100000.000000                          99991   \n",
       "mean      425.530130     168.071900  1988-02-09 00:43:11.369223296   \n",
       "min         1.000000       1.000000            1922-01-01 00:00:00   \n",
       "25%       175.000000      71.000000            1986-01-01 00:00:00   \n",
       "50%       322.000000     145.000000            1994-01-01 00:00:00   \n",
       "75%       631.000000     239.000000            1996-09-28 00:00:00   \n",
       "max      1682.000000     583.000000            1998-10-23 00:00:00   \n",
       "std       330.798356     121.784558                            NaN   \n",
       "\n",
       "       video_release_date  release_year       user_id         rating  \\\n",
       "count                 0.0  99991.000000  100000.00000  100000.000000   \n",
       "mean                  NaN   1987.956216     462.48475       3.529860   \n",
       "min                   NaN   1922.000000       1.00000       1.000000   \n",
       "25%                   NaN   1986.000000     254.00000       3.000000   \n",
       "50%                   NaN   1994.000000     447.00000       4.000000   \n",
       "75%                   NaN   1996.000000     682.00000       4.000000   \n",
       "max                   NaN   1998.000000     943.00000       5.000000   \n",
       "std                   NaN     14.155523     266.61442       1.125674   \n",
       "\n",
       "          timestamp  \n",
       "count  1.000000e+05  \n",
       "mean   8.835289e+08  \n",
       "min    8.747247e+08  \n",
       "25%    8.794487e+08  \n",
       "50%    8.828269e+08  \n",
       "75%    8.882600e+08  \n",
       "max    8.932866e+08  \n",
       "std    5.343856e+06  "
      ]
     },
     "execution_count": 12,
     "metadata": {},
     "output_type": "execute_result"
    }
   ],
   "source": [
    "all_ratings = pd.merge(popularity, all_ratings)\n",
    "all_ratings.describe()"
   ]
  },
  {
   "cell_type": "code",
   "execution_count": 13,
   "metadata": {
    "collapsed": false
   },
   "outputs": [],
   "source": [
    "indexed_items = items.set_index('item_id')"
   ]
  },
  {
   "cell_type": "code",
   "execution_count": 14,
   "metadata": {},
   "outputs": [
    {
     "data": {
      "text/html": [
       "<div>\n",
       "<style scoped>\n",
       "    .dataframe tbody tr th:only-of-type {\n",
       "        vertical-align: middle;\n",
       "    }\n",
       "\n",
       "    .dataframe tbody tr th {\n",
       "        vertical-align: top;\n",
       "    }\n",
       "\n",
       "    .dataframe thead th {\n",
       "        text-align: right;\n",
       "    }\n",
       "</style>\n",
       "<table border=\"1\" class=\"dataframe\">\n",
       "  <thead>\n",
       "    <tr style=\"text-align: right;\">\n",
       "      <th></th>\n",
       "      <th>item_id</th>\n",
       "      <th>popularity</th>\n",
       "      <th>title</th>\n",
       "      <th>release_date</th>\n",
       "      <th>video_release_date</th>\n",
       "      <th>imdb_url</th>\n",
       "      <th>release_year</th>\n",
       "      <th>user_id</th>\n",
       "      <th>rating</th>\n",
       "      <th>timestamp</th>\n",
       "    </tr>\n",
       "  </thead>\n",
       "  <tbody>\n",
       "    <tr>\n",
       "      <th>0</th>\n",
       "      <td>1</td>\n",
       "      <td>452</td>\n",
       "      <td>Toy Story (1995)</td>\n",
       "      <td>1995-01-01</td>\n",
       "      <td>NaN</td>\n",
       "      <td>http://us.imdb.com/M/title-exact?Toy%20Story%2...</td>\n",
       "      <td>1995.0</td>\n",
       "      <td>308</td>\n",
       "      <td>4</td>\n",
       "      <td>887736532</td>\n",
       "    </tr>\n",
       "    <tr>\n",
       "      <th>1</th>\n",
       "      <td>1</td>\n",
       "      <td>452</td>\n",
       "      <td>Toy Story (1995)</td>\n",
       "      <td>1995-01-01</td>\n",
       "      <td>NaN</td>\n",
       "      <td>http://us.imdb.com/M/title-exact?Toy%20Story%2...</td>\n",
       "      <td>1995.0</td>\n",
       "      <td>287</td>\n",
       "      <td>5</td>\n",
       "      <td>875334088</td>\n",
       "    </tr>\n",
       "    <tr>\n",
       "      <th>2</th>\n",
       "      <td>1</td>\n",
       "      <td>452</td>\n",
       "      <td>Toy Story (1995)</td>\n",
       "      <td>1995-01-01</td>\n",
       "      <td>NaN</td>\n",
       "      <td>http://us.imdb.com/M/title-exact?Toy%20Story%2...</td>\n",
       "      <td>1995.0</td>\n",
       "      <td>148</td>\n",
       "      <td>4</td>\n",
       "      <td>877019411</td>\n",
       "    </tr>\n",
       "    <tr>\n",
       "      <th>3</th>\n",
       "      <td>1</td>\n",
       "      <td>452</td>\n",
       "      <td>Toy Story (1995)</td>\n",
       "      <td>1995-01-01</td>\n",
       "      <td>NaN</td>\n",
       "      <td>http://us.imdb.com/M/title-exact?Toy%20Story%2...</td>\n",
       "      <td>1995.0</td>\n",
       "      <td>280</td>\n",
       "      <td>4</td>\n",
       "      <td>891700426</td>\n",
       "    </tr>\n",
       "    <tr>\n",
       "      <th>4</th>\n",
       "      <td>1</td>\n",
       "      <td>452</td>\n",
       "      <td>Toy Story (1995)</td>\n",
       "      <td>1995-01-01</td>\n",
       "      <td>NaN</td>\n",
       "      <td>http://us.imdb.com/M/title-exact?Toy%20Story%2...</td>\n",
       "      <td>1995.0</td>\n",
       "      <td>66</td>\n",
       "      <td>3</td>\n",
       "      <td>883601324</td>\n",
       "    </tr>\n",
       "  </tbody>\n",
       "</table>\n",
       "</div>"
      ],
      "text/plain": [
       "   item_id  popularity             title release_date  video_release_date  \\\n",
       "0        1         452  Toy Story (1995)   1995-01-01                 NaN   \n",
       "1        1         452  Toy Story (1995)   1995-01-01                 NaN   \n",
       "2        1         452  Toy Story (1995)   1995-01-01                 NaN   \n",
       "3        1         452  Toy Story (1995)   1995-01-01                 NaN   \n",
       "4        1         452  Toy Story (1995)   1995-01-01                 NaN   \n",
       "\n",
       "                                            imdb_url  release_year  user_id  \\\n",
       "0  http://us.imdb.com/M/title-exact?Toy%20Story%2...        1995.0      308   \n",
       "1  http://us.imdb.com/M/title-exact?Toy%20Story%2...        1995.0      287   \n",
       "2  http://us.imdb.com/M/title-exact?Toy%20Story%2...        1995.0      148   \n",
       "3  http://us.imdb.com/M/title-exact?Toy%20Story%2...        1995.0      280   \n",
       "4  http://us.imdb.com/M/title-exact?Toy%20Story%2...        1995.0       66   \n",
       "\n",
       "   rating  timestamp  \n",
       "0       4  887736532  \n",
       "1       5  875334088  \n",
       "2       4  877019411  \n",
       "3       4  891700426  \n",
       "4       3  883601324  "
      ]
     },
     "execution_count": 14,
     "metadata": {},
     "output_type": "execute_result"
    }
   ],
   "source": [
    "all_ratings.head()"
   ]
  },
  {
   "cell_type": "markdown",
   "metadata": {
    "collapsed": false
   },
   "source": [
    "**Quick Exercise**:\n",
    "\n",
    "As we have seen, the `groupby` method is a powerful tool to quickly compute statistics on the data. Use it to compute the average rating for each movie.\n",
    "\n",
    "**Hint**: you can use the `mean` method after the `groupby` method."
   ]
  },
  {
   "cell_type": "code",
   "execution_count": 15,
   "metadata": {
    "collapsed": false
   },
   "outputs": [
    {
     "name": "stdout",
     "output_type": "stream",
     "text": [
      "title\n",
      "'Til There Was You (1997)                2.333333\n",
      "1-900 (1994)                             2.600000\n",
      "101 Dalmatians (1996)                    2.908257\n",
      "12 Angry Men (1957)                      4.344000\n",
      "187 (1997)                               3.024390\n",
      "                                           ...   \n",
      "Young Guns II (1990)                     2.772727\n",
      "Young Poisoner's Handbook, The (1995)    3.341463\n",
      "Zeus and Roxanne (1997)                  2.166667\n",
      "unknown                                  3.444444\n",
      "Á köldum klaka (Cold Fever) (1994)       3.000000\n",
      "Name: rating, Length: 1664, dtype: float64\n"
     ]
    }
   ],
   "source": [
    "# raise NotImplementedError(\"Please calculate the average rating for each movie\")\n",
    "# Group by movie title and calculate the mean rating\n",
    "average_ratings = all_ratings.groupby('title')['rating'].mean()\n",
    "\n",
    "# Display the result\n",
    "print(average_ratings)"
   ]
  },
  {
   "cell_type": "markdown",
   "metadata": {},
   "source": [
    "Let's split the enriched data in a train / test split to make it possible to do predictive modeling:"
   ]
  },
  {
   "cell_type": "code",
   "execution_count": 16,
   "metadata": {},
   "outputs": [],
   "source": [
    "from sklearn.model_selection import train_test_split\n",
    "\n",
    "ratings_train, ratings_test = train_test_split(\n",
    "    all_ratings, test_size=0.2, random_state=0)\n",
    "\n",
    "user_id_train = np.array(ratings_train['user_id'])\n",
    "item_id_train = np.array(ratings_train['item_id'])\n",
    "rating_train = np.array(ratings_train['rating'])\n",
    "\n",
    "user_id_test = np.array(ratings_test['user_id'])\n",
    "item_id_test = np.array(ratings_test['item_id'])\n",
    "rating_test = np.array(ratings_test['rating'])"
   ]
  },
  {
   "cell_type": "markdown",
   "metadata": {},
   "source": [
    "# Explicit feedback: supervised ratings prediction\n",
    "\n",
    "Now let's begin to do some recommendation! We will build a model that takes a user and a movie as input and outputs a predicted rating. We will be taking advantage of embeddings to represent users and movies. That means that each movie and user will have an abstract representation in a continuous vector space. The model will learn these representations based on the ratings."
   ]
  },
  {
   "cell_type": "markdown",
   "metadata": {},
   "source": [
    "## Predictive ratings  as a regression problem\n",
    "\n",
    "The following code implements the following architecture:\n",
    "\n",
    "<img src=\"https://raw.githubusercontent.com/UofT-DSI/deep_learning/refs/heads/main/01_materials/labs/images/rec_archi_1.svg\" style=\"width: 600px;\" />"
   ]
  },
  {
   "cell_type": "code",
   "execution_count": 64,
   "metadata": {},
   "outputs": [],
   "source": [
    "from tensorflow.keras.layers import Embedding, Flatten, Dense, Dropout\n",
    "from tensorflow.keras.layers import Dot\n",
    "from tensorflow.keras.models import Model\n",
    "from tensorflow.keras.regularizers import l2"
   ]
  },
  {
   "cell_type": "code",
   "execution_count": 18,
   "metadata": {},
   "outputs": [],
   "source": [
    "# For each sample we input the integer identifiers\n",
    "# of a single user and a single item\n",
    "class RegressionModel(Model):\n",
    "    def __init__(self, embedding_size, max_user_id, max_item_id):\n",
    "        super().__init__()\n",
    "        \n",
    "        self.user_embedding = Embedding(output_dim=embedding_size,\n",
    "                                        input_dim=max_user_id + 1,\n",
    "                                        name='user_embedding')\n",
    "        self.item_embedding = Embedding(output_dim=embedding_size,\n",
    "                                        input_dim=max_item_id + 1,\n",
    "                                        name='item_embedding')\n",
    "        \n",
    "        # The following two layers don't have parameters.\n",
    "        self.flatten = Flatten()\n",
    "        self.dot = Dot(axes=1)\n",
    "        \n",
    "    def call(self, inputs):\n",
    "        user_inputs = inputs[0]\n",
    "        item_inputs = inputs[1]\n",
    "        \n",
    "        user_vecs = self.flatten(self.user_embedding(user_inputs))\n",
    "        item_vecs = self.flatten(self.item_embedding(item_inputs))\n",
    "        \n",
    "        y = self.dot([user_vecs, item_vecs])\n",
    "        return y\n",
    "\n",
    "\n",
    "model = RegressionModel(embedding_size=64, max_user_id=all_ratings['user_id'].max(), max_item_id=all_ratings['item_id'].max())\n",
    "model.compile(optimizer=\"adam\", loss='mae')"
   ]
  },
  {
   "cell_type": "markdown",
   "metadata": {},
   "source": [
    "### Monitoring runs\n",
    "\n",
    "When training a model with Keras, we get a `history` object back that contains lots of information about the training run. We can use this to plot the training and validation loss to see how the model has improved during training."
   ]
  },
  {
   "cell_type": "code",
   "execution_count": 19,
   "metadata": {},
   "outputs": [
    {
     "name": "stdout",
     "output_type": "stream",
     "text": [
      "Epoch 1/10\n",
      "\u001b[1m1125/1125\u001b[0m \u001b[32m━━━━━━━━━━━━━━━━━━━━\u001b[0m\u001b[37m\u001b[0m \u001b[1m2s\u001b[0m 980us/step - loss: 3.2934 - val_loss: 1.0383\n",
      "Epoch 2/10\n",
      "\u001b[1m1125/1125\u001b[0m \u001b[32m━━━━━━━━━━━━━━━━━━━━\u001b[0m\u001b[37m\u001b[0m \u001b[1m1s\u001b[0m 925us/step - loss: 0.9024 - val_loss: 0.7951\n",
      "Epoch 3/10\n",
      "\u001b[1m1125/1125\u001b[0m \u001b[32m━━━━━━━━━━━━━━━━━━━━\u001b[0m\u001b[37m\u001b[0m \u001b[1m1s\u001b[0m 1ms/step - loss: 0.7555 - val_loss: 0.7717\n",
      "Epoch 4/10\n",
      "\u001b[1m1125/1125\u001b[0m \u001b[32m━━━━━━━━━━━━━━━━━━━━\u001b[0m\u001b[37m\u001b[0m \u001b[1m1s\u001b[0m 1ms/step - loss: 0.7296 - val_loss: 0.7591\n",
      "Epoch 5/10\n",
      "\u001b[1m1125/1125\u001b[0m \u001b[32m━━━━━━━━━━━━━━━━━━━━\u001b[0m\u001b[37m\u001b[0m \u001b[1m1s\u001b[0m 1ms/step - loss: 0.7094 - val_loss: 0.7537\n",
      "Epoch 6/10\n",
      "\u001b[1m1125/1125\u001b[0m \u001b[32m━━━━━━━━━━━━━━━━━━━━\u001b[0m\u001b[37m\u001b[0m \u001b[1m1s\u001b[0m 1ms/step - loss: 0.6875 - val_loss: 0.7422\n",
      "Epoch 7/10\n",
      "\u001b[1m1125/1125\u001b[0m \u001b[32m━━━━━━━━━━━━━━━━━━━━\u001b[0m\u001b[37m\u001b[0m \u001b[1m1s\u001b[0m 959us/step - loss: 0.6648 - val_loss: 0.7409\n",
      "Epoch 8/10\n",
      "\u001b[1m1125/1125\u001b[0m \u001b[32m━━━━━━━━━━━━━━━━━━━━\u001b[0m\u001b[37m\u001b[0m \u001b[1m1s\u001b[0m 969us/step - loss: 0.6498 - val_loss: 0.7383\n",
      "Epoch 9/10\n",
      "\u001b[1m1125/1125\u001b[0m \u001b[32m━━━━━━━━━━━━━━━━━━━━\u001b[0m\u001b[37m\u001b[0m \u001b[1m1s\u001b[0m 961us/step - loss: 0.6221 - val_loss: 0.7380\n",
      "Epoch 10/10\n",
      "\u001b[1m1125/1125\u001b[0m \u001b[32m━━━━━━━━━━━━━━━━━━━━\u001b[0m\u001b[37m\u001b[0m \u001b[1m1s\u001b[0m 1ms/step - loss: 0.5989 - val_loss: 0.7365\n",
      "CPU times: user 14.3 s, sys: 4.24 s, total: 18.5 s\n",
      "Wall time: 11.9 s\n"
     ]
    }
   ],
   "source": [
    "%%time\n",
    "\n",
    "# Training the model\n",
    "history = model.fit([user_id_train, item_id_train], rating_train,\n",
    "                    batch_size=64, epochs=10, validation_split=0.1,\n",
    "                    shuffle=True)"
   ]
  },
  {
   "cell_type": "code",
   "execution_count": 20,
   "metadata": {},
   "outputs": [
    {
     "data": {
      "image/png": "[encoded data removed]",
      "text/plain": [
       "<Figure size 640x480 with 1 Axes>"
      ]
     },
     "metadata": {},
     "output_type": "display_data"
    }
   ],
   "source": [
    "plt.plot(history.history['loss'], label='train')\n",
    "plt.plot(history.history['val_loss'], label='validation')\n",
    "plt.ylim(0, 2)\n",
    "plt.legend(loc='best')\n",
    "plt.title('Loss');"
   ]
  },
  {
   "cell_type": "markdown",
   "metadata": {},
   "source": [
    "**Questions**:\n",
    "\n",
    "- Does it look like our model has overfit? Why or why not?  \n",
    "Your Answer: No because the loss curves are close together and are both decreasing, which suggests that the model is generalizing well to unseen data. \n",
    "- Suggest something we could do to prevent overfitting.  \n",
    "Your Answer: To prevent overfitting, we can add dropout layers, reduce the model's complexity (fewer neurons), or use L2 regularization.\n",
    "\n",
    "Now that the model is trained, let's check out the quality of predictions:"
   ]
  },
  {
   "cell_type": "code",
   "execution_count": 21,
   "metadata": {},
   "outputs": [],
   "source": [
    "def plot_predictions(y_true, y_pred):\n",
    "    plt.figure(figsize=(4, 4))\n",
    "    plt.xlim(-1, 6)\n",
    "    plt.xlabel(\"True rating\")\n",
    "    plt.ylim(-1, 6)\n",
    "    plt.ylabel(\"Predicted rating\")\n",
    "    plt.scatter(y_true, y_pred, s=60, alpha=0.01)"
   ]
  },
  {
   "cell_type": "code",
   "execution_count": 22,
   "metadata": {},
   "outputs": [
    {
     "name": "stdout",
     "output_type": "stream",
     "text": [
      "\u001b[1m625/625\u001b[0m \u001b[32m━━━━━━━━━━━━━━━━━━━━\u001b[0m\u001b[37m\u001b[0m \u001b[1m0s\u001b[0m 502us/step\n",
      "Final test MSE: 0.908\n",
      "Final test MAE: 0.733\n"
     ]
    },
    {
     "data": {
      "image/png": "[encoded data removed]",
      "text/plain": [
       "<Figure size 400x400 with 1 Axes>"
      ]
     },
     "metadata": {},
     "output_type": "display_data"
    }
   ],
   "source": [
    "from sklearn.metrics import mean_squared_error\n",
    "from sklearn.metrics import mean_absolute_error\n",
    "\n",
    "test_preds = model.predict([user_id_test, item_id_test])\n",
    "print(\"Final test MSE: %0.3f\" % mean_squared_error(test_preds, rating_test))\n",
    "print(\"Final test MAE: %0.3f\" % mean_absolute_error(test_preds, rating_test))\n",
    "plot_predictions(rating_test, test_preds)"
   ]
  },
  {
   "cell_type": "markdown",
   "metadata": {
    "collapsed": false
   },
   "source": [
    "This graph shows us the range of predicted ratings our model gives, organized by the true rating. We can see that generally, the higher the true rating the higher the predicted rating, although there is quite a range of predictions for each instance. That's okay - our model is very simple, and human preferences are very complex!\n",
    "\n",
    "Taking a look at the Mean Absolute Error, hopefully you got something around 0.75. This means that, on average, our predicted ratings are about 0.75 stars off from the true ratings. This is a pretty good result for a first attempt. We could probably do better with a more complex model, but we'll leave that for another time."
   ]
  },
  {
   "cell_type": "markdown",
   "metadata": {},
   "source": [
    "### Model Embeddings\n",
    "\n",
    "Our model was built with two embedding layers. These layers have learned a representation of both the users and the movies in our dataset. We can extract these representations and use them to find similar movies or users. We can also do interesting exploratory analysis, like finding the most popular movies among our users, or finding the users that are most interested in a given movie."
   ]
  },
  {
   "cell_type": "code",
   "execution_count": 23,
   "metadata": {},
   "outputs": [
    {
     "data": {
      "text/plain": [
       "[(944, 64), (1683, 64)]"
      ]
     },
     "execution_count": 23,
     "metadata": {},
     "output_type": "execute_result"
    }
   ],
   "source": [
    "# weights and shape\n",
    "weights = model.get_weights()\n",
    "[w.shape for w in weights]"
   ]
  },
  {
   "cell_type": "code",
   "execution_count": 24,
   "metadata": {},
   "outputs": [],
   "source": [
    "user_embeddings = weights[0]\n",
    "item_embeddings = weights[1]"
   ]
  },
  {
   "cell_type": "code",
   "execution_count": 25,
   "metadata": {},
   "outputs": [
    {
     "name": "stdout",
     "output_type": "stream",
     "text": [
      "Title for item_id=181: Return of the Jedi (1983)\n"
     ]
    }
   ],
   "source": [
    "item_id = 181\n",
    "print(f\"Title for item_id={item_id}: {indexed_items['title'][item_id]}\")"
   ]
  },
  {
   "cell_type": "code",
   "execution_count": 26,
   "metadata": {},
   "outputs": [
    {
     "name": "stdout",
     "output_type": "stream",
     "text": [
      "Embedding vector for item_id=181\n",
      "[ 0.12347355  0.37604868 -0.28109887 -0.47046036 -0.30556723  0.17709593\n",
      "  0.14362685 -0.4953231   0.00415843  0.3287843   0.48923305 -0.04085323\n",
      "  0.30362785  0.3380714  -0.02633543 -0.1868689   0.3254037  -0.45691913\n",
      "  0.40216804  0.71728605  0.1369663   0.53129846  0.45337102  0.09370684\n",
      "  0.13428618  0.29343188 -0.15574522  0.3902322   0.30038062  0.105121\n",
      " -0.43978438  0.22913861  0.40730685  0.36144838 -0.3576617  -0.09274703\n",
      "  0.47938234 -0.23497368  0.3545711  -0.02325232 -0.2989424  -0.35314998\n",
      "  0.00237839 -0.53297895  0.45744553 -0.03118515 -0.4623779   0.46017578\n",
      " -0.3615944  -0.05143905 -0.44870022 -0.02779488 -0.3882264  -0.49820533\n",
      "  0.09817816 -0.23738658  0.30209145  0.518597    0.52326804 -0.00713928\n",
      "  0.36135936  0.39051697  0.21969931  0.2436011 ]\n",
      "shape: (64,)\n"
     ]
    }
   ],
   "source": [
    "print(f\"Embedding vector for item_id={item_id}\")\n",
    "print(item_embeddings[item_id])\n",
    "print(\"shape:\", item_embeddings[item_id].shape)"
   ]
  },
  {
   "cell_type": "markdown",
   "metadata": {
    "collapsed": false
   },
   "source": [
    "As we discussed in lecture, our embeddings are not directly interpretable - we can't look at, say, a value of 0.297 in the embedding vector and say \"this means that the movie is a drama\". As an aside, there is a field of research dedicated to making _interpretable_ embeddings, but it's not something we'll cover in this course. "
   ]
  },
  {
   "cell_type": "markdown",
   "metadata": {},
   "source": [
    "### Finding our most similar items\n",
    "\n",
    "Now we can have some fun, investigating the embeddings we've learned. We can start by finding the most similar items to a given item. We can do this by computing the cosine similarity between the item's embedding and the embedding of every other item. We can use the `cosine_similarity` function from `sklearn` to do this."
   ]
  },
  {
   "cell_type": "code",
   "execution_count": 27,
   "metadata": {
    "collapsed": false
   },
   "outputs": [],
   "source": [
    "from sklearn.metrics.pairwise import cosine_similarity\n",
    "\n",
    "def cosine(a, b):\n",
    "    # Reshape to the shape our function expects\n",
    "    a = a.reshape(1, -1)\n",
    "    b = b.reshape(1, -1)\n",
    "    return cosine_similarity(a, b)[0, 0]"
   ]
  },
  {
   "cell_type": "code",
   "execution_count": 28,
   "metadata": {},
   "outputs": [
    {
     "name": "stdout",
     "output_type": "stream",
     "text": [
      "Star Wars (1977)\n",
      "Return of the Jedi (1983)\n",
      "Cosine similarity: 0.921\n"
     ]
    }
   ],
   "source": [
    "def print_similarity(item_a, item_b, item_embeddings, titles):\n",
    "    print(titles[item_a])\n",
    "    print(titles[item_b])\n",
    "    similarity = cosine(item_embeddings[item_a],\n",
    "                        item_embeddings[item_b])\n",
    "    print(f\"Cosine similarity: {similarity:.3}\")\n",
    "    \n",
    "print_similarity(50, 181, item_embeddings, indexed_items[\"title\"])"
   ]
  },
  {
   "cell_type": "markdown",
   "metadata": {
    "collapsed": false
   },
   "source": [
    "It makes sense that the original Star Wars, and its later sequel Return of the Jedi have a high similarity. Let's try some other examples:"
   ]
  },
  {
   "cell_type": "code",
   "execution_count": 29,
   "metadata": {},
   "outputs": [
    {
     "name": "stdout",
     "output_type": "stream",
     "text": [
      "Return of the Jedi (1983)\n",
      "Scream (1996)\n",
      "Cosine similarity: 0.75\n"
     ]
    }
   ],
   "source": [
    "print_similarity(181, 288, item_embeddings, indexed_items[\"title\"])"
   ]
  },
  {
   "cell_type": "code",
   "execution_count": 30,
   "metadata": {},
   "outputs": [
    {
     "name": "stdout",
     "output_type": "stream",
     "text": [
      "Return of the Jedi (1983)\n",
      "Toy Story (1995)\n",
      "Cosine similarity: 0.797\n"
     ]
    }
   ],
   "source": [
    "print_similarity(181, 1, item_embeddings, indexed_items[\"title\"])"
   ]
  },
  {
   "cell_type": "code",
   "execution_count": 31,
   "metadata": {},
   "outputs": [
    {
     "name": "stdout",
     "output_type": "stream",
     "text": [
      "Return of the Jedi (1983)\n",
      "Return of the Jedi (1983)\n",
      "Cosine similarity: 1.0\n"
     ]
    }
   ],
   "source": [
    "print_similarity(181, 181, item_embeddings, indexed_items[\"title\"])"
   ]
  },
  {
   "cell_type": "markdown",
   "metadata": {
    "collapsed": false
   },
   "source": [
    "*Quick Exercise*:\n",
    "\n",
    "- Find some other films and compare their similarity. Do the results make sense to you? Can you find a pair of films that are very _dissimilar_?"
   ]
  },
  {
   "cell_type": "code",
   "execution_count": 45,
   "metadata": {
    "collapsed": false
   },
   "outputs": [
    {
     "data": {
      "text/html": [
       "<div>\n",
       "<style scoped>\n",
       "    .dataframe tbody tr th:only-of-type {\n",
       "        vertical-align: middle;\n",
       "    }\n",
       "\n",
       "    .dataframe tbody tr th {\n",
       "        vertical-align: top;\n",
       "    }\n",
       "\n",
       "    .dataframe thead th {\n",
       "        text-align: right;\n",
       "    }\n",
       "</style>\n",
       "<table border=\"1\" class=\"dataframe\">\n",
       "  <thead>\n",
       "    <tr style=\"text-align: right;\">\n",
       "      <th></th>\n",
       "      <th>popularity</th>\n",
       "      <th>title</th>\n",
       "      <th>release_date</th>\n",
       "      <th>video_release_date</th>\n",
       "      <th>imdb_url</th>\n",
       "      <th>release_year</th>\n",
       "    </tr>\n",
       "    <tr>\n",
       "      <th>item_id</th>\n",
       "      <th></th>\n",
       "      <th></th>\n",
       "      <th></th>\n",
       "      <th></th>\n",
       "      <th></th>\n",
       "      <th></th>\n",
       "    </tr>\n",
       "  </thead>\n",
       "  <tbody>\n",
       "    <tr>\n",
       "      <th>181</th>\n",
       "      <td>507</td>\n",
       "      <td>Return of the Jedi (1983)</td>\n",
       "      <td>1997-03-14</td>\n",
       "      <td>NaN</td>\n",
       "      <td>http://us.imdb.com/M/title-exact?Return%20of%2...</td>\n",
       "      <td>1997.0</td>\n",
       "    </tr>\n",
       "  </tbody>\n",
       "</table>\n",
       "</div>"
      ],
      "text/plain": [
       "         popularity                      title release_date  \\\n",
       "item_id                                                       \n",
       "181             507  Return of the Jedi (1983)   1997-03-14   \n",
       "\n",
       "         video_release_date  \\\n",
       "item_id                       \n",
       "181                     NaN   \n",
       "\n",
       "                                                  imdb_url  release_year  \n",
       "item_id                                                                   \n",
       "181      http://us.imdb.com/M/title-exact?Return%20of%2...        1997.0  "
      ]
     },
     "execution_count": 45,
     "metadata": {},
     "output_type": "execute_result"
    }
   ],
   "source": [
    "# Code to help you search for a movie title\n",
    "partial_title = \"Jedi\"\n",
    "indexed_items[indexed_items['title'].str.contains(partial_title)]\n",
    "\n",
    "# raise NotImplementedError(\"Please implement the next steps yourself\")"
   ]
  },
  {
   "cell_type": "markdown",
   "metadata": {
    "collapsed": false
   },
   "source": [
    "Sometimes, even without knowing anything about a user, we can recommend films by asking them about a film that they do like. The code below compares the similarity of a given film to all others, and returns the most similar films."
   ]
  },
  {
   "cell_type": "code",
   "execution_count": 46,
   "metadata": {},
   "outputs": [
    {
     "data": {
      "text/plain": [
       "[(50, 'Star Wars (1977)', 1.0),\n",
       " (172, 'Empire Strikes Back, The (1980)', 0.9263582),\n",
       " (181, 'Return of the Jedi (1983)', 0.92066026),\n",
       " (183, 'Alien (1979)', 0.9104257),\n",
       " (195, 'Terminator, The (1984)', 0.8931403),\n",
       " (89, 'Blade Runner (1982)', 0.88950235),\n",
       " (1681, 'You So Crazy (1994)', 0.8784523),\n",
       " (173, 'Princess Bride, The (1987)', 0.87662184),\n",
       " (176, 'Aliens (1986)', 0.87615854),\n",
       " (168, 'Monty Python and the Holy Grail (1974)', 0.87302625)]"
      ]
     },
     "execution_count": 46,
     "metadata": {},
     "output_type": "execute_result"
    }
   ],
   "source": [
    "def most_similar(item_id, item_embeddings, titles,\n",
    "                 top_n=30):\n",
    "    # Compute the cosine similarity between the item and all other items\n",
    "    sims = cosine_similarity(item_embeddings[item_id].reshape(1, -1),\n",
    "                             item_embeddings).ravel()\n",
    "    \n",
    "    # [::-1] makes it possible to reverse the order of a numpy\n",
    "    # array, this is required because most similar items have\n",
    "    # a larger cosine similarity value\n",
    "    sorted_indexes = np.argsort(sims)[::-1]\n",
    "    idxs = sorted_indexes[0:top_n]\n",
    "    return list(zip(idxs, titles[idxs], sims[idxs]))\n",
    "\n",
    "# Find the most similar films to \"Star Wars\"\n",
    "most_similar(50, item_embeddings, indexed_items[\"title\"], top_n=10)"
   ]
  },
  {
   "cell_type": "code",
   "execution_count": 47,
   "metadata": {},
   "outputs": [
    {
     "data": {
      "text/plain": [
       "[(227, 'Star Trek VI: The Undiscovered Country (1991)', 1.0),\n",
       " (431, 'Highlander (1986)', 0.89479196),\n",
       " (1627, 'Wife, The (1995)', 0.89391136),\n",
       " (228, 'Star Trek: The Wrath of Khan (1982)', 0.8900826),\n",
       " (202, 'Groundhog Day (1993)', 0.88939583),\n",
       " (210, 'Indiana Jones and the Last Crusade (1989)', 0.88515115),\n",
       " (290, 'Fierce Creatures (1997)', 0.8783024),\n",
       " (123, 'Frighteners, The (1996)', 0.87697273),\n",
       " (101, 'Heavy Metal (1981)', 0.87647784),\n",
       " (181, 'Return of the Jedi (1983)', 0.8748857)]"
      ]
     },
     "execution_count": 47,
     "metadata": {},
     "output_type": "execute_result"
    }
   ],
   "source": [
    "# Find the most similar films to \"Star Trek VI: The Undiscovered Country\"\n",
    "most_similar(227, item_embeddings, indexed_items[\"title\"], top_n=10)"
   ]
  },
  {
   "cell_type": "markdown",
   "metadata": {},
   "source": [
    "The similarities do not always make sense: the number of ratings is low and the embedding  does not automatically capture semantic relationships in that context. Better representations arise with higher number of ratings, and less overfitting  in models or maybe better loss function, such as those based on implicit feedback."
   ]
  },
  {
   "cell_type": "markdown",
   "metadata": {},
   "source": [
    "### Visualizing embeddings using TSNE\n",
    "\n",
    "The [t-SNE](https://en.wikipedia.org/wiki/T-distributed_stochastic_neighbor_embedding) algorithm enables us to visualize high dimensional vectors in a 2D space by preserving local neighborhoods. We can use it to get a 2D visualization of the item embeddings and see if similar items are close in the embedding space."
   ]
  },
  {
   "cell_type": "code",
   "execution_count": 35,
   "metadata": {},
   "outputs": [],
   "source": [
    "from sklearn.manifold import TSNE\n",
    "\n",
    "item_tsne = TSNE(learning_rate=\"auto\", init=\"pca\", perplexity=30).fit_transform(item_embeddings)"
   ]
  },
  {
   "cell_type": "code",
   "execution_count": 36,
   "metadata": {},
   "outputs": [
    {
     "data": {
      "image/png": "[encoded data removed]",
      "text/plain": [
       "<Figure size 1000x1000 with 1 Axes>"
      ]
     },
     "metadata": {},
     "output_type": "display_data"
    }
   ],
   "source": [
    "import matplotlib.pyplot as plt\n",
    "\n",
    "plt.figure(figsize=(10, 10))\n",
    "plt.scatter(item_tsne[:, 0], item_tsne[:, 1]);\n",
    "plt.xticks(()); plt.yticks(());\n",
    "plt.show()"
   ]
  },
  {
   "cell_type": "code",
   "execution_count": 37,
   "metadata": {
    "tags": []
   },
   "outputs": [
    {
     "data": {
      "application/vnd.plotly.v1+json": {
       "config": {
        "plotlyServerURL": "https://plot.ly"
       },
       "data": [
        {
         "customdata": [
          [
           1,
           "Toy Story (1995)",
           452
          ],
          [
           2,
           "GoldenEye (1995)",
           131
          ],
          [
           3,
           "Four Rooms (1995)",
           90
          ],
          [
           4,
           "Get Shorty (1995)",
           209
          ],
          [
           5,
           "Copycat (1995)",
           86
          ],
          [
           6,
           "Shanghai Triad (Yao a yao yao dao waipo qiao) (1995)",
           26
          ],
          [
           7,
           "Twelve Monkeys (1995)",
           392
          ],
          [
           8,
           "Babe (1995)",
           219
          ],
          [
           9,
           "Dead Man Walking (1995)",
           299
          ],
          [
           10,
           "Richard III (1995)",
           89
          ],
          [
           11,
           "Seven (Se7en) (1995)",
           236
          ],
          [
           12,
           "Usual Suspects, The (1995)",
           267
          ],
          [
           13,
           "Mighty Aphrodite (1995)",
           184
          ],
          [
           14,
           "Postino, Il (1994)",
           183
          ],
          [
           15,
           "Mr. Holland's Opus (1995)",
           293
          ],
          [
           16,
           "French Twist (Gazon maudit) (1995)",
           39
          ],
          [
           17,
           "From Dusk Till Dawn (1996)",
           92
          ],
          [
           18,
           "White Balloon, The (1995)",
           10
          ],
          [
           19,
           "Antonia's Line (1995)",
           69
          ],
          [
           20,
           "Angels and Insects (1995)",
           72
          ],
          [
           21,
           "Muppet Treasure Island (1996)",
           84
          ],
          [
           22,
           "Braveheart (1995)",
           297
          ],
          [
           23,
           "Taxi Driver (1976)",
           182
          ],
          [
           24,
           "Rumble in the Bronx (1995)",
           174
          ],
          [
           25,
           "Birdcage, The (1996)",
           293
          ],
          [
           26,
           "Brothers McMullen, The (1995)",
           73
          ],
          [
           27,
           "Bad Boys (1995)",
           57
          ],
          [
           28,
           "Apollo 13 (1995)",
           276
          ],
          [
           29,
           "Batman Forever (1995)",
           114
          ],
          [
           30,
           "Belle de jour (1967)",
           37
          ],
          [
           31,
           "Crimson Tide (1995)",
           154
          ],
          [
           32,
           "Crumb (1994)",
           81
          ],
          [
           33,
           "Desperado (1995)",
           97
          ],
          [
           34,
           "Doom Generation, The (1995)",
           7
          ],
          [
           35,
           "Free Willy 2: The Adventure Home (1995)",
           11
          ],
          [
           36,
           "Mad Love (1995)",
           13
          ],
          [
           37,
           "Nadja (1994)",
           8
          ],
          [
           38,
           "Net, The (1995)",
           120
          ],
          [
           39,
           "Strange Days (1995)",
           87
          ],
          [
           40,
           "To Wong Foo, Thanks for Everything! Julie Newmar (1995)",
           57
          ],
          [
           41,
           "Billy Madison (1995)",
           37
          ],
          [
           42,
           "Clerks (1994)",
           148
          ],
          [
           43,
           "Disclosure (1994)",
           40
          ],
          [
           44,
           "Dolores Claiborne (1994)",
           79
          ],
          [
           45,
           "Eat Drink Man Woman (1994)",
           80
          ],
          [
           46,
           "Exotica (1994)",
           27
          ],
          [
           47,
           "Ed Wood (1994)",
           133
          ],
          [
           48,
           "Hoop Dreams (1994)",
           117
          ],
          [
           49,
           "I.Q. (1994)",
           81
          ],
          [
           50,
           "Star Wars (1977)",
           583
          ],
          [
           51,
           "Legends of the Fall (1994)",
           81
          ],
          [
           52,
           "Madness of King George, The (1994)",
           91
          ],
          [
           53,
           "Natural Born Killers (1994)",
           128
          ],
          [
           54,
           "Outbreak (1995)",
           104
          ],
          [
           55,
           "Professional, The (1994)",
           149
          ],
          [
           56,
           "Pulp Fiction (1994)",
           394
          ],
          [
           57,
           "Priest (1994)",
           40
          ],
          [
           58,
           "Quiz Show (1994)",
           175
          ],
          [
           59,
           "Three Colors: Red (1994)",
           83
          ],
          [
           60,
           "Three Colors: Blue (1993)",
           64
          ],
          [
           61,
           "Three Colors: White (1994)",
           59
          ],
          [
           62,
           "Stargate (1994)",
           127
          ],
          [
           63,
           "Santa Clause, The (1994)",
           82
          ],
          [
           64,
           "Shawshank Redemption, The (1994)",
           283
          ],
          [
           65,
           "What's Eating Gilbert Grape (1993)",
           115
          ],
          [
           66,
           "While You Were Sleeping (1995)",
           162
          ],
          [
           67,
           "Ace Ventura: Pet Detective (1994)",
           103
          ],
          [
           68,
           "Crow, The (1994)",
           134
          ],
          [
           69,
           "Forrest Gump (1994)",
           321
          ],
          [
           70,
           "Four Weddings and a Funeral (1994)",
           251
          ],
          [
           71,
           "Lion King, The (1994)",
           220
          ],
          [
           72,
           "Mask, The (1994)",
           129
          ],
          [
           73,
           "Maverick (1994)",
           128
          ],
          [
           74,
           "Faster Pussycat! Kill! Kill! (1965)",
           7
          ],
          [
           75,
           "Brother Minister: The Assassination of Malcolm X (1994)",
           5
          ],
          [
           76,
           "Carlito's Way (1993)",
           54
          ],
          [
           77,
           "Firm, The (1993)",
           151
          ],
          [
           78,
           "Free Willy (1993)",
           33
          ],
          [
           79,
           "Fugitive, The (1993)",
           336
          ],
          [
           80,
           "Hot Shots! Part Deux (1993)",
           68
          ],
          [
           81,
           "Hudsucker Proxy, The (1994)",
           110
          ],
          [
           82,
           "Jurassic Park (1993)",
           261
          ],
          [
           83,
           "Much Ado About Nothing (1993)",
           176
          ],
          [
           84,
           "Robert A. Heinlein's The Puppet Masters (1994)",
           18
          ],
          [
           85,
           "Ref, The (1994)",
           58
          ],
          [
           86,
           "Remains of the Day, The (1993)",
           150
          ],
          [
           87,
           "Searching for Bobby Fischer (1993)",
           138
          ],
          [
           88,
           "Sleepless in Seattle (1993)",
           213
          ],
          [
           89,
           "Blade Runner (1982)",
           275
          ],
          [
           90,
           "So I Married an Axe Murderer (1993)",
           95
          ],
          [
           91,
           "Nightmare Before Christmas, The (1993)",
           143
          ],
          [
           92,
           "True Romance (1993)",
           104
          ],
          [
           93,
           "Welcome to the Dollhouse (1995)",
           112
          ],
          [
           94,
           "Home Alone (1990)",
           137
          ],
          [
           95,
           "Aladdin (1992)",
           219
          ],
          [
           96,
           "Terminator 2: Judgment Day (1991)",
           295
          ],
          [
           97,
           "Dances with Wolves (1990)",
           256
          ],
          [
           98,
           "Silence of the Lambs, The (1991)",
           390
          ],
          [
           99,
           "Snow White and the Seven Dwarfs (1937)",
           172
          ],
          [
           100,
           "Fargo (1996)",
           508
          ],
          [
           101,
           "Heavy Metal (1981)",
           73
          ],
          [
           102,
           "Aristocats, The (1970)",
           54
          ],
          [
           103,
           "All Dogs Go to Heaven 2 (1996)",
           15
          ],
          [
           104,
           "Theodore Rex (1995)",
           5
          ],
          [
           105,
           "Sgt. Bilko (1996)",
           74
          ],
          [
           106,
           "Diabolique (1996)",
           71
          ],
          [
           107,
           "Moll Flanders (1996)",
           42
          ],
          [
           108,
           "Kids in the Hall: Brain Candy (1996)",
           65
          ],
          [
           109,
           "Mystery Science Theater 3000: The Movie (1996)",
           130
          ],
          [
           110,
           "Operation Dumbo Drop (1995)",
           31
          ],
          [
           111,
           "Truth About Cats & Dogs, The (1996)",
           272
          ],
          [
           112,
           "Flipper (1996)",
           20
          ],
          [
           113,
           "Horseman on the Roof, The (Hussard sur le toit, Le) (1995)",
           9
          ],
          [
           114,
           "Wallace & Gromit: The Best of Aardman Animation (1996)",
           67
          ],
          [
           115,
           "Haunted World of Edward D. Wood Jr., The (1995)",
           15
          ],
          [
           116,
           "Cold Comfort Farm (1995)",
           125
          ],
          [
           117,
           "Rock, The (1996)",
           378
          ],
          [
           118,
           "Twister (1996)",
           293
          ],
          [
           119,
           "Maya Lin: A Strong Clear Vision (1994)",
           4
          ],
          [
           120,
           "Striptease (1996)",
           67
          ],
          [
           121,
           "Independence Day (ID4) (1996)",
           429
          ],
          [
           122,
           "Cable Guy, The (1996)",
           106
          ],
          [
           123,
           "Frighteners, The (1996)",
           115
          ],
          [
           124,
           "Lone Star (1996)",
           187
          ],
          [
           125,
           "Phenomenon (1996)",
           244
          ],
          [
           126,
           "Spitfire Grill, The (1996)",
           97
          ],
          [
           127,
           "Godfather, The (1972)",
           413
          ],
          [
           128,
           "Supercop (1992)",
           65
          ],
          [
           129,
           "Bound (1996)",
           129
          ],
          [
           130,
           "Kansas City (1996)",
           23
          ],
          [
           131,
           "Breakfast at Tiffany's (1961)",
           95
          ],
          [
           132,
           "Wizard of Oz, The (1939)",
           246
          ],
          [
           133,
           "Gone with the Wind (1939)",
           171
          ],
          [
           134,
           "Citizen Kane (1941)",
           198
          ],
          [
           135,
           "2001: A Space Odyssey (1968)",
           259
          ],
          [
           136,
           "Mr. Smith Goes to Washington (1939)",
           105
          ],
          [
           137,
           "Big Night (1996)",
           171
          ],
          [
           138,
           "D3: The Mighty Ducks (1996)",
           19
          ],
          [
           139,
           "Love Bug, The (1969)",
           50
          ],
          [
           140,
           "Homeward Bound: The Incredible Journey (1993)",
           61
          ],
          [
           141,
           "20,000 Leagues Under the Sea (1954)",
           72
          ],
          [
           142,
           "Bedknobs and Broomsticks (1971)",
           57
          ],
          [
           143,
           "Sound of Music, The (1965)",
           222
          ],
          [
           144,
           "Die Hard (1988)",
           243
          ],
          [
           145,
           "Lawnmower Man, The (1992)",
           65
          ],
          [
           146,
           "Unhook the Stars (1996)",
           10
          ],
          [
           147,
           "Long Kiss Goodnight, The (1996)",
           185
          ],
          [
           148,
           "Ghost and the Darkness, The (1996)",
           128
          ],
          [
           149,
           "Jude (1996)",
           23
          ],
          [
           150,
           "Swingers (1996)",
           157
          ],
          [
           151,
           "Willy Wonka and the Chocolate Factory (1971)",
           326
          ],
          [
           152,
           "Sleeper (1973)",
           82
          ],
          [
           153,
           "Fish Called Wanda, A (1988)",
           247
          ],
          [
           154,
           "Monty Python's Life of Brian (1979)",
           174
          ],
          [
           155,
           "Dirty Dancing (1987)",
           98
          ],
          [
           156,
           "Reservoir Dogs (1992)",
           148
          ],
          [
           157,
           "Platoon (1986)",
           127
          ],
          [
           158,
           "Weekend at Bernie's (1989)",
           60
          ],
          [
           159,
           "Basic Instinct (1992)",
           101
          ],
          [
           160,
           "Glengarry Glen Ross (1992)",
           69
          ],
          [
           161,
           "Top Gun (1986)",
           220
          ],
          [
           162,
           "On Golden Pond (1981)",
           106
          ],
          [
           163,
           "Return of the Pink Panther, The (1974)",
           92
          ],
          [
           164,
           "Abyss, The (1989)",
           151
          ],
          [
           165,
           "Jean de Florette (1986)",
           64
          ],
          [
           166,
           "Manon of the Spring (Manon des sources) (1986)",
           58
          ],
          [
           167,
           "Private Benjamin (1980)",
           67
          ],
          [
           168,
           "Monty Python and the Holy Grail (1974)",
           316
          ],
          [
           169,
           "Wrong Trousers, The (1993)",
           118
          ],
          [
           170,
           "Cinema Paradiso (1988)",
           121
          ],
          [
           171,
           "Delicatessen (1991)",
           65
          ],
          [
           172,
           "Empire Strikes Back, The (1980)",
           367
          ],
          [
           173,
           "Princess Bride, The (1987)",
           324
          ],
          [
           174,
           "Raiders of the Lost Ark (1981)",
           420
          ],
          [
           175,
           "Brazil (1985)",
           208
          ],
          [
           176,
           "Aliens (1986)",
           284
          ],
          [
           177,
           "Good, The Bad and The Ugly, The (1966)",
           137
          ],
          [
           178,
           "12 Angry Men (1957)",
           125
          ],
          [
           179,
           "Clockwork Orange, A (1971)",
           221
          ],
          [
           180,
           "Apocalypse Now (1979)",
           221
          ],
          [
           181,
           "Return of the Jedi (1983)",
           507
          ],
          [
           182,
           "GoodFellas (1990)",
           226
          ],
          [
           183,
           "Alien (1979)",
           291
          ],
          [
           184,
           "Army of Darkness (1993)",
           116
          ],
          [
           185,
           "Psycho (1960)",
           239
          ],
          [
           186,
           "Blues Brothers, The (1980)",
           251
          ],
          [
           187,
           "Godfather: Part II, The (1974)",
           209
          ],
          [
           188,
           "Full Metal Jacket (1987)",
           170
          ],
          [
           189,
           "Grand Day Out, A (1992)",
           66
          ],
          [
           190,
           "Henry V (1989)",
           124
          ],
          [
           191,
           "Amadeus (1984)",
           276
          ],
          [
           192,
           "Raging Bull (1980)",
           116
          ],
          [
           193,
           "Right Stuff, The (1983)",
           157
          ],
          [
           194,
           "Sting, The (1973)",
           241
          ],
          [
           195,
           "Terminator, The (1984)",
           301
          ],
          [
           196,
           "Dead Poets Society (1989)",
           251
          ],
          [
           197,
           "Graduate, The (1967)",
           239
          ],
          [
           198,
           "Nikita (La Femme Nikita) (1990)",
           127
          ],
          [
           199,
           "Bridge on the River Kwai, The (1957)",
           165
          ],
          [
           200,
           "Shining, The (1980)",
           206
          ],
          [
           201,
           "Evil Dead II (1987)",
           89
          ],
          [
           202,
           "Groundhog Day (1993)",
           280
          ],
          [
           203,
           "Unforgiven (1992)",
           182
          ],
          [
           204,
           "Back to the Future (1985)",
           350
          ],
          [
           205,
           "Patton (1970)",
           136
          ],
          [
           206,
           "Akira (1988)",
           50
          ],
          [
           207,
           "Cyrano de Bergerac (1990)",
           66
          ],
          [
           208,
           "Young Frankenstein (1974)",
           200
          ],
          [
           209,
           "This Is Spinal Tap (1984)",
           191
          ],
          [
           210,
           "Indiana Jones and the Last Crusade (1989)",
           331
          ],
          [
           211,
           "M*A*S*H (1970)",
           206
          ],
          [
           212,
           "Unbearable Lightness of Being, The (1988)",
           92
          ],
          [
           213,
           "Room with a View, A (1986)",
           134
          ],
          [
           214,
           "Pink Floyd - The Wall (1982)",
           114
          ],
          [
           215,
           "Field of Dreams (1989)",
           212
          ],
          [
           216,
           "When Harry Met Sally... (1989)",
           290
          ],
          [
           217,
           "Bram Stoker's Dracula (1992)",
           120
          ],
          [
           218,
           "Cape Fear (1991)",
           171
          ],
          [
           219,
           "Nightmare on Elm Street, A (1984)",
           111
          ],
          [
           220,
           "Mirror Has Two Faces, The (1996)",
           66
          ],
          [
           221,
           "Breaking the Waves (1996)",
           74
          ],
          [
           222,
           "Star Trek: First Contact (1996)",
           365
          ],
          [
           223,
           "Sling Blade (1996)",
           136
          ],
          [
           224,
           "Ridicule (1996)",
           44
          ],
          [
           225,
           "101 Dalmatians (1996)",
           109
          ],
          [
           226,
           "Die Hard 2 (1990)",
           166
          ],
          [
           227,
           "Star Trek VI: The Undiscovered Country (1991)",
           161
          ],
          [
           228,
           "Star Trek: The Wrath of Khan (1982)",
           244
          ],
          [
           229,
           "Star Trek III: The Search for Spock (1984)",
           171
          ],
          [
           230,
           "Star Trek IV: The Voyage Home (1986)",
           199
          ],
          [
           231,
           "Batman Returns (1992)",
           142
          ],
          [
           232,
           "Young Guns (1988)",
           101
          ],
          [
           233,
           "Under Siege (1992)",
           124
          ],
          [
           234,
           "Jaws (1975)",
           280
          ],
          [
           235,
           "Mars Attacks! (1996)",
           217
          ],
          [
           236,
           "Citizen Ruth (1996)",
           45
          ],
          [
           237,
           "Jerry Maguire (1996)",
           384
          ],
          [
           238,
           "Raising Arizona (1987)",
           256
          ],
          [
           239,
           "Sneakers (1992)",
           150
          ],
          [
           240,
           "Beavis and Butt-head Do America (1996)",
           156
          ],
          [
           241,
           "Last of the Mohicans, The (1992)",
           128
          ],
          [
           242,
           "Kolya (1996)",
           117
          ],
          [
           243,
           "Jungle2Jungle (1997)",
           132
          ],
          [
           244,
           "Smilla's Sense of Snow (1997)",
           48
          ],
          [
           245,
           "Devil's Own, The (1997)",
           240
          ],
          [
           246,
           "Chasing Amy (1997)",
           124
          ],
          [
           247,
           "Turbo: A Power Rangers Movie (1997)",
           5
          ],
          [
           248,
           "Grosse Pointe Blank (1997)",
           160
          ],
          [
           249,
           "Austin Powers: International Man of Mystery (1997)",
           130
          ],
          [
           250,
           "Fifth Element, The (1997)",
           197
          ],
          [
           251,
           "Shall We Dance? (1996)",
           46
          ],
          [
           252,
           "Lost World: Jurassic Park, The (1997)",
           158
          ],
          [
           253,
           "Pillow Book, The (1995)",
           26
          ],
          [
           254,
           "Batman & Robin (1997)",
           62
          ],
          [
           255,
           "My Best Friend's Wedding (1997)",
           172
          ],
          [
           256,
           "When the Cats Away (Chacun cherche son chat) (1996)",
           16
          ],
          [
           257,
           "Men in Black (1997)",
           303
          ],
          [
           258,
           "Contact (1997)",
           509
          ],
          [
           259,
           "George of the Jungle (1997)",
           162
          ],
          [
           260,
           "Event Horizon (1997)",
           127
          ],
          [
           261,
           "Air Bud (1997)",
           43
          ],
          [
           262,
           "In the Company of Men (1997)",
           66
          ],
          [
           263,
           "Steel (1997)",
           19
          ],
          [
           264,
           "Mimic (1997)",
           101
          ],
          [
           265,
           "Hunt for Red October, The (1990)",
           227
          ],
          [
           266,
           "Kull the Conqueror (1997)",
           35
          ],
          [
           267,
           "unknown",
           9
          ],
          [
           268,
           "Chasing Amy (1997)",
           255
          ],
          [
           269,
           "Full Monty, The (1997)",
           315
          ],
          [
           270,
           "Gattaca (1997)",
           136
          ],
          [
           271,
           "Starship Troopers (1997)",
           211
          ],
          [
           272,
           "Good Will Hunting (1997)",
           198
          ],
          [
           273,
           "Heat (1995)",
           223
          ],
          [
           274,
           "Sabrina (1995)",
           190
          ],
          [
           275,
           "Sense and Sensibility (1995)",
           268
          ],
          [
           276,
           "Leaving Las Vegas (1995)",
           298
          ],
          [
           277,
           "Restoration (1995)",
           71
          ],
          [
           278,
           "Bed of Roses (1996)",
           60
          ],
          [
           279,
           "Once Upon a Time... When We Were Colored (1995)",
           28
          ],
          [
           280,
           "Up Close and Personal (1996)",
           85
          ],
          [
           281,
           "River Wild, The (1994)",
           146
          ],
          [
           282,
           "Time to Kill, A (1996)",
           232
          ],
          [
           283,
           "Emma (1996)",
           177
          ],
          [
           284,
           "Tin Cup (1996)",
           193
          ],
          [
           285,
           "Secrets & Lies (1996)",
           162
          ],
          [
           286,
           "English Patient, The (1996)",
           481
          ],
          [
           287,
           "Marvin's Room (1996)",
           78
          ],
          [
           288,
           "Scream (1996)",
           478
          ],
          [
           289,
           "Evita (1996)",
           259
          ],
          [
           290,
           "Fierce Creatures (1997)",
           96
          ],
          [
           291,
           "Absolute Power (1997)",
           127
          ],
          [
           292,
           "Rosewood (1997)",
           114
          ],
          [
           293,
           "Donnie Brasco (1997)",
           147
          ],
          [
           294,
           "Liar Liar (1997)",
           485
          ],
          [
           295,
           "Breakdown (1997)",
           77
          ],
          [
           296,
           "Promesse, La (1996)",
           6
          ],
          [
           297,
           "Ulee's Gold (1997)",
           50
          ],
          [
           298,
           "Face/Off (1997)",
           194
          ],
          [
           299,
           "Hoodlum (1997)",
           73
          ],
          [
           300,
           "Air Force One (1997)",
           431
          ],
          [
           301,
           "In & Out (1997)",
           230
          ],
          [
           302,
           "L.A. Confidential (1997)",
           297
          ],
          [
           303,
           "Ulee's Gold (1997)",
           134
          ],
          [
           304,
           "Fly Away Home (1996)",
           149
          ],
          [
           305,
           "Ice Storm, The (1997)",
           87
          ],
          [
           306,
           "Mrs. Brown (Her Majesty, Mrs. Brown) (1997)",
           96
          ],
          [
           307,
           "Devil's Advocate, The (1997)",
           188
          ],
          [
           308,
           "FairyTale: A True Story (1997)",
           30
          ],
          [
           309,
           "Deceiver (1997)",
           28
          ],
          [
           310,
           "Rainmaker, The (1997)",
           145
          ],
          [
           311,
           "Wings of the Dove, The (1997)",
           75
          ],
          [
           312,
           "Midnight in the Garden of Good and Evil (1997)",
           80
          ],
          [
           313,
           "Titanic (1997)",
           350
          ],
          [
           314,
           "3 Ninjas: High Noon At Mega Mountain (1998)",
           5
          ],
          [
           315,
           "Apt Pupil (1998)",
           160
          ],
          [
           316,
           "As Good As It Gets (1997)",
           112
          ],
          [
           317,
           "In the Name of the Father (1993)",
           102
          ],
          [
           318,
           "Schindler's List (1993)",
           298
          ],
          [
           319,
           "Everyone Says I Love You (1996)",
           168
          ],
          [
           320,
           "Paradise Lost: The Child Murders at Robin Hood Hills (1996)",
           20
          ],
          [
           321,
           "Mother (1996)",
           169
          ],
          [
           322,
           "Murder at 1600 (1997)",
           218
          ],
          [
           323,
           "Dante's Peak (1997)",
           240
          ],
          [
           324,
           "Lost Highway (1997)",
           125
          ],
          [
           325,
           "Crash (1996)",
           128
          ],
          [
           326,
           "G.I. Jane (1997)",
           175
          ],
          [
           327,
           "Cop Land (1997)",
           175
          ],
          [
           328,
           "Conspiracy Theory (1997)",
           295
          ],
          [
           329,
           "Desperate Measures (1998)",
           45
          ],
          [
           330,
           "187 (1997)",
           41
          ],
          [
           331,
           "Edge, The (1997)",
           113
          ],
          [
           332,
           "Kiss the Girls (1997)",
           143
          ],
          [
           333,
           "Game, The (1997)",
           251
          ],
          [
           334,
           "U Turn (1997)",
           64
          ],
          [
           335,
           "How to Be a Player (1997)",
           21
          ],
          [
           336,
           "Playing God (1997)",
           43
          ],
          [
           337,
           "House of Yes, The (1997)",
           18
          ],
          [
           338,
           "Bean (1997)",
           91
          ],
          [
           339,
           "Mad City (1997)",
           47
          ],
          [
           340,
           "Boogie Nights (1997)",
           189
          ],
          [
           341,
           "Critical Care (1997)",
           11
          ],
          [
           342,
           "Man Who Knew Too Little, The (1997)",
           52
          ],
          [
           343,
           "Alien: Resurrection (1997)",
           124
          ],
          [
           344,
           "Apostle, The (1997)",
           55
          ],
          [
           345,
           "Deconstructing Harry (1997)",
           65
          ],
          [
           346,
           "Jackie Brown (1997)",
           126
          ],
          [
           347,
           "Wag the Dog (1997)",
           137
          ],
          [
           348,
           "Desperate Measures (1998)",
           27
          ],
          [
           349,
           "Hard Rain (1998)",
           31
          ],
          [
           350,
           "Fallen (1998)",
           41
          ],
          [
           351,
           "Prophecy II, The (1998)",
           20
          ],
          [
           352,
           "Spice World (1997)",
           26
          ],
          [
           353,
           "Deep Rising (1998)",
           14
          ],
          [
           354,
           "Wedding Singer, The (1998)",
           72
          ],
          [
           355,
           "Sphere (1998)",
           41
          ],
          [
           356,
           "Client, The (1994)",
           97
          ],
          [
           357,
           "One Flew Over the Cuckoo's Nest (1975)",
           264
          ],
          [
           358,
           "Spawn (1997)",
           143
          ],
          [
           359,
           "Assignment, The (1997)",
           18
          ],
          [
           360,
           "Wonderland (1997)",
           10
          ],
          [
           361,
           "Incognito (1997)",
           10
          ],
          [
           362,
           "Blues Brothers 2000 (1998)",
           28
          ],
          [
           363,
           "Sudden Death (1995)",
           47
          ],
          [
           364,
           "Ace Ventura: When Nature Calls (1995)",
           37
          ],
          [
           365,
           "Powder (1995)",
           48
          ],
          [
           366,
           "Dangerous Minds (1995)",
           47
          ],
          [
           367,
           "Clueless (1995)",
           170
          ],
          [
           368,
           "Bio-Dome (1996)",
           31
          ],
          [
           369,
           "Black Sheep (1996)",
           55
          ],
          [
           370,
           "Mary Reilly (1996)",
           39
          ],
          [
           371,
           "Bridges of Madison County, The (1995)",
           67
          ],
          [
           372,
           "Jeffrey (1995)",
           34
          ],
          [
           373,
           "Judge Dredd (1995)",
           39
          ],
          [
           374,
           "Mighty Morphin Power Rangers: The Movie (1995)",
           11
          ],
          [
           375,
           "Showgirls (1995)",
           23
          ],
          [
           376,
           "Houseguest (1994)",
           24
          ],
          [
           377,
           "Heavyweights (1994)",
           13
          ],
          [
           378,
           "Miracle on 34th Street (1994)",
           101
          ],
          [
           379,
           "Tales From the Crypt Presents: Demon Knight (1995)",
           43
          ],
          [
           380,
           "Star Trek: Generations (1994)",
           116
          ],
          [
           381,
           "Muriel's Wedding (1994)",
           100
          ],
          [
           382,
           "Adventures of Priscilla, Queen of the Desert, The (1994)",
           111
          ],
          [
           383,
           "Flintstones, The (1994)",
           31
          ],
          [
           384,
           "Naked Gun 33 1/3: The Final Insult (1994)",
           69
          ],
          [
           385,
           "True Lies (1994)",
           208
          ],
          [
           386,
           "Addams Family Values (1993)",
           87
          ],
          [
           387,
           "Age of Innocence, The (1993)",
           65
          ],
          [
           388,
           "Beverly Hills Cop III (1994)",
           28
          ],
          [
           389,
           "Black Beauty (1994)",
           27
          ],
          [
           390,
           "Fear of a Black Hat (1993)",
           10
          ],
          [
           391,
           "Last Action Hero (1993)",
           59
          ],
          [
           392,
           "Man Without a Face, The (1993)",
           68
          ],
          [
           393,
           "Mrs. Doubtfire (1993)",
           192
          ],
          [
           394,
           "Radioland Murders (1994)",
           12
          ],
          [
           395,
           "Robin Hood: Men in Tights (1993)",
           56
          ],
          [
           396,
           "Serial Mom (1994)",
           54
          ],
          [
           397,
           "Striking Distance (1993)",
           12
          ],
          [
           398,
           "Super Mario Bros. (1993)",
           26
          ],
          [
           399,
           "Three Musketeers, The (1993)",
           89
          ],
          [
           400,
           "Little Rascals, The (1994)",
           18
          ],
          [
           401,
           "Brady Bunch Movie, The (1995)",
           76
          ],
          [
           402,
           "Ghost (1990)",
           170
          ],
          [
           403,
           "Batman (1989)",
           201
          ],
          [
           404,
           "Pinocchio (1940)",
           101
          ],
          [
           405,
           "Mission: Impossible (1996)",
           344
          ],
          [
           406,
           "Thinner (1996)",
           49
          ],
          [
           407,
           "Spy Hard (1996)",
           43
          ],
          [
           408,
           "Close Shave, A (1995)",
           112
          ],
          [
           409,
           "Jack (1996)",
           70
          ],
          [
           410,
           "Kingpin (1996)",
           162
          ],
          [
           411,
           "Nutty Professor, The (1996)",
           163
          ],
          [
           412,
           "Very Brady Sequel, A (1996)",
           93
          ],
          [
           413,
           "Tales from the Crypt Presents: Bordello of Blood (1996)",
           55
          ],
          [
           414,
           "My Favorite Year (1982)",
           62
          ],
          [
           415,
           "Apple Dumpling Gang, The (1975)",
           25
          ],
          [
           416,
           "Old Yeller (1957)",
           64
          ],
          [
           417,
           "Parent Trap, The (1961)",
           73
          ],
          [
           418,
           "Cinderella (1950)",
           129
          ],
          [
           419,
           "Mary Poppins (1964)",
           178
          ],
          [
           420,
           "Alice in Wonderland (1951)",
           81
          ],
          [
           421,
           "William Shakespeare's Romeo and Juliet (1996)",
           106
          ],
          [
           422,
           "Aladdin and the King of Thieves (1996)",
           26
          ],
          [
           423,
           "E.T. the Extra-Terrestrial (1982)",
           300
          ],
          [
           424,
           "Children of the Corn: The Gathering (1996)",
           19
          ],
          [
           425,
           "Bob Roberts (1992)",
           85
          ],
          [
           426,
           "Transformers: The Movie, The (1986)",
           32
          ],
          [
           427,
           "To Kill a Mockingbird (1962)",
           219
          ],
          [
           428,
           "Harold and Maude (1971)",
           121
          ],
          [
           429,
           "Day the Earth Stood Still, The (1951)",
           97
          ],
          [
           430,
           "Duck Soup (1933)",
           93
          ],
          [
           431,
           "Highlander (1986)",
           153
          ],
          [
           432,
           "Fantasia (1940)",
           174
          ],
          [
           433,
           "Heathers (1989)",
           171
          ],
          [
           434,
           "Forbidden Planet (1956)",
           67
          ],
          [
           435,
           "Butch Cassidy and the Sundance Kid (1969)",
           216
          ],
          [
           436,
           "American Werewolf in London, An (1981)",
           99
          ],
          [
           437,
           "Amityville 1992: It's About Time (1992)",
           5
          ],
          [
           438,
           "Amityville 3-D (1983)",
           6
          ],
          [
           439,
           "Amityville: A New Generation (1993)",
           5
          ],
          [
           440,
           "Amityville II: The Possession (1982)",
           14
          ],
          [
           441,
           "Amityville Horror, The (1979)",
           53
          ],
          [
           442,
           "Amityville Curse, The (1990)",
           4
          ],
          [
           443,
           "Birds, The (1963)",
           162
          ],
          [
           444,
           "Blob, The (1958)",
           46
          ],
          [
           445,
           "Body Snatcher, The (1945)",
           22
          ],
          [
           446,
           "Burnt Offerings (1976)",
           9
          ],
          [
           447,
           "Carrie (1976)",
           121
          ],
          [
           448,
           "Omen, The (1976)",
           85
          ],
          [
           449,
           "Star Trek: The Motion Picture (1979)",
           117
          ],
          [
           450,
           "Star Trek V: The Final Frontier (1989)",
           63
          ],
          [
           451,
           "Grease (1978)",
           170
          ],
          [
           452,
           "Jaws 2 (1978)",
           66
          ],
          [
           453,
           "Jaws 3-D (1983)",
           16
          ],
          [
           454,
           "Bastard Out of Carolina (1996)",
           16
          ],
          [
           455,
           "Jackie Chan's First Strike (1996)",
           145
          ],
          [
           456,
           "Beverly Hills Ninja (1997)",
           48
          ],
          [
           457,
           "Free Willy 3: The Rescue (1997)",
           27
          ],
          [
           458,
           "Nixon (1995)",
           90
          ],
          [
           459,
           "Cry, the Beloved Country (1995)",
           24
          ],
          [
           460,
           "Crossing Guard, The (1995)",
           28
          ],
          [
           461,
           "Smoke (1995)",
           74
          ],
          [
           462,
           "Like Water For Chocolate (Como agua para chocolate) (1992)",
           148
          ],
          [
           463,
           "Secret of Roan Inish, The (1994)",
           71
          ],
          [
           464,
           "Vanya on 42nd Street (1994)",
           27
          ],
          [
           465,
           "Jungle Book, The (1994)",
           85
          ],
          [
           466,
           "Red Rock West (1992)",
           52
          ],
          [
           467,
           "Bronx Tale, A (1993)",
           48
          ],
          [
           468,
           "Rudy (1993)",
           64
          ],
          [
           469,
           "Short Cuts (1993)",
           67
          ],
          [
           470,
           "Tombstone (1993)",
           108
          ],
          [
           471,
           "Courage Under Fire (1996)",
           221
          ],
          [
           472,
           "Dragonheart (1996)",
           158
          ],
          [
           473,
           "James and the Giant Peach (1996)",
           126
          ],
          [
           474,
           "Dr. Strangelove or: How I Learned to Stop Worrying and Love the Bomb (1963)",
           194
          ],
          [
           475,
           "Trainspotting (1996)",
           250
          ],
          [
           476,
           "First Wives Club, The (1996)",
           160
          ],
          [
           477,
           "Matilda (1996)",
           95
          ],
          [
           478,
           "Philadelphia Story, The (1940)",
           104
          ],
          [
           479,
           "Vertigo (1958)",
           179
          ],
          [
           480,
           "North by Northwest (1959)",
           179
          ],
          [
           481,
           "Apartment, The (1960)",
           63
          ],
          [
           482,
           "Some Like It Hot (1959)",
           128
          ],
          [
           483,
           "Casablanca (1942)",
           243
          ],
          [
           484,
           "Maltese Falcon, The (1941)",
           138
          ],
          [
           485,
           "My Fair Lady (1964)",
           125
          ],
          [
           486,
           "Sabrina (1954)",
           64
          ],
          [
           487,
           "Roman Holiday (1953)",
           68
          ],
          [
           488,
           "Sunset Blvd. (1950)",
           65
          ],
          [
           489,
           "Notorious (1946)",
           52
          ],
          [
           490,
           "To Catch a Thief (1955)",
           50
          ],
          [
           491,
           "Adventures of Robin Hood, The (1938)",
           67
          ],
          [
           492,
           "East of Eden (1955)",
           59
          ],
          [
           493,
           "Thin Man, The (1934)",
           60
          ],
          [
           494,
           "His Girl Friday (1940)",
           56
          ],
          [
           495,
           "Around the World in 80 Days (1956)",
           59
          ],
          [
           496,
           "It's a Wonderful Life (1946)",
           231
          ],
          [
           497,
           "Bringing Up Baby (1938)",
           68
          ],
          [
           498,
           "African Queen, The (1951)",
           152
          ],
          [
           499,
           "Cat on a Hot Tin Roof (1958)",
           62
          ],
          [
           500,
           "Fly Away Home (1996)",
           31
          ],
          [
           501,
           "Dumbo (1941)",
           123
          ],
          [
           502,
           "Bananas (1971)",
           57
          ],
          [
           503,
           "Candidate, The (1972)",
           39
          ],
          [
           504,
           "Bonnie and Clyde (1967)",
           122
          ],
          [
           505,
           "Dial M for Murder (1954)",
           68
          ],
          [
           506,
           "Rebel Without a Cause (1955)",
           90
          ],
          [
           507,
           "Streetcar Named Desire, A (1951)",
           98
          ],
          [
           508,
           "People vs. Larry Flynt, The (1996)",
           215
          ],
          [
           509,
           "My Left Foot (1989)",
           121
          ],
          [
           510,
           "Magnificent Seven, The (1954)",
           121
          ],
          [
           511,
           "Lawrence of Arabia (1962)",
           173
          ],
          [
           512,
           "Wings of Desire (1987)",
           57
          ],
          [
           513,
           "Third Man, The (1949)",
           72
          ],
          [
           514,
           "Annie Hall (1977)",
           180
          ],
          [
           515,
           "Boot, Das (1981)",
           201
          ],
          [
           516,
           "Local Hero (1983)",
           63
          ],
          [
           517,
           "Manhattan (1979)",
           91
          ],
          [
           518,
           "Miller's Crossing (1990)",
           89
          ],
          [
           519,
           "Treasure of the Sierra Madre, The (1948)",
           80
          ],
          [
           520,
           "Great Escape, The (1963)",
           124
          ],
          [
           521,
           "Deer Hunter, The (1978)",
           120
          ],
          [
           522,
           "Down by Law (1986)",
           35
          ],
          [
           523,
           "Cool Hand Luke (1967)",
           164
          ],
          [
           524,
           "Great Dictator, The (1940)",
           46
          ],
          [
           525,
           "Big Sleep, The (1946)",
           73
          ],
          [
           526,
           "Ben-Hur (1959)",
           124
          ],
          [
           527,
           "Gandhi (1982)",
           195
          ],
          [
           528,
           "Killing Fields, The (1984)",
           121
          ],
          [
           529,
           "My Life as a Dog (Mitt liv som hund) (1985)",
           93
          ],
          [
           530,
           "Man Who Would Be King, The (1975)",
           80
          ],
          [
           531,
           "Shine (1996)",
           129
          ],
          [
           532,
           "Kama Sutra: A Tale of Love (1996)",
           22
          ],
          [
           533,
           "Daytrippers, The (1996)",
           15
          ],
          [
           534,
           "Traveller (1997)",
           13
          ],
          [
           535,
           "Addicted to Love (1997)",
           54
          ],
          [
           536,
           "Ponette (1996)",
           10
          ],
          [
           537,
           "My Own Private Idaho (1991)",
           30
          ],
          [
           538,
           "Anastasia (1997)",
           66
          ],
          [
           539,
           "Mouse Hunt (1997)",
           44
          ],
          [
           540,
           "Money Train (1995)",
           43
          ],
          [
           541,
           "Mortal Kombat (1995)",
           49
          ],
          [
           542,
           "Pocahontas (1995)",
           51
          ],
          [
           543,
           "Misérables, Les (1995)",
           21
          ],
          [
           544,
           "Things to Do in Denver when You're Dead (1995)",
           71
          ],
          [
           545,
           "Vampire in Brooklyn (1995)",
           12
          ],
          [
           546,
           "Broken Arrow (1996)",
           254
          ],
          [
           547,
           "Young Poisoner's Handbook, The (1995)",
           41
          ],
          [
           548,
           "NeverEnding Story III, The (1994)",
           12
          ],
          [
           549,
           "Rob Roy (1995)",
           92
          ],
          [
           550,
           "Die Hard: With a Vengeance (1995)",
           151
          ],
          [
           551,
           "Lord of Illusions (1995)",
           24
          ],
          [
           552,
           "Species (1995)",
           45
          ],
          [
           553,
           "Walk in the Clouds, A (1995)",
           63
          ],
          [
           554,
           "Waterworld (1995)",
           102
          ],
          [
           555,
           "White Man's Burden (1995)",
           10
          ],
          [
           556,
           "Wild Bill (1995)",
           12
          ],
          [
           557,
           "Farinelli: il castrato (1994)",
           17
          ],
          [
           558,
           "Heavenly Creatures (1994)",
           70
          ],
          [
           559,
           "Interview with the Vampire (1994)",
           137
          ],
          [
           560,
           "Kid in King Arthur's Court, A (1995)",
           22
          ],
          [
           561,
           "Mary Shelley's Frankenstein (1994)",
           59
          ],
          [
           562,
           "Quick and the Dead, The (1995)",
           48
          ],
          [
           563,
           "Stephen King's The Langoliers (1995)",
           29
          ],
          [
           564,
           "Tales from the Hood (1995)",
           27
          ],
          [
           565,
           "Village of the Damned (1995)",
           22
          ],
          [
           566,
           "Clear and Present Danger (1994)",
           179
          ],
          [
           567,
           "Wes Craven's New Nightmare (1994)",
           35
          ],
          [
           568,
           "Speed (1994)",
           230
          ],
          [
           569,
           "Wolf (1994)",
           67
          ],
          [
           570,
           "Wyatt Earp (1994)",
           50
          ],
          [
           571,
           "Another Stakeout (1993)",
           28
          ],
          [
           572,
           "Blown Away (1994)",
           29
          ],
          [
           573,
           "Body Snatchers (1993)",
           33
          ],
          [
           574,
           "Boxing Helena (1993)",
           15
          ],
          [
           575,
           "City Slickers II: The Legend of Curly's Gold (1994)",
           44
          ],
          [
           576,
           "Cliffhanger (1993)",
           93
          ],
          [
           577,
           "Coneheads (1993)",
           41
          ],
          [
           578,
           "Demolition Man (1993)",
           92
          ],
          [
           579,
           "Fatal Instinct (1993)",
           19
          ],
          [
           580,
           "Englishman Who Went Up a Hill, But Came Down a Mountain, The (1995)",
           32
          ],
          [
           581,
           "Kalifornia (1993)",
           59
          ],
          [
           582,
           "Piano, The (1993)",
           168
          ],
          [
           583,
           "Romeo Is Bleeding (1993)",
           37
          ],
          [
           584,
           "Secret Garden, The (1993)",
           79
          ],
          [
           585,
           "Son in Law (1993)",
           39
          ],
          [
           586,
           "Terminal Velocity (1994)",
           34
          ],
          [
           587,
           "Hour of the Pig, The (1993)",
           14
          ],
          [
           588,
           "Beauty and the Beast (1991)",
           202
          ],
          [
           589,
           "Wild Bunch, The (1969)",
           43
          ],
          [
           590,
           "Hellraiser: Bloodline (1996)",
           18
          ],
          [
           591,
           "Primal Fear (1996)",
           178
          ],
          [
           592,
           "True Crime (1995)",
           9
          ],
          [
           593,
           "Stalingrad (1993)",
           12
          ],
          [
           594,
           "Heavy (1995)",
           5
          ],
          [
           595,
           "Fan, The (1996)",
           64
          ],
          [
           596,
           "Hunchback of Notre Dame, The (1996)",
           127
          ],
          [
           597,
           "Eraser (1996)",
           206
          ],
          [
           598,
           "Big Squeeze, The (1996)",
           4
          ],
          [
           599,
           "Police Story 4: Project S (Chao ji ji hua) (1993)",
           1
          ],
          [
           600,
           "Daniel Defoe's Robinson Crusoe (1996)",
           2
          ],
          [
           601,
           "For Whom the Bell Tolls (1943)",
           20
          ],
          [
           602,
           "American in Paris, An (1951)",
           50
          ],
          [
           603,
           "Rear Window (1954)",
           209
          ],
          [
           604,
           "It Happened One Night (1934)",
           81
          ],
          [
           605,
           "Meet Me in St. Louis (1944)",
           31
          ],
          [
           606,
           "All About Eve (1950)",
           66
          ],
          [
           607,
           "Rebecca (1940)",
           66
          ],
          [
           608,
           "Spellbound (1945)",
           30
          ],
          [
           609,
           "Father of the Bride (1950)",
           60
          ],
          [
           610,
           "Gigi (1958)",
           41
          ],
          [
           611,
           "Laura (1944)",
           40
          ],
          [
           612,
           "Lost Horizon (1937)",
           34
          ],
          [
           613,
           "My Man Godfrey (1936)",
           27
          ],
          [
           614,
           "Giant (1956)",
           51
          ],
          [
           615,
           "39 Steps, The (1935)",
           59
          ],
          [
           616,
           "Night of the Living Dead (1968)",
           64
          ],
          [
           617,
           "Blue Angel, The (Blaue Engel, Der) (1930)",
           18
          ],
          [
           618,
           "Picnic (1955)",
           18
          ],
          [
           619,
           "Extreme Measures (1996)",
           64
          ],
          [
           620,
           "Chamber, The (1996)",
           43
          ],
          [
           621,
           "Davy Crockett, King of the Wild Frontier (1955)",
           11
          ],
          [
           622,
           "Swiss Family Robinson (1960)",
           39
          ],
          [
           623,
           "Angels in the Outfield (1994)",
           39
          ],
          [
           624,
           "Three Caballeros, The (1945)",
           22
          ],
          [
           625,
           "Sword in the Stone, The (1963)",
           82
          ],
          [
           626,
           "So Dear to My Heart (1949)",
           4
          ],
          [
           627,
           "Robin Hood: Prince of Thieves (1991)",
           75
          ],
          [
           628,
           "Sleepers (1996)",
           169
          ],
          [
           629,
           "Victor/Victoria (1982)",
           77
          ],
          [
           630,
           "Great Race, The (1965)",
           31
          ],
          [
           631,
           "Crying Game, The (1992)",
           119
          ],
          [
           632,
           "Sophie's Choice (1982)",
           58
          ],
          [
           633,
           "Christmas Carol, A (1938)",
           69
          ],
          [
           634,
           "Microcosmos: Le peuple de l'herbe (1996)",
           24
          ],
          [
           635,
           "Fog, The (1980)",
           23
          ],
          [
           636,
           "Escape from New York (1981)",
           91
          ],
          [
           637,
           "Howling, The (1981)",
           38
          ],
          [
           638,
           "Return of Martin Guerre, The (Retour de Martin Guerre, Le) (1982)",
           44
          ],
          [
           639,
           "Tin Drum, The (Blechtrommel, Die) (1979)",
           40
          ],
          [
           640,
           "Cook the Thief His Wife & Her Lover, The (1989)",
           82
          ],
          [
           641,
           "Paths of Glory (1957)",
           33
          ],
          [
           642,
           "Grifters, The (1990)",
           89
          ],
          [
           643,
           "The Innocent (1994)",
           4
          ],
          [
           644,
           "Thin Blue Line, The (1988)",
           35
          ],
          [
           645,
           "Paris Is Burning (1990)",
           27
          ],
          [
           646,
           "Once Upon a Time in the West (1969)",
           38
          ],
          [
           647,
           "Ran (1985)",
           70
          ],
          [
           648,
           "Quiet Man, The (1952)",
           67
          ],
          [
           649,
           "Once Upon a Time in America (1984)",
           50
          ],
          [
           650,
           "Seventh Seal, The (Sjunde inseglet, Det) (1957)",
           72
          ],
          [
           651,
           "Glory (1989)",
           171
          ],
          [
           652,
           "Rosencrantz and Guildenstern Are Dead (1990)",
           90
          ],
          [
           653,
           "Touch of Evil (1958)",
           34
          ],
          [
           654,
           "Chinatown (1974)",
           147
          ],
          [
           655,
           "Stand by Me (1986)",
           227
          ],
          [
           656,
           "M (1931)",
           44
          ],
          [
           657,
           "Manchurian Candidate, The (1962)",
           131
          ],
          [
           658,
           "Pump Up the Volume (1990)",
           79
          ],
          [
           659,
           "Arsenic and Old Lace (1944)",
           115
          ],
          [
           660,
           "Fried Green Tomatoes (1991)",
           153
          ],
          [
           661,
           "High Noon (1952)",
           88
          ],
          [
           662,
           "Somewhere in Time (1980)",
           82
          ],
          [
           663,
           "Being There (1979)",
           116
          ],
          [
           664,
           "Paris, Texas (1984)",
           46
          ],
          [
           665,
           "Alien 3 (1992)",
           100
          ],
          [
           666,
           "Blood For Dracula (Andy Warhol's Dracula) (1974)",
           5
          ],
          [
           667,
           "Audrey Rose (1977)",
           12
          ],
          [
           668,
           "Blood Beach (1981)",
           6
          ],
          [
           669,
           "Body Parts (1991)",
           13
          ],
          [
           670,
           "Body Snatchers (1993)",
           36
          ],
          [
           671,
           "Bride of Frankenstein (1935)",
           46
          ],
          [
           672,
           "Candyman (1992)",
           65
          ],
          [
           673,
           "Cape Fear (1962)",
           86
          ],
          [
           674,
           "Cat People (1982)",
           48
          ],
          [
           675,
           "Nosferatu (Nosferatu, eine Symphonie des Grauens) (1922)",
           54
          ],
          [
           676,
           "Crucible, The (1996)",
           77
          ],
          [
           677,
           "Fire on the Mountain (1996)",
           1
          ],
          [
           678,
           "Volcano (1997)",
           219
          ],
          [
           679,
           "Conan the Barbarian (1981)",
           107
          ],
          [
           680,
           "Kull the Conqueror (1997)",
           34
          ],
          [
           681,
           "Wishmaster (1997)",
           27
          ],
          [
           682,
           "I Know What You Did Last Summer (1997)",
           100
          ],
          [
           683,
           "Rocket Man (1997)",
           49
          ],
          [
           684,
           "In the Line of Fire (1993)",
           169
          ],
          [
           685,
           "Executive Decision (1996)",
           157
          ],
          [
           686,
           "Perfect World, A (1993)",
           50
          ],
          [
           687,
           "McHale's Navy (1997)",
           69
          ],
          [
           688,
           "Leave It to Beaver (1997)",
           44
          ],
          [
           689,
           "Jackal, The (1997)",
           87
          ],
          [
           690,
           "Seven Years in Tibet (1997)",
           155
          ],
          [
           691,
           "Dark City (1998)",
           16
          ],
          [
           692,
           "American President, The (1995)",
           164
          ],
          [
           693,
           "Casino (1995)",
           91
          ],
          [
           694,
           "Persuasion (1995)",
           44
          ],
          [
           695,
           "Kicking and Screaming (1995)",
           13
          ],
          [
           696,
           "City Hall (1996)",
           79
          ],
          [
           697,
           "Basketball Diaries, The (1995)",
           40
          ],
          [
           698,
           "Browning Version, The (1994)",
           10
          ],
          [
           699,
           "Little Women (1994)",
           102
          ],
          [
           700,
           "Miami Rhapsody (1995)",
           15
          ],
          [
           701,
           "Wonderful, Horrible Life of Leni Riefenstahl, The (1993)",
           10
          ],
          [
           702,
           "Barcelona (1994)",
           53
          ],
          [
           703,
           "Widows' Peak (1994)",
           19
          ],
          [
           704,
           "House of the Spirits, The (1993)",
           24
          ],
          [
           705,
           "Singin' in the Rain (1952)",
           137
          ],
          [
           706,
           "Bad Moon (1996)",
           6
          ],
          [
           707,
           "Enchanted April (1991)",
           70
          ],
          [
           708,
           "Sex, Lies, and Videotape (1989)",
           101
          ],
          [
           709,
           "Strictly Ballroom (1992)",
           104
          ],
          [
           710,
           "Better Off Dead... (1985)",
           79
          ],
          [
           711,
           "Substance of Fire, The (1996)",
           1
          ],
          [
           712,
           "Tin Men (1987)",
           51
          ],
          [
           713,
           "Othello (1995)",
           72
          ],
          [
           714,
           "Carrington (1995)",
           13
          ],
          [
           715,
           "To Die For (1995)",
           87
          ],
          [
           716,
           "Home for the Holidays (1995)",
           58
          ],
          [
           717,
           "Juror, The (1996)",
           82
          ],
          [
           718,
           "In the Bleak Midwinter (1995)",
           16
          ],
          [
           719,
           "Canadian Bacon (1994)",
           29
          ],
          [
           720,
           "First Knight (1995)",
           86
          ],
          [
           721,
           "Mallrats (1995)",
           54
          ],
          [
           722,
           "Nine Months (1995)",
           58
          ],
          [
           723,
           "Boys on the Side (1995)",
           34
          ],
          [
           724,
           "Circle of Friends (1995)",
           76
          ],
          [
           725,
           "Exit to Eden (1994)",
           16
          ],
          [
           726,
           "Fluke (1995)",
           14
          ],
          [
           727,
           "Immortal Beloved (1994)",
           63
          ],
          [
           728,
           "Junior (1994)",
           45
          ],
          [
           729,
           "Nell (1994)",
           81
          ],
          [
           730,
           "Queen Margot (Reine Margot, La) (1994)",
           24
          ],
          [
           731,
           "Corrina, Corrina (1994)",
           39
          ],
          [
           732,
           "Dave (1993)",
           180
          ],
          [
           733,
           "Go Fish (1994)",
           15
          ],
          [
           734,
           "Made in America (1993)",
           27
          ],
          [
           735,
           "Philadelphia (1993)",
           137
          ],
          [
           736,
           "Shadowlands (1993)",
           78
          ],
          [
           737,
           "Sirens (1994)",
           59
          ],
          [
           738,
           "Threesome (1994)",
           31
          ],
          [
           739,
           "Pretty Woman (1990)",
           164
          ],
          [
           740,
           "Jane Eyre (1996)",
           63
          ],
          [
           741,
           "Last Supper, The (1995)",
           58
          ],
          [
           742,
           "Ransom (1996)",
           267
          ],
          [
           743,
           "Crow: City of Angels, The (1996)",
           39
          ],
          [
           744,
           "Michael Collins (1996)",
           92
          ],
          [
           745,
           "Ruling Class, The (1972)",
           16
          ],
          [
           746,
           "Real Genius (1985)",
           119
          ],
          [
           747,
           "Benny & Joon (1993)",
           102
          ],
          [
           748,
           "Saint, The (1997)",
           316
          ],
          [
           749,
           "MatchMaker, The (1997)",
           51
          ],
          [
           750,
           "Amistad (1997)",
           124
          ],
          [
           751,
           "Tomorrow Never Dies (1997)",
           180
          ],
          [
           752,
           "Replacement Killers, The (1998)",
           39
          ],
          [
           753,
           "Burnt By the Sun (1994)",
           24
          ],
          [
           754,
           "Red Corner (1997)",
           57
          ],
          [
           755,
           "Jumanji (1995)",
           96
          ],
          [
           756,
           "Father of the Bride Part II (1995)",
           128
          ],
          [
           757,
           "Across the Sea of Time (1995)",
           4
          ],
          [
           758,
           "Lawnmower Man 2: Beyond Cyberspace (1996)",
           21
          ],
          [
           759,
           "Fair Game (1995)",
           11
          ],
          [
           760,
           "Screamers (1995)",
           46
          ],
          [
           761,
           "Nick of Time (1995)",
           44
          ],
          [
           762,
           "Beautiful Girls (1996)",
           115
          ],
          [
           763,
           "Happy Gilmore (1996)",
           149
          ],
          [
           764,
           "If Lucy Fell (1996)",
           29
          ],
          [
           765,
           "Boomerang (1992)",
           32
          ],
          [
           766,
           "Man of the Year (1995)",
           9
          ],
          [
           767,
           "Addiction, The (1995)",
           11
          ],
          [
           768,
           "Casper (1995)",
           52
          ],
          [
           769,
           "Congo (1995)",
           42
          ],
          [
           770,
           "Devil in a Blue Dress (1995)",
           57
          ],
          [
           771,
           "Johnny Mnemonic (1995)",
           41
          ],
          [
           772,
           "Kids (1995)",
           49
          ],
          [
           773,
           "Mute Witness (1994)",
           17
          ],
          [
           774,
           "Prophecy, The (1995)",
           32
          ],
          [
           775,
           "Something to Talk About (1995)",
           26
          ],
          [
           776,
           "Three Wishes (1995)",
           9
          ],
          [
           777,
           "Castle Freak (1995)",
           4
          ],
          [
           778,
           "Don Juan DeMarco (1995)",
           76
          ],
          [
           779,
           "Drop Zone (1994)",
           31
          ],
          [
           780,
           "Dumb & Dumber (1994)",
           69
          ],
          [
           781,
           "French Kiss (1995)",
           84
          ],
          [
           782,
           "Little Odessa (1994)",
           10
          ],
          [
           783,
           "Milk Money (1994)",
           37
          ],
          [
           784,
           "Beyond Bedlam (1993)",
           2
          ],
          [
           785,
           "Only You (1994)",
           39
          ],
          [
           786,
           "Perez Family, The (1995)",
           14
          ],
          [
           787,
           "Roommates (1995)",
           13
          ],
          [
           788,
           "Relative Fear (1994)",
           3
          ],
          [
           789,
           "Swimming with Sharks (1995)",
           47
          ],
          [
           790,
           "Tommy Boy (1995)",
           66
          ],
          [
           791,
           "Baby-Sitters Club, The (1995)",
           10
          ],
          [
           792,
           "Bullets Over Broadway (1994)",
           86
          ],
          [
           793,
           "Crooklyn (1994)",
           10
          ],
          [
           794,
           "It Could Happen to You (1994)",
           46
          ],
          [
           795,
           "Richie Rich (1994)",
           21
          ],
          [
           796,
           "Speechless (1994)",
           36
          ],
          [
           797,
           "Timecop (1994)",
           31
          ],
          [
           798,
           "Bad Company (1995)",
           9
          ],
          [
           799,
           "Boys Life (1995)",
           5
          ],
          [
           800,
           "In the Mouth of Madness (1995)",
           26
          ],
          [
           801,
           "Air Up There, The (1994)",
           16
          ],
          [
           802,
           "Hard Target (1993)",
           40
          ],
          [
           803,
           "Heaven & Earth (1993)",
           9
          ],
          [
           804,
           "Jimmy Hollywood (1994)",
           8
          ],
          [
           805,
           "Manhattan Murder Mystery (1993)",
           27
          ],
          [
           806,
           "Menace II Society (1993)",
           50
          ],
          [
           807,
           "Poetic Justice (1993)",
           9
          ],
          [
           808,
           "Program, The (1993)",
           31
          ],
          [
           809,
           "Rising Sun (1993)",
           43
          ],
          [
           810,
           "Shadow, The (1994)",
           45
          ],
          [
           811,
           "Thirty-Two Short Films About Glenn Gould (1993)",
           18
          ],
          [
           812,
           "Andre (1994)",
           18
          ],
          [
           813,
           "Celluloid Closet, The (1995)",
           56
          ],
          [
           814,
           "Great Day in Harlem, A (1994)",
           1
          ],
          [
           815,
           "One Fine Day (1996)",
           112
          ],
          [
           816,
           "Candyman: Farewell to the Flesh (1995)",
           21
          ],
          [
           817,
           "Frisk (1995)",
           3
          ],
          [
           818,
           "Girl 6 (1996)",
           25
          ],
          [
           819,
           "Eddie (1996)",
           40
          ],
          [
           820,
           "Space Jam (1996)",
           93
          ],
          [
           821,
           "Mrs. Winterbourne (1996)",
           22
          ],
          [
           822,
           "Faces (1968)",
           4
          ],
          [
           823,
           "Mulholland Falls (1996)",
           82
          ],
          [
           824,
           "Great White Hype, The (1996)",
           49
          ],
          [
           825,
           "Arrival, The (1996)",
           83
          ],
          [
           826,
           "Phantom, The (1996)",
           80
          ],
          [
           827,
           "Daylight (1996)",
           57
          ],
          [
           828,
           "Alaska (1996)",
           13
          ],
          [
           829,
           "Fled (1996)",
           34
          ],
          [
           830,
           "Power 98 (1995)",
           1
          ],
          [
           831,
           "Escape from L.A. (1996)",
           91
          ],
          [
           832,
           "Bogus (1996)",
           22
          ],
          [
           833,
           "Bulletproof (1996)",
           49
          ],
          [
           834,
           "Halloween: The Curse of Michael Myers (1995)",
           25
          ],
          [
           835,
           "Gay Divorcee, The (1934)",
           15
          ],
          [
           836,
           "Ninotchka (1939)",
           26
          ],
          [
           837,
           "Meet John Doe (1941)",
           25
          ],
          [
           838,
           "In the Line of Duty 2 (1987)",
           4
          ],
          [
           839,
           "Loch Ness (1995)",
           4
          ],
          [
           840,
           "Last Man Standing (1996)",
           53
          ],
          [
           841,
           "Glimmer Man, The (1996)",
           48
          ],
          [
           842,
           "Pollyanna (1960)",
           27
          ],
          [
           843,
           "Shaggy Dog, The (1959)",
           30
          ],
          [
           844,
           "Freeway (1996)",
           42
          ],
          [
           845,
           "That Thing You Do! (1996)",
           176
          ],
          [
           846,
           "To Gillian on Her 37th Birthday (1996)",
           44
          ],
          [
           847,
           "Looking for Richard (1996)",
           55
          ],
          [
           848,
           "Murder, My Sweet (1944)",
           9
          ],
          [
           849,
           "Days of Thunder (1990)",
           53
          ],
          [
           850,
           "Perfect Candidate, A (1996)",
           4
          ],
          [
           851,
           "Two or Three Things I Know About Her (1966)",
           4
          ],
          [
           852,
           "Bloody Child, The (1996)",
           1
          ],
          [
           853,
           "Braindead (1992)",
           14
          ],
          [
           854,
           "Bad Taste (1987)",
           16
          ],
          [
           855,
           "Diva (1981)",
           66
          ],
          [
           856,
           "Night on Earth (1991)",
           36
          ],
          [
           857,
           "Paris Was a Woman (1995)",
           1
          ],
          [
           858,
           "Amityville: Dollhouse (1996)",
           3
          ],
          [
           859,
           "April Fool's Day (1986)",
           15
          ],
          [
           860,
           "Believers, The (1987)",
           16
          ],
          [
           861,
           "Nosferatu a Venezia (1986)",
           3
          ],
          [
           862,
           "Jingle All the Way (1996)",
           18
          ],
          [
           863,
           "Garden of Finzi-Contini, The (Giardino dei Finzi-Contini, Il) (1970)",
           24
          ],
          [
           864,
           "My Fellow Americans (1996)",
           86
          ],
          [
           865,
           "Ice Storm, The (1997)",
           21
          ],
          [
           866,
           "Michael (1996)",
           119
          ],
          [
           867,
           "Whole Wide World, The (1996)",
           6
          ],
          [
           868,
           "Hearts and Minds (1996)",
           5
          ],
          [
           869,
           "Fools Rush In (1997)",
           24
          ],
          [
           870,
           "Touch (1997)",
           9
          ],
          [
           871,
           "Vegas Vacation (1997)",
           75
          ],
          [
           872,
           "Love Jones (1997)",
           42
          ],
          [
           873,
           "Picture Perfect (1997)",
           81
          ],
          [
           874,
           "Career Girls (1997)",
           39
          ],
          [
           875,
           "She's So Lovely (1997)",
           53
          ],
          [
           876,
           "Money Talks (1997)",
           47
          ],
          [
           877,
           "Excess Baggage (1997)",
           52
          ],
          [
           878,
           "That Darn Cat! (1997)",
           33
          ],
          [
           879,
           "Peacemaker, The (1997)",
           136
          ],
          [
           880,
           "Soul Food (1997)",
           59
          ],
          [
           881,
           "Money Talks (1997)",
           45
          ],
          [
           882,
           "Washington Square (1997)",
           34
          ],
          [
           883,
           "Telling Lies in America (1997)",
           13
          ],
          [
           884,
           "Year of the Horse (1997)",
           7
          ],
          [
           885,
           "Phantoms (1998)",
           13
          ],
          [
           886,
           "Life Less Ordinary, A (1997)",
           53
          ],
          [
           887,
           "Eve's Bayou (1997)",
           64
          ],
          [
           888,
           "One Night Stand (1997)",
           15
          ],
          [
           889,
           "Tango Lesson, The (1997)",
           13
          ],
          [
           890,
           "Mortal Kombat: Annihilation (1997)",
           43
          ],
          [
           891,
           "Bent (1997)",
           6
          ],
          [
           892,
           "Flubber (1997)",
           53
          ],
          [
           893,
           "For Richer or Poorer (1997)",
           14
          ],
          [
           894,
           "Home Alone 3 (1997)",
           19
          ],
          [
           895,
           "Scream 2 (1997)",
           106
          ],
          [
           896,
           "Sweet Hereafter, The (1997)",
           44
          ],
          [
           897,
           "Time Tracers (1995)",
           2
          ],
          [
           898,
           "Postman, The (1997)",
           58
          ],
          [
           899,
           "Winter Guest, The (1997)",
           9
          ],
          [
           900,
           "Kundun (1997)",
           42
          ],
          [
           901,
           "Mr. Magoo (1997)",
           12
          ],
          [
           902,
           "Big Lebowski, The (1998)",
           42
          ],
          [
           903,
           "Afterglow (1997)",
           18
          ],
          [
           904,
           "Ma vie en rose (My Life in Pink) (1997)",
           20
          ],
          [
           905,
           "Great Expectations (1998)",
           27
          ],
          [
           906,
           "Oscar & Lucinda (1997)",
           21
          ],
          [
           907,
           "Vermin (1998)",
           2
          ],
          [
           908,
           "Half Baked (1998)",
           20
          ],
          [
           909,
           "Dangerous Beauty (1998)",
           13
          ],
          [
           910,
           "Nil By Mouth (1997)",
           4
          ],
          [
           911,
           "Twilight (1998)",
           4
          ],
          [
           912,
           "U.S. Marshalls (1998)",
           9
          ],
          [
           913,
           "Love and Death on Long Island (1997)",
           2
          ],
          [
           914,
           "Wild Things (1998)",
           11
          ],
          [
           915,
           "Primary Colors (1998)",
           13
          ],
          [
           916,
           "Lost in Space (1998)",
           18
          ],
          [
           917,
           "Mercury Rising (1998)",
           7
          ],
          [
           918,
           "City of Angels (1998)",
           8
          ],
          [
           919,
           "City of Lost Children, The (1995)",
           96
          ],
          [
           920,
           "Two Bits (1995)",
           5
          ],
          [
           921,
           "Farewell My Concubine (1993)",
           46
          ],
          [
           922,
           "Dead Man (1995)",
           34
          ],
          [
           923,
           "Raise the Red Lantern (1991)",
           58
          ],
          [
           924,
           "White Squall (1996)",
           85
          ],
          [
           925,
           "Unforgettable (1996)",
           34
          ],
          [
           926,
           "Down Periscope (1996)",
           101
          ],
          [
           927,
           "Flower of My Secret, The (Flor de mi secreto, La) (1995)",
           6
          ],
          [
           928,
           "Craft, The (1996)",
           104
          ],
          [
           929,
           "Harriet the Spy (1996)",
           40
          ],
          [
           930,
           "Chain Reaction (1996)",
           80
          ],
          [
           931,
           "Island of Dr. Moreau, The (1996)",
           57
          ],
          [
           932,
           "First Kid (1996)",
           40
          ],
          [
           933,
           "Funeral, The (1996)",
           21
          ],
          [
           934,
           "Preacher's Wife, The (1996)",
           68
          ],
          [
           935,
           "Paradise Road (1997)",
           7
          ],
          [
           936,
           "Brassed Off (1996)",
           32
          ],
          [
           937,
           "Thousand Acres, A (1997)",
           37
          ],
          [
           938,
           "Smile Like Yours, A (1997)",
           25
          ],
          [
           939,
           "Murder in the First (1995)",
           60
          ],
          [
           940,
           "Airheads (1994)",
           32
          ],
          [
           941,
           "With Honors (1994)",
           46
          ],
          [
           942,
           "What's Love Got to Do with It (1993)",
           45
          ],
          [
           943,
           "Killing Zoe (1994)",
           40
          ],
          [
           944,
           "Renaissance Man (1994)",
           43
          ],
          [
           945,
           "Charade (1963)",
           40
          ],
          [
           946,
           "Fox and the Hound, The (1981)",
           61
          ],
          [
           947,
           "Big Blue, The (Grand bleu, Le) (1988)",
           17
          ],
          [
           948,
           "Booty Call (1997)",
           48
          ],
          [
           949,
           "How to Make an American Quilt (1995)",
           71
          ],
          [
           950,
           "Georgia (1995)",
           30
          ],
          [
           951,
           "Indian in the Cupboard, The (1995)",
           39
          ],
          [
           952,
           "Blue in the Face (1995)",
           45
          ],
          [
           953,
           "Unstrung Heroes (1995)",
           22
          ],
          [
           954,
           "Unzipped (1995)",
           11
          ],
          [
           955,
           "Before Sunrise (1995)",
           49
          ],
          [
           956,
           "Nobody's Fool (1994)",
           46
          ],
          [
           957,
           "Pushing Hands (1992)",
           2
          ],
          [
           958,
           "To Live (Huozhe) (1994)",
           14
          ],
          [
           959,
           "Dazed and Confused (1993)",
           64
          ],
          [
           960,
           "Naked (1993)",
           25
          ],
          [
           961,
           "Orlando (1993)",
           34
          ],
          [
           962,
           "Ruby in Paradise (1993)",
           23
          ],
          [
           963,
           "Some Folks Call It a Sling Blade (1993)",
           41
          ],
          [
           964,
           "Month by the Lake, A (1995)",
           9
          ],
          [
           965,
           "Funny Face (1957)",
           21
          ],
          [
           966,
           "Affair to Remember, An (1957)",
           26
          ],
          [
           967,
           "Little Lord Fauntleroy (1936)",
           12
          ],
          [
           968,
           "Inspector General, The (1949)",
           18
          ],
          [
           969,
           "Winnie the Pooh and the Blustery Day (1968)",
           75
          ],
          [
           970,
           "Hear My Song (1991)",
           8
          ],
          [
           971,
           "Mediterraneo (1991)",
           34
          ],
          [
           972,
           "Passion Fish (1992)",
           28
          ],
          [
           973,
           "Grateful Dead (1995)",
           4
          ],
          [
           974,
           "Eye for an Eye (1996)",
           32
          ],
          [
           975,
           "Fear (1996)",
           44
          ],
          [
           976,
           "Solo (1996)",
           12
          ],
          [
           977,
           "Substitute, The (1996)",
           49
          ],
          [
           978,
           "Heaven's Prisoners (1996)",
           27
          ],
          [
           979,
           "Trigger Effect, The (1996)",
           35
          ],
          [
           980,
           "Mother Night (1996)",
           22
          ],
          [
           981,
           "Dangerous Ground (1997)",
           8
          ],
          [
           982,
           "Maximum Risk (1996)",
           20
          ],
          [
           983,
           "Rich Man's Wife, The (1996)",
           15
          ],
          [
           984,
           "Shadow Conspiracy (1997)",
           44
          ],
          [
           985,
           "Blood & Wine (1997)",
           22
          ],
          [
           986,
           "Turbulence (1997)",
           23
          ],
          [
           987,
           "Underworld (1997)",
           4
          ],
          [
           988,
           "Beautician and the Beast, The (1997)",
           86
          ],
          [
           989,
           "Cats Don't Dance (1997)",
           32
          ],
          [
           990,
           "Anna Karenina (1997)",
           33
          ],
          [
           991,
           "Keys to Tulsa (1997)",
           25
          ],
          [
           992,
           "Head Above Water (1996)",
           4
          ],
          [
           993,
           "Hercules (1997)",
           66
          ],
          [
           994,
           "Last Time I Committed Suicide, The (1997)",
           7
          ],
          [
           995,
           "Kiss Me, Guido (1997)",
           31
          ],
          [
           996,
           "Big Green, The (1995)",
           14
          ],
          [
           997,
           "Stuart Saves His Family (1995)",
           16
          ],
          [
           998,
           "Cabin Boy (1994)",
           16
          ],
          [
           999,
           "Clean Slate (1994)",
           10
          ],
          [
           1000,
           "Lightning Jack (1994)",
           10
          ],
          [
           1001,
           "Stupids, The (1996)",
           17
          ],
          [
           1002,
           "Pest, The (1997)",
           8
          ],
          [
           1003,
           "That Darn Cat! (1997)",
           8
          ],
          [
           1004,
           "Geronimo: An American Legend (1993)",
           9
          ],
          [
           1005,
           "Double vie de Véronique, La (Double Life of Veronique, The) (1991)",
           22
          ],
          [
           1006,
           "Until the End of the World (Bis ans Ende der Welt) (1991)",
           23
          ],
          [
           1007,
           "Waiting for Guffman (1996)",
           47
          ],
          [
           1008,
           "I Shot Andy Warhol (1996)",
           37
          ],
          [
           1009,
           "Stealing Beauty (1996)",
           64
          ],
          [
           1010,
           "Basquiat (1996)",
           44
          ],
          [
           1011,
           "2 Days in the Valley (1996)",
           93
          ],
          [
           1012,
           "Private Parts (1997)",
           100
          ],
          [
           1013,
           "Anaconda (1997)",
           38
          ],
          [
           1014,
           "Romy and Michele's High School Reunion (1997)",
           98
          ],
          [
           1015,
           "Shiloh (1997)",
           12
          ],
          [
           1016,
           "Con Air (1997)",
           137
          ],
          [
           1017,
           "Trees Lounge (1996)",
           50
          ],
          [
           1018,
           "Tie Me Up! Tie Me Down! (1990)",
           32
          ],
          [
           1019,
           "Die xue shuang xiong (Killer, The) (1989)",
           31
          ],
          [
           1020,
           "Gaslight (1944)",
           35
          ],
          [
           1021,
           "8 1/2 (1963)",
           38
          ],
          [
           1022,
           "Fast, Cheap & Out of Control (1997)",
           32
          ],
          [
           1023,
           "Fathers' Day (1997)",
           31
          ],
          [
           1024,
           "Mrs. Dalloway (1997)",
           15
          ],
          [
           1025,
           "Fire Down Below (1997)",
           44
          ],
          [
           1026,
           "Lay of the Land, The (1997)",
           4
          ],
          [
           1027,
           "Shooter, The (1995)",
           3
          ],
          [
           1028,
           "Grumpier Old Men (1995)",
           148
          ],
          [
           1029,
           "Jury Duty (1995)",
           14
          ],
          [
           1030,
           "Beverly Hillbillies, The (1993)",
           20
          ],
          [
           1031,
           "Lassie (1994)",
           7
          ],
          [
           1032,
           "Little Big League (1994)",
           16
          ],
          [
           1033,
           "Homeward Bound II: Lost in San Francisco (1996)",
           32
          ],
          [
           1034,
           "Quest, The (1996)",
           27
          ],
          [
           1035,
           "Cool Runnings (1993)",
           68
          ],
          [
           1036,
           "Drop Dead Fred (1991)",
           24
          ],
          [
           1037,
           "Grease 2 (1982)",
           24
          ],
          [
           1038,
           "Switchback (1997)",
           17
          ],
          [
           1039,
           "Hamlet (1996)",
           90
          ],
          [
           1040,
           "Two if by Sea (1996)",
           25
          ],
          [
           1041,
           "Forget Paris (1995)",
           62
          ],
          [
           1042,
           "Just Cause (1995)",
           28
          ],
          [
           1043,
           "Rent-a-Kid (1995)",
           8
          ],
          [
           1044,
           "Paper, The (1994)",
           40
          ],
          [
           1045,
           "Fearless (1993)",
           25
          ],
          [
           1046,
           "Malice (1993)",
           46
          ],
          [
           1047,
           "Multiplicity (1996)",
           134
          ],
          [
           1048,
           "She's the One (1996)",
           73
          ],
          [
           1049,
           "House Arrest (1996)",
           25
          ],
          [
           1050,
           "Ghost and Mrs. Muir, The (1947)",
           43
          ],
          [
           1051,
           "Associate, The (1996)",
           41
          ],
          [
           1052,
           "Dracula: Dead and Loving It (1995)",
           25
          ],
          [
           1053,
           "Now and Then (1995)",
           24
          ],
          [
           1054,
           "Mr. Wrong (1996)",
           23
          ],
          [
           1055,
           "Simple Twist of Fate, A (1994)",
           10
          ],
          [
           1056,
           "Cronos (1992)",
           10
          ],
          [
           1057,
           "Pallbearer, The (1996)",
           22
          ],
          [
           1058,
           "War, The (1994)",
           15
          ],
          [
           1059,
           "Don't Be a Menace to South Central While Drinking Your Juice in the Hood (1996)",
           35
          ],
          [
           1060,
           "Adventures of Pinocchio, The (1996)",
           39
          ],
          [
           1061,
           "Evening Star, The (1996)",
           29
          ],
          [
           1062,
           "Four Days in September (1997)",
           12
          ],
          [
           1063,
           "Little Princess, A (1995)",
           41
          ],
          [
           1064,
           "Crossfire (1947)",
           4
          ],
          [
           1065,
           "Koyaanisqatsi (1983)",
           53
          ],
          [
           1066,
           "Balto (1995)",
           16
          ],
          [
           1067,
           "Bottle Rocket (1996)",
           44
          ],
          [
           1068,
           "Star Maker, The (Uomo delle stelle, L') (1995)",
           12
          ],
          [
           1069,
           "Amateur (1994)",
           18
          ],
          [
           1070,
           "Living in Oblivion (1995)",
           27
          ],
          [
           1071,
           "Party Girl (1995)",
           16
          ],
          [
           1072,
           "Pyromaniac's Love Story, A (1995)",
           7
          ],
          [
           1073,
           "Shallow Grave (1994)",
           66
          ],
          [
           1074,
           "Reality Bites (1994)",
           77
          ],
          [
           1075,
           "Man of No Importance, A (1994)",
           7
          ],
          [
           1076,
           "Pagemaster, The (1994)",
           12
          ],
          [
           1077,
           "Love and a .45 (1994)",
           8
          ],
          [
           1078,
           "Oliver & Company (1988)",
           22
          ],
          [
           1079,
           "Joe's Apartment (1996)",
           45
          ],
          [
           1080,
           "Celestial Clockwork (1994)",
           2
          ],
          [
           1081,
           "Curdled (1996)",
           8
          ],
          [
           1082,
           "Female Perversions (1996)",
           8
          ],
          [
           1083,
           "Albino Alligator (1996)",
           6
          ],
          [
           1084,
           "Anne Frank Remembered (1995)",
           21
          ],
          [
           1085,
           "Carried Away (1996)",
           11
          ],
          [
           1086,
           "It's My Party (1995)",
           21
          ],
          [
           1087,
           "Bloodsport 2 (1995)",
           10
          ],
          [
           1088,
           "Double Team (1997)",
           13
          ],
          [
           1089,
           "Speed 2: Cruise Control (1997)",
           38
          ],
          [
           1090,
           "Sliver (1993)",
           37
          ],
          [
           1091,
           "Pete's Dragon (1977)",
           43
          ],
          [
           1092,
           "Dear God (1996)",
           12
          ],
          [
           1093,
           "Live Nude Girls (1995)",
           23
          ],
          [
           1094,
           "Thin Line Between Love and Hate, A (1996)",
           12
          ],
          [
           1095,
           "High School High (1996)",
           29
          ],
          [
           1096,
           "Commandments (1997)",
           3
          ],
          [
           1097,
           "Hate (Haine, La) (1995)",
           18
          ],
          [
           1098,
           "Flirting With Disaster (1996)",
           42
          ],
          [
           1099,
           "Red Firecracker, Green Firecracker (1994)",
           13
          ],
          [
           1100,
           "What Happened Was... (1994)",
           8
          ],
          [
           1101,
           "Six Degrees of Separation (1993)",
           74
          ],
          [
           1102,
           "Two Much (1996)",
           7
          ],
          [
           1103,
           "Trust (1990)",
           19
          ],
          [
           1104,
           "C'est arrivé près de chez vous (1992)",
           4
          ],
          [
           1105,
           "Firestorm (1998)",
           18
          ],
          [
           1106,
           "Newton Boys, The (1998)",
           4
          ],
          [
           1107,
           "Beyond Rangoon (1995)",
           18
          ],
          [
           1108,
           "Feast of July (1995)",
           5
          ],
          [
           1109,
           "Death and the Maiden (1994)",
           28
          ],
          [
           1110,
           "Tank Girl (1995)",
           41
          ],
          [
           1111,
           "Double Happiness (1994)",
           7
          ],
          [
           1112,
           "Cobb (1994)",
           15
          ],
          [
           1113,
           "Mrs. Parker and the Vicious Circle (1994)",
           22
          ],
          [
           1114,
           "Faithful (1996)",
           10
          ],
          [
           1115,
           "Twelfth Night (1996)",
           29
          ],
          [
           1116,
           "Mark of Zorro, The (1940)",
           13
          ],
          [
           1117,
           "Surviving Picasso (1996)",
           19
          ],
          [
           1118,
           "Up in Smoke (1978)",
           47
          ],
          [
           1119,
           "Some Kind of Wonderful (1987)",
           59
          ],
          [
           1120,
           "I'm Not Rappaport (1996)",
           17
          ],
          [
           1121,
           "Umbrellas of Cherbourg, The (Parapluies de Cherbourg, Les) (1964)",
           21
          ],
          [
           1122,
           "They Made Me a Criminal (1939)",
           1
          ],
          [
           1123,
           "Last Time I Saw Paris, The (1954)",
           3
          ],
          [
           1124,
           "Farewell to Arms, A (1932)",
           12
          ],
          [
           1125,
           "Innocents, The (1961)",
           4
          ],
          [
           1126,
           "Old Man and the Sea, The (1958)",
           32
          ],
          [
           1127,
           "Truman Show, The (1998)",
           11
          ],
          [
           1128,
           "Heidi Fleiss: Hollywood Madam (1995) ",
           13
          ],
          [
           1129,
           "Chungking Express (1994)",
           28
          ],
          [
           1130,
           "Jupiter's Wife (1994)",
           1
          ],
          [
           1131,
           "Safe (1995)",
           13
          ],
          [
           1132,
           "Feeling Minnesota (1996)",
           32
          ],
          [
           1133,
           "Escape to Witch Mountain (1975)",
           30
          ],
          [
           1134,
           "Get on the Bus (1996)",
           38
          ],
          [
           1135,
           "Doors, The (1991)",
           46
          ],
          [
           1136,
           "Ghosts of Mississippi (1996)",
           29
          ],
          [
           1137,
           "Beautiful Thing (1996)",
           29
          ],
          [
           1138,
           "Best Men (1997)",
           5
          ],
          [
           1139,
           "Hackers (1995)",
           33
          ],
          [
           1140,
           "Road to Wellville, The (1994)",
           17
          ],
          [
           1141,
           "War Room, The (1993)",
           9
          ],
          [
           1142,
           "When We Were Kings (1996)",
           44
          ],
          [
           1143,
           "Hard Eight (1996)",
           15
          ],
          [
           1144,
           "Quiet Room, The (1996)",
           3
          ],
          [
           1145,
           "Blue Chips (1994)",
           9
          ],
          [
           1146,
           "Calendar Girl (1993)",
           3
          ],
          [
           1147,
           "My Family (1995)",
           21
          ],
          [
           1148,
           "Tom & Viv (1994)",
           9
          ],
          [
           1149,
           "Walkabout (1971)",
           26
          ],
          [
           1150,
           "Last Dance (1996)",
           9
          ],
          [
           1151,
           "Original Gangstas (1996)",
           7
          ],
          [
           1152,
           "In Love and War (1996)",
           28
          ],
          [
           1153,
           "Backbeat (1993)",
           19
          ],
          [
           1154,
           "Alphaville (1965)",
           12
          ],
          [
           1155,
           "Rendezvous in Paris (Rendez-vous de Paris, Les) (1995)",
           3
          ],
          [
           1156,
           "Cyclo (1995)",
           1
          ],
          [
           1157,
           "Relic, The (1997)",
           25
          ],
          [
           1158,
           "Fille seule, La (A Single Girl) (1995)",
           4
          ],
          [
           1159,
           "Stalker (1979)",
           11
          ],
          [
           1160,
           "Love! Valour! Compassion! (1997)",
           26
          ],
          [
           1161,
           "Palookaville (1996)",
           13
          ],
          [
           1162,
           "Phat Beach (1996)",
           5
          ],
          [
           1163,
           "Portrait of a Lady, The (1996)",
           25
          ],
          [
           1164,
           "Zeus and Roxanne (1997)",
           6
          ],
          [
           1165,
           "Big Bully (1996)",
           14
          ],
          [
           1166,
           "Love & Human Remains (1993)",
           12
          ],
          [
           1167,
           "Sum of Us, The (1994)",
           11
          ],
          [
           1168,
           "Little Buddha (1993)",
           22
          ],
          [
           1169,
           "Fresh (1994)",
           10
          ],
          [
           1170,
           "Spanking the Monkey (1994)",
           27
          ],
          [
           1171,
           "Wild Reeds (1994)",
           14
          ],
          [
           1172,
           "Women, The (1939)",
           15
          ],
          [
           1173,
           "Bliss (1997)",
           7
          ],
          [
           1174,
           "Caught (1996)",
           8
          ],
          [
           1175,
           "Hugo Pool (1997)",
           5
          ],
          [
           1176,
           "Welcome To Sarajevo (1997)",
           22
          ],
          [
           1177,
           "Dunston Checks In (1996)",
           7
          ],
          [
           1178,
           "Major Payne (1994)",
           19
          ],
          [
           1179,
           "Man of the House (1995)",
           9
          ],
          [
           1180,
           "I Love Trouble (1994)",
           10
          ],
          [
           1181,
           "Low Down Dirty Shame, A (1994)",
           10
          ],
          [
           1182,
           "Cops and Robbersons (1994)",
           13
          ],
          [
           1183,
           "Cowboy Way, The (1994)",
           19
          ],
          [
           1184,
           "Endless Summer 2, The (1994)",
           10
          ],
          [
           1185,
           "In the Army Now (1994)",
           18
          ],
          [
           1186,
           "Inkwell, The (1994)",
           3
          ],
          [
           1187,
           "Switchblade Sisters (1975)",
           13
          ],
          [
           1188,
           "Young Guns II (1990)",
           44
          ],
          [
           1189,
           "Prefontaine (1997)",
           3
          ],
          [
           1190,
           "That Old Feeling (1997)",
           11
          ],
          [
           1191,
           "Letter From Death Row, A (1998)",
           3
          ],
          [
           1192,
           "Boys of St. Vincent, The (1993)",
           13
          ],
          [
           1193,
           "Before the Rain (Pred dozhdot) (1994)",
           10
          ],
          [
           1194,
           "Once Were Warriors (1994)",
           31
          ],
          [
           1195,
           "Strawberry and Chocolate (Fresa y chocolate) (1993)",
           11
          ],
          [
           1196,
           "Savage Nights (Nuits fauves, Les) (1992)",
           3
          ],
          [
           1197,
           "Family Thing, A (1996)",
           45
          ],
          [
           1198,
           "Purple Noon (1960)",
           7
          ],
          [
           1199,
           "Cemetery Man (Dellamorte Dellamore) (1994)",
           23
          ],
          [
           1200,
           "Kim (1950)",
           7
          ],
          [
           1201,
           "Marlene Dietrich: Shadow and Light (1996) ",
           1
          ],
          [
           1202,
           "Maybe, Maybe Not (Bewegte Mann, Der) (1994)",
           8
          ],
          [
           1203,
           "Top Hat (1935)",
           21
          ],
          [
           1204,
           "To Be or Not to Be (1942)",
           18
          ],
          [
           1205,
           "Secret Agent, The (1996)",
           6
          ],
          [
           1206,
           "Amos & Andrew (1993)",
           19
          ],
          [
           1207,
           "Jade (1995)",
           17
          ],
          [
           1208,
           "Kiss of Death (1995)",
           20
          ],
          [
           1209,
           "Mixed Nuts (1994)",
           15
          ],
          [
           1210,
           "Virtuosity (1995)",
           38
          ],
          [
           1211,
           "Blue Sky (1994)",
           12
          ],
          [
           1212,
           "Flesh and Bone (1993)",
           6
          ],
          [
           1213,
           "Guilty as Sin (1993)",
           6
          ],
          [
           1214,
           "In the Realm of the Senses (Ai no corrida) (1976)",
           9
          ],
          [
           1215,
           "Barb Wire (1996)",
           30
          ],
          [
           1216,
           "Kissed (1996)",
           6
          ],
          [
           1217,
           "Assassins (1995)",
           39
          ],
          [
           1218,
           "Friday (1995)",
           26
          ],
          [
           1219,
           "Goofy Movie, A (1995)",
           20
          ],
          [
           1220,
           "Higher Learning (1995)",
           30
          ],
          [
           1221,
           "When a Man Loves a Woman (1994)",
           39
          ],
          [
           1222,
           "Judgment Night (1993)",
           25
          ],
          [
           1223,
           "King of the Hill (1993)",
           4
          ],
          [
           1224,
           "Scout, The (1994)",
           12
          ],
          [
           1225,
           "Angus (1995)",
           14
          ],
          [
           1226,
           "Night Falls on Manhattan (1997)",
           32
          ],
          [
           1227,
           "Awfully Big Adventure, An (1995)",
           8
          ],
          [
           1228,
           "Under Siege 2: Dark Territory (1995)",
           48
          ],
          [
           1229,
           "Poison Ivy II (1995)",
           13
          ],
          [
           1230,
           "Ready to Wear (Pret-A-Porter) (1994)",
           18
          ],
          [
           1231,
           "Marked for Death (1990)",
           22
          ],
          [
           1232,
           "Madonna: Truth or Dare (1991)",
           17
          ],
          [
           1233,
           "Nénette et Boni (1996)",
           6
          ],
          [
           1234,
           "Chairman of the Board (1998)",
           8
          ],
          [
           1235,
           "Big Bang Theory, The (1994)",
           1
          ],
          [
           1236,
           "Other Voices, Other Rooms (1997)",
           1
          ],
          [
           1237,
           "Twisted (1996)",
           6
          ],
          [
           1238,
           "Full Speed (1996)",
           8
          ],
          [
           1239,
           "Cutthroat Island (1995)",
           18
          ],
          [
           1240,
           "Ghost in the Shell (Kokaku kidotai) (1995)",
           26
          ],
          [
           1241,
           "Van, The (1996)",
           6
          ],
          [
           1242,
           "Old Lady Who Walked in the Sea, The (Vieille qui marchait dans la mer, La) (1991)",
           5
          ],
          [
           1243,
           "Night Flier (1997)",
           7
          ],
          [
           1244,
           "Metro (1997)",
           36
          ],
          [
           1245,
           "Gridlock'd (1997)",
           19
          ],
          [
           1246,
           "Bushwhacked (1995)",
           7
          ],
          [
           1247,
           "Bad Girls (1994)",
           6
          ],
          [
           1248,
           "Blink (1994)",
           19
          ],
          [
           1249,
           "For Love or Money (1993)",
           12
          ],
          [
           1250,
           "Best of the Best 3: No Turning Back (1995)",
           6
          ],
          [
           1251,
           "A Chef in Love (1996)",
           8
          ],
          [
           1252,
           "Contempt (Mépris, Le) (1963)",
           9
          ],
          [
           1253,
           "Tie That Binds, The (1995)",
           7
          ],
          [
           1254,
           "Gone Fishin' (1997)",
           11
          ],
          [
           1255,
           "Broken English (1996)",
           8
          ],
          [
           1256,
           "Designated Mourner, The (1997)",
           3
          ],
          [
           1257,
           "Designated Mourner, The (1997)",
           4
          ],
          [
           1258,
           "Trial and Error (1997)",
           23
          ],
          [
           1259,
           "Pie in the Sky (1995)",
           4
          ],
          [
           1260,
           "Total Eclipse (1995)",
           4
          ],
          [
           1261,
           "Run of the Country, The (1995)",
           4
          ],
          [
           1262,
           "Walking and Talking (1996)",
           8
          ],
          [
           1263,
           "Foxfire (1996)",
           15
          ],
          [
           1264,
           "Nothing to Lose (1994)",
           7
          ],
          [
           1265,
           "Star Maps (1997)",
           19
          ],
          [
           1266,
           "Bread and Chocolate (Pane e cioccolata) (1973)",
           12
          ],
          [
           1267,
           "Clockers (1995)",
           33
          ],
          [
           1268,
           "Bitter Moon (1992)",
           10
          ],
          [
           1269,
           "Love in the Afternoon (1957)",
           10
          ],
          [
           1270,
           "Life with Mikey (1993)",
           7
          ],
          [
           1271,
           "North (1994)",
           7
          ],
          [
           1272,
           "Talking About Sex (1994)",
           5
          ],
          [
           1273,
           "Color of Night (1994)",
           15
          ],
          [
           1274,
           "Robocop 3 (1993)",
           11
          ],
          [
           1275,
           "Killer (Bulletproof Heart) (1994)",
           4
          ],
          [
           1276,
           "Sunset Park (1996)",
           8
          ],
          [
           1277,
           "Set It Off (1996)",
           19
          ],
          [
           1278,
           "Selena (1997)",
           16
          ],
          [
           1279,
           "Wild America (1997)",
           9
          ],
          [
           1280,
           "Gang Related (1997)",
           16
          ],
          [
           1281,
           "Manny & Lo (1996)",
           13
          ],
          [
           1282,
           "Grass Harp, The (1995)",
           9
          ],
          [
           1283,
           "Out to Sea (1997)",
           19
          ],
          [
           1284,
           "Before and After (1996)",
           26
          ],
          [
           1285,
           "Princess Caraboo (1994)",
           15
          ],
          [
           1286,
           "Shall We Dance? (1937)",
           17
          ],
          [
           1287,
           "Ed (1996)",
           6
          ],
          [
           1288,
           "Denise Calls Up (1995)",
           7
          ],
          [
           1289,
           "Jack and Sarah (1995)",
           7
          ],
          [
           1290,
           "Country Life (1994)",
           2
          ],
          [
           1291,
           "Celtic Pride (1996)",
           15
          ],
          [
           1292,
           "Simple Wish, A (1997)",
           3
          ],
          [
           1293,
           "Star Kid (1997)",
           3
          ],
          [
           1294,
           "Ayn Rand: A Sense of Life (1997)",
           7
          ],
          [
           1295,
           "Kicked in the Head (1997)",
           7
          ],
          [
           1296,
           "Indian Summer (1996)",
           20
          ],
          [
           1297,
           "Love Affair (1994)",
           12
          ],
          [
           1298,
           "Band Wagon, The (1953)",
           9
          ],
          [
           1299,
           "Penny Serenade (1941)",
           8
          ],
          [
           1300,
           "'Til There Was You (1997)",
           9
          ],
          [
           1301,
           "Stripes (1981)",
           5
          ],
          [
           1302,
           "Late Bloomers (1996)",
           5
          ],
          [
           1303,
           "Getaway, The (1994)",
           18
          ],
          [
           1304,
           "New York Cop (1996)",
           2
          ],
          [
           1305,
           "National Lampoon's Senior Trip (1995)",
           7
          ],
          [
           1306,
           "Delta of Venus (1994)",
           2
          ],
          [
           1307,
           "Carmen Miranda: Bananas Is My Business (1994)",
           2
          ],
          [
           1308,
           "Babyfever (1994)",
           2
          ],
          [
           1309,
           "Very Natural Thing, A (1974)",
           1
          ],
          [
           1310,
           "Walk in the Sun, A (1945)",
           1
          ],
          [
           1311,
           "Waiting to Exhale (1995)",
           16
          ],
          [
           1312,
           "Pompatus of Love, The (1996)",
           7
          ],
          [
           1313,
           "Palmetto (1998)",
           14
          ],
          [
           1314,
           "Surviving the Game (1994)",
           11
          ],
          [
           1315,
           "Inventing the Abbotts (1997)",
           23
          ],
          [
           1316,
           "Horse Whisperer, The (1998)",
           7
          ],
          [
           1317,
           "Journey of August King, The (1995)",
           4
          ],
          [
           1318,
           "Catwalk (1995)",
           3
          ],
          [
           1319,
           "Neon Bible, The (1995)",
           4
          ],
          [
           1320,
           "Homage (1995)",
           1
          ],
          [
           1321,
           "Open Season (1996)",
           2
          ],
          [
           1322,
           "Metisse (Café au Lait) (1993)",
           6
          ],
          [
           1323,
           "Wooden Man's Bride, The (Wu Kui) (1994)",
           3
          ],
          [
           1324,
           "Loaded (1994)",
           5
          ],
          [
           1325,
           "August (1996)",
           1
          ],
          [
           1326,
           "Boys (1996)",
           6
          ],
          [
           1327,
           "Captives (1994)",
           3
          ],
          [
           1328,
           "Of Love and Shadows (1994)",
           6
          ],
          [
           1329,
           "Low Life, The (1994)",
           1
          ],
          [
           1330,
           "An Unforgettable Summer (1994)",
           4
          ],
          [
           1331,
           "Last Klezmer: Leopold Kozlowski, His Life and Music, The (1995)",
           4
          ],
          [
           1332,
           "My Life and Times With Antonin Artaud (En compagnie d'Antonin Artaud) (1993)",
           2
          ],
          [
           1333,
           "Midnight Dancers (Sibak) (1994)",
           5
          ],
          [
           1334,
           "Somebody to Love (1994)",
           2
          ],
          [
           1335,
           "American Buffalo (1996)",
           11
          ],
          [
           1336,
           "Kazaam (1996)",
           10
          ],
          [
           1337,
           "Larger Than Life (1996)",
           9
          ],
          [
           1338,
           "Two Deaths (1995)",
           4
          ],
          [
           1339,
           "Stefano Quantestorie (1993)",
           1
          ],
          [
           1340,
           "Crude Oasis, The (1995)",
           1
          ],
          [
           1341,
           "Hedd Wyn (1992)",
           1
          ],
          [
           1342,
           "Convent, The (Convento, O) (1995)",
           2
          ],
          [
           1343,
           "Lotto Land (1995)",
           1
          ],
          [
           1344,
           "Story of Xinghua, The (1993)",
           5
          ],
          [
           1345,
           "Day the Sun Turned Cold, The (Tianguo niezi) (1994)",
           2
          ],
          [
           1346,
           "Dingo (1992)",
           5
          ],
          [
           1347,
           "Ballad of Narayama, The (Narayama Bushiko) (1958)",
           4
          ],
          [
           1348,
           "Every Other Weekend (1990)",
           1
          ],
          [
           1349,
           "Mille bolle blu (1993)",
           1
          ],
          [
           1350,
           "Crows and Sparrows (1949)",
           2
          ],
          [
           1351,
           "Lover's Knot (1996)",
           3
          ],
          [
           1352,
           "Shadow of Angels (Schatten der Engel) (1976)",
           1
          ],
          [
           1353,
           "1-900 (1994)",
           5
          ],
          [
           1354,
           "Venice/Venice (1992)",
           2
          ],
          [
           1355,
           "Infinity (1996)",
           6
          ],
          [
           1356,
           "Ed's Next Move (1996)",
           3
          ],
          [
           1357,
           "For the Moment (1994)",
           3
          ],
          [
           1358,
           "The Deadly Cure (1996)",
           2
          ],
          [
           1359,
           "Boys in Venice (1996)",
           2
          ],
          [
           1360,
           "Sexual Life of the Belgians, The (1994)",
           2
          ],
          [
           1361,
           "Search for One-eye Jimmy, The (1996)",
           3
          ],
          [
           1362,
           "American Strays (1996)",
           2
          ],
          [
           1363,
           "Leopard Son, The (1996)",
           1
          ],
          [
           1364,
           "Bird of Prey (1996)",
           1
          ],
          [
           1365,
           "Johnny 100 Pesos (1993)",
           2
          ],
          [
           1366,
           "JLG/JLG - autoportrait de décembre (1994)",
           1
          ],
          [
           1367,
           "Faust (1994)",
           5
          ],
          [
           1368,
           "Mina Tannenbaum (1994)",
           6
          ],
          [
           1369,
           "Forbidden Christ, The (Cristo proibito, Il) (1950)",
           4
          ],
          [
           1370,
           "I Can't Sleep (J'ai pas sommeil) (1994)",
           3
          ],
          [
           1371,
           "Machine, The (1994)",
           2
          ],
          [
           1372,
           "Stranger, The (1994)",
           3
          ],
          [
           1373,
           "Good Morning (1971)",
           1
          ],
          [
           1374,
           "Falling in Love Again (1980)",
           2
          ],
          [
           1375,
           "Cement Garden, The (1993)",
           10
          ],
          [
           1376,
           "Meet Wally Sparks (1997)",
           7
          ],
          [
           1377,
           "Hotel de Love (1996)",
           4
          ],
          [
           1378,
           "Rhyme & Reason (1997)",
           5
          ],
          [
           1379,
           "Love and Other Catastrophes (1996)",
           7
          ],
          [
           1380,
           "Hollow Reed (1996)",
           6
          ],
          [
           1381,
           "Losing Chase (1996)",
           8
          ],
          [
           1382,
           "Bonheur, Le (1965)",
           4
          ],
          [
           1383,
           "Second Jungle Book: Mowgli & Baloo, The (1997)",
           6
          ],
          [
           1384,
           "Squeeze (1996)",
           3
          ],
          [
           1385,
           "Roseanna's Grave (For Roseanna) (1997)",
           5
          ],
          [
           1386,
           "Tetsuo II: Body Hammer (1992)",
           6
          ],
          [
           1387,
           "Fall (1997)",
           3
          ],
          [
           1388,
           "Gabbeh (1996)",
           6
          ],
          [
           1389,
           "Mondo (1996)",
           3
          ],
          [
           1390,
           "Innocent Sleep, The (1995)",
           2
          ],
          [
           1391,
           "For Ever Mozart (1996)",
           3
          ],
          [
           1392,
           "Locusts, The (1997)",
           5
          ],
          [
           1393,
           "Stag (1997)",
           9
          ],
          [
           1394,
           "Swept from the Sea (1997)",
           7
          ],
          [
           1395,
           "Hurricane Streets (1998)",
           6
          ],
          [
           1396,
           "Stonewall (1995)",
           5
          ],
          [
           1397,
           "Of Human Bondage (1934)",
           5
          ],
          [
           1398,
           "Anna (1996)",
           2
          ],
          [
           1399,
           "Stranger in the House (1997)",
           7
          ],
          [
           1400,
           "Picture Bride (1995)",
           10
          ],
          [
           1401,
           "M. Butterfly (1993)",
           18
          ],
          [
           1402,
           "Ciao, Professore! (1993)",
           4
          ],
          [
           1403,
           "Caro Diario (Dear Diary) (1994)",
           4
          ],
          [
           1404,
           "Withnail and I (1987)",
           13
          ],
          [
           1405,
           "Boy's Life 2 (1997)",
           6
          ],
          [
           1406,
           "When Night Is Falling (1995)",
           5
          ],
          [
           1407,
           "Specialist, The (1994)",
           20
          ],
          [
           1408,
           "Gordy (1995)",
           3
          ],
          [
           1409,
           "Swan Princess, The (1994)",
           7
          ],
          [
           1410,
           "Harlem (1993)",
           4
          ],
          [
           1411,
           "Barbarella (1968)",
           28
          ],
          [
           1412,
           "Land Before Time III: The Time of the Great Giving (1995) (V)",
           6
          ],
          [
           1413,
           "Street Fighter (1994)",
           8
          ],
          [
           1414,
           "Coldblooded (1995)",
           1
          ],
          [
           1415,
           "Next Karate Kid, The (1994)",
           9
          ],
          [
           1416,
           "No Escape (1994)",
           5
          ],
          [
           1417,
           "Turning, The (1992)",
           2
          ],
          [
           1418,
           "Joy Luck Club, The (1993)",
           3
          ],
          [
           1419,
           "Highlander III: The Sorcerer (1994)",
           16
          ],
          [
           1420,
           "Gilligan's Island: The Movie (1998)",
           3
          ],
          [
           1421,
           "My Crazy Life (Mi vida loca) (1993)",
           11
          ],
          [
           1422,
           "Suture (1993)",
           4
          ],
          [
           1423,
           "Walking Dead, The (1995)",
           4
          ],
          [
           1424,
           "I Like It Like That (1994)",
           3
          ],
          [
           1425,
           "I'll Do Anything (1994)",
           10
          ],
          [
           1426,
           "Grace of My Heart (1996)",
           8
          ],
          [
           1427,
           "Drunks (1995)",
           5
          ],
          [
           1428,
           "SubUrbia (1997)",
           12
          ],
          [
           1429,
           "Sliding Doors (1998)",
           4
          ],
          [
           1430,
           "Ill Gotten Gains (1997)",
           3
          ],
          [
           1431,
           "Legal Deceit (1997)",
           5
          ],
          [
           1432,
           "Mighty, The (1998)",
           3
          ],
          [
           1433,
           "Men of Means (1998)",
           2
          ],
          [
           1434,
           "Shooting Fish (1997)",
           10
          ],
          [
           1435,
           "Steal Big, Steal Little (1995)",
           7
          ],
          [
           1436,
           "Mr. Jones (1993)",
           2
          ],
          [
           1437,
           "House Party 3 (1994)",
           9
          ],
          [
           1438,
           "Panther (1995)",
           5
          ],
          [
           1439,
           "Jason's Lyric (1994)",
           8
          ],
          [
           1440,
           "Above the Rim (1994)",
           5
          ],
          [
           1441,
           "Moonlight and Valentino (1995)",
           7
          ],
          [
           1442,
           "Scarlet Letter, The (1995)",
           5
          ],
          [
           1443,
           "8 Seconds (1994)",
           4
          ],
          [
           1444,
           "That Darn Cat! (1965)",
           19
          ],
          [
           1445,
           "Ladybird Ladybird (1994)",
           4
          ],
          [
           1446,
           "Bye Bye, Love (1995)",
           15
          ],
          [
           1447,
           "Century (1993)",
           1
          ],
          [
           1448,
           "My Favorite Season (1993)",
           3
          ],
          [
           1449,
           "Pather Panchali (1955)",
           8
          ],
          [
           1450,
           "Golden Earrings (1947)",
           2
          ],
          [
           1451,
           "Foreign Correspondent (1940)",
           15
          ],
          [
           1452,
           "Lady of Burlesque (1943)",
           1
          ],
          [
           1453,
           "Angel on My Shoulder (1946)",
           1
          ],
          [
           1454,
           "Angel and the Badman (1947)",
           6
          ],
          [
           1455,
           "Outlaw, The (1943)",
           2
          ],
          [
           1456,
           "Beat the Devil (1954)",
           7
          ],
          [
           1457,
           "Love Is All There Is (1996)",
           1
          ],
          [
           1458,
           "Damsel in Distress, A (1937)",
           1
          ],
          [
           1459,
           "Madame Butterfly (1995)",
           7
          ],
          [
           1460,
           "Sleepover (1995)",
           1
          ],
          [
           1461,
           "Here Comes Cookie (1935)",
           1
          ],
          [
           1462,
           "Thieves (Voleurs, Les) (1996)",
           7
          ],
          [
           1463,
           "Boys, Les (1997)",
           3
          ],
          [
           1464,
           "Stars Fell on Henrietta, The (1995)",
           3
          ],
          [
           1465,
           "Last Summer in the Hamptons (1995)",
           3
          ],
          [
           1466,
           "Margaret's Museum (1995)",
           6
          ],
          [
           1467,
           "Saint of Fort Washington, The (1993)",
           2
          ],
          [
           1468,
           "Cure, The (1995)",
           6
          ],
          [
           1469,
           "Tom and Huck (1995)",
           12
          ],
          [
           1470,
           "Gumby: The Movie (1995)",
           5
          ],
          [
           1471,
           "Hideaway (1995)",
           9
          ],
          [
           1472,
           "Visitors, The (Visiteurs, Les) (1993)",
           2
          ],
          [
           1473,
           "Little Princess, The (1939)",
           9
          ],
          [
           1474,
           "Nina Takes a Lover (1994)",
           6
          ],
          [
           1475,
           "Bhaji on the Beach (1993)",
           8
          ],
          [
           1476,
           "Raw Deal (1948)",
           1
          ],
          [
           1477,
           "Nightwatch (1997)",
           2
          ],
          [
           1478,
           "Dead Presidents (1995)",
           18
          ],
          [
           1479,
           "Reckless (1995)",
           8
          ],
          [
           1480,
           "Herbie Rides Again (1974)",
           11
          ],
          [
           1481,
           "S.F.W. (1994)",
           2
          ],
          [
           1482,
           "Gate of Heavenly Peace, The (1995)",
           1
          ],
          [
           1483,
           "Man in the Iron Mask, The (1998)",
           12
          ],
          [
           1484,
           "Jerky Boys, The (1994)",
           3
          ],
          [
           1485,
           "Colonel Chabert, Le (1994)",
           4
          ],
          [
           1486,
           "Girl in the Cadillac (1995)",
           1
          ],
          [
           1487,
           "Even Cowgirls Get the Blues (1993)",
           5
          ],
          [
           1488,
           "Germinal (1993)",
           4
          ],
          [
           1489,
           "Chasers (1994)",
           5
          ],
          [
           1490,
           "Fausto (1993)",
           3
          ],
          [
           1491,
           "Tough and Deadly (1995)",
           2
          ],
          [
           1492,
           "Window to Paris (1994)",
           1
          ],
          [
           1493,
           "Modern Affair, A (1995)",
           1
          ],
          [
           1494,
           "Mostro, Il (1994)",
           1
          ],
          [
           1495,
           "Flirt (1995)",
           5
          ],
          [
           1496,
           "Carpool (1996)",
           5
          ],
          [
           1497,
           "Line King: Al Hirschfeld, The (1996)",
           2
          ],
          [
           1498,
           "Farmer & Chase (1995)",
           1
          ],
          [
           1499,
           "Grosse Fatigue (1994)",
           4
          ],
          [
           1500,
           "Santa with Muscles (1996)",
           2
          ],
          [
           1501,
           "Prisoner of the Mountains (Kavkazsky Plennik) (1996)",
           5
          ],
          [
           1502,
           "Naked in New York (1994)",
           2
          ],
          [
           1503,
           "Gold Diggers: The Secret of Bear Mountain (1995)",
           10
          ],
          [
           1504,
           "Bewegte Mann, Der (1994)",
           3
          ],
          [
           1505,
           "Killer: A Journal of Murder (1995)",
           1
          ],
          [
           1506,
           "Nelly & Monsieur Arnaud (1995)",
           3
          ],
          [
           1507,
           "Three Lives and Only One Death (1996)",
           1
          ],
          [
           1508,
           "Babysitter, The (1995)",
           3
          ],
          [
           1509,
           "Getting Even with Dad (1994)",
           5
          ],
          [
           1510,
           "Mad Dog Time (1996)",
           1
          ],
          [
           1511,
           "Children of the Revolution (1996)",
           5
          ],
          [
           1512,
           "World of Apu, The (Apur Sansar) (1959)",
           6
          ],
          [
           1513,
           "Sprung (1997)",
           3
          ],
          [
           1514,
           "Dream With the Fishes (1997)",
           7
          ],
          [
           1515,
           "Wings of Courage (1995)",
           1
          ],
          [
           1516,
           "Wedding Gift, The (1994)",
           3
          ],
          [
           1517,
           "Race the Sun (1996)",
           5
          ],
          [
           1518,
           "Losing Isaiah (1995)",
           12
          ],
          [
           1519,
           "New Jersey Drive (1995)",
           2
          ],
          [
           1520,
           "Fear, The (1995)",
           1
          ],
          [
           1521,
           "Mr. Wonderful (1993)",
           4
          ],
          [
           1522,
           "Trial by Jury (1994)",
           7
          ],
          [
           1523,
           "Good Man in Africa, A (1994)",
           2
          ],
          [
           1524,
           "Kaspar Hauser (1993)",
           8
          ],
          [
           1525,
           "Object of My Affection, The (1998)",
           1
          ],
          [
           1526,
           "Witness (1985)",
           1
          ],
          [
           1527,
           "Senseless (1998)",
           7
          ],
          [
           1528,
           "Nowhere (1997)",
           3
          ],
          [
           1529,
           "Underground (1995)",
           5
          ],
          [
           1530,
           "Jefferson in Paris (1995)",
           5
          ],
          [
           1531,
           "Far From Home: The Adventures of Yellow Dog (1995)",
           7
          ],
          [
           1532,
           "Foreign Student (1994)",
           2
          ],
          [
           1533,
           "I Don't Want to Talk About It (De eso no se habla) (1993)",
           1
          ],
          [
           1534,
           "Twin Town (1997)",
           6
          ],
          [
           1535,
           "Enfer, L' (1994)",
           4
          ],
          [
           1536,
           "Aiqing wansui (1994)",
           1
          ],
          [
           1537,
           "Cosi (1996)",
           4
          ],
          [
           1538,
           "All Over Me (1997)",
           3
          ],
          [
           1539,
           "Being Human (1993)",
           4
          ],
          [
           1540,
           "Amazing Panda Adventure, The (1995)",
           10
          ],
          [
           1541,
           "Beans of Egypt, Maine, The (1994)",
           2
          ],
          [
           1542,
           "Scarlet Letter, The (1926)",
           2
          ],
          [
           1543,
           "Johns (1996)",
           1
          ],
          [
           1544,
           "It Takes Two (1995)",
           3
          ],
          [
           1545,
           "Frankie Starlight (1995)",
           4
          ],
          [
           1546,
           "Shadows (Cienie) (1988)",
           1
          ],
          [
           1547,
           "Show, The (1995)",
           2
          ],
          [
           1548,
           "The Courtyard (1995)",
           1
          ],
          [
           1549,
           "Dream Man (1995)",
           2
          ],
          [
           1550,
           "Destiny Turns on the Radio (1995)",
           2
          ],
          [
           1551,
           "Glass Shield, The (1994)",
           2
          ],
          [
           1552,
           "Hunted, The (1995)",
           3
          ],
          [
           1553,
           "Underneath, The (1995)",
           4
          ],
          [
           1554,
           "Safe Passage (1994)",
           2
          ],
          [
           1555,
           "Secret Adventures of Tom Thumb, The (1993)",
           5
          ],
          [
           1556,
           "Condition Red (1995)",
           2
          ],
          [
           1557,
           "Yankee Zulu (1994)",
           1
          ],
          [
           1558,
           "Aparajito (1956)",
           7
          ],
          [
           1559,
           "Hostile Intentions (1994)",
           1
          ],
          [
           1560,
           "Clean Slate (Coup de Torchon) (1981)",
           4
          ],
          [
           1561,
           "Tigrero: A Film That Was Never Made (1994)",
           1
          ],
          [
           1562,
           "Eye of Vichy, The (Oeil de Vichy, L') (1993)",
           1
          ],
          [
           1563,
           "Promise, The (Versprechen, Das) (1994)",
           1
          ],
          [
           1564,
           "To Cross the Rubicon (1991)",
           1
          ],
          [
           1565,
           "Daens (1992)",
           1
          ],
          [
           1566,
           "Man from Down Under, The (1943)",
           1
          ],
          [
           1567,
           "Careful (1992)",
           1
          ],
          [
           1568,
           "Vermont Is For Lovers (1992)",
           1
          ],
          [
           1569,
           "Vie est belle, La (Life is Rosey) (1987)",
           1
          ],
          [
           1570,
           "Quartier Mozart (1992)",
           1
          ],
          [
           1571,
           "Touki Bouki (Journey of the Hyena) (1973)",
           1
          ],
          [
           1572,
           "Wend Kuuni (God's Gift) (1982)",
           1
          ],
          [
           1573,
           "Spirits of the Dead (Tre passi nel delirio) (1968)",
           2
          ],
          [
           1574,
           "Pharaoh's Army (1995)",
           1
          ],
          [
           1575,
           "I, Worst of All (Yo, la peor de todas) (1990)",
           1
          ],
          [
           1576,
           "Hungarian Fairy Tale, A (1987)",
           1
          ],
          [
           1577,
           "Death in the Garden (Mort en ce jardin, La) (1956)",
           1
          ],
          [
           1578,
           "Collectionneuse, La (1967)",
           2
          ],
          [
           1579,
           "Baton Rouge (1988)",
           1
          ],
          [
           1580,
           "Liebelei (1933)",
           1
          ],
          [
           1581,
           "Woman in Question, The (1950)",
           1
          ],
          [
           1582,
           "T-Men (1947)",
           1
          ],
          [
           1583,
           "Invitation, The (Zaproszenie) (1986)",
           1
          ],
          [
           1584,
           "Symphonie pastorale, La (1946)",
           1
          ],
          [
           1585,
           "American Dream (1990)",
           2
          ],
          [
           1586,
           "Lashou shentan (1992)",
           1
          ],
          [
           1587,
           "Terror in a Texas Town (1958)",
           1
          ],
          [
           1588,
           "Salut cousin! (1996)",
           2
          ],
          [
           1589,
           "Schizopolis (1996)",
           4
          ],
          [
           1590,
           "To Have, or Not (1995)",
           2
          ],
          [
           1591,
           "Duoluo tianshi (1995)",
           6
          ],
          [
           1592,
           "Magic Hour, The (1998)",
           5
          ],
          [
           1593,
           "Death in Brunswick (1991)",
           1
          ],
          [
           1594,
           "Everest (1998)",
           2
          ],
          [
           1595,
           "Shopping (1994)",
           1
          ],
          [
           1596,
           "Nemesis 2: Nebula (1995)",
           1
          ],
          [
           1597,
           "Romper Stomper (1992)",
           5
          ],
          [
           1598,
           "City of Industry (1997)",
           6
          ],
          [
           1599,
           "Someone Else's America (1995)",
           1
          ],
          [
           1600,
           "Guantanamera (1994)",
           4
          ],
          [
           1601,
           "Office Killer (1997)",
           1
          ],
          [
           1602,
           "Price Above Rubies, A (1998)",
           3
          ],
          [
           1603,
           "Angela (1995)",
           1
          ],
          [
           1604,
           "He Walked by Night (1948)",
           1
          ],
          [
           1605,
           "Love Serenade (1996)",
           4
          ],
          [
           1606,
           "Deceiver (1997)",
           1
          ],
          [
           1607,
           "Hurricane Streets (1998)",
           3
          ],
          [
           1608,
           "Buddy (1997)",
           4
          ],
          [
           1609,
           "B*A*P*S (1997)",
           3
          ],
          [
           1610,
           "Truth or Consequences, N.M. (1997)",
           3
          ],
          [
           1611,
           "Intimate Relations (1996)",
           2
          ],
          [
           1612,
           "Leading Man, The (1996)",
           4
          ],
          [
           1613,
           "Tokyo Fist (1995)",
           1
          ],
          [
           1614,
           "Reluctant Debutante, The (1958)",
           1
          ],
          [
           1615,
           "Warriors of Virtue (1997)",
           10
          ],
          [
           1616,
           "Desert Winds (1995)",
           1
          ],
          [
           1617,
           "Hugo Pool (1997)",
           2
          ],
          [
           1618,
           "King of New York (1990)",
           1
          ],
          [
           1619,
           "All Things Fair (1996)",
           1
          ],
          [
           1620,
           "Sixth Man, The (1997)",
           9
          ],
          [
           1621,
           "Butterfly Kiss (1995)",
           1
          ],
          [
           1622,
           "Paris, France (1993)",
           3
          ],
          [
           1623,
           "Cérémonie, La (1995)",
           3
          ],
          [
           1624,
           "Hush (1998)",
           1
          ],
          [
           1625,
           "Nightwatch (1997)",
           1
          ],
          [
           1626,
           "Nobody Loves Me (Keiner liebt mich) (1994)",
           1
          ],
          [
           1627,
           "Wife, The (1995)",
           1
          ],
          [
           1628,
           "Lamerica (1994)",
           4
          ],
          [
           1629,
           "Nico Icon (1995)",
           2
          ],
          [
           1630,
           "Silence of the Palace, The (Saimt el Qusur) (1994)",
           1
          ],
          [
           1631,
           "Slingshot, The (1993)",
           2
          ],
          [
           1632,
           "Land and Freedom (Tierra y libertad) (1995)",
           1
          ],
          [
           1633,
           "Á köldum klaka (Cold Fever) (1994)",
           1
          ],
          [
           1634,
           "Etz Hadomim Tafus (Under the Domin Tree) (1994)",
           1
          ],
          [
           1635,
           "Two Friends (1986) ",
           1
          ],
          [
           1636,
           "Brothers in Trouble (1995)",
           1
          ],
          [
           1637,
           "Girls Town (1996)",
           1
          ],
          [
           1638,
           "Normal Life (1996)",
           1
          ],
          [
           1639,
           "Bitter Sugar (Azucar Amargo) (1996)",
           3
          ],
          [
           1640,
           "Eighth Day, The (1996)",
           1
          ],
          [
           1641,
           "Dadetown (1995)",
           1
          ],
          [
           1642,
           "Some Mother's Son (1996)",
           2
          ],
          [
           1643,
           "Angel Baby (1995)",
           4
          ],
          [
           1644,
           "Sudden Manhattan (1996)",
           2
          ],
          [
           1645,
           "Butcher Boy, The (1998)",
           1
          ],
          [
           1646,
           "Men With Guns (1997)",
           2
          ],
          [
           1647,
           "Hana-bi (1997)",
           1
          ],
          [
           1648,
           "Niagara, Niagara (1997)",
           1
          ],
          [
           1649,
           "Big One, The (1997)",
           1
          ],
          [
           1650,
           "Butcher Boy, The (1998)",
           1
          ],
          [
           1651,
           "Spanish Prisoner, The (1997)",
           1
          ],
          [
           1652,
           "Temptress Moon (Feng Yue) (1996)",
           3
          ],
          [
           1653,
           "Entertaining Angels: The Dorothy Day Story (1996)",
           1
          ],
          [
           1654,
           "Chairman of the Board (1998)",
           1
          ],
          [
           1655,
           "Favor, The (1994)",
           1
          ],
          [
           1656,
           "Little City (1998)",
           2
          ],
          [
           1657,
           "Target (1995)",
           1
          ],
          [
           1658,
           "Substance of Fire, The (1996)",
           3
          ],
          [
           1659,
           "Getting Away With Murder (1996)",
           1
          ],
          [
           1660,
           "Small Faces (1995)",
           1
          ],
          [
           1661,
           "New Age, The (1994)",
           1
          ],
          [
           1662,
           "Rough Magic (1995)",
           2
          ],
          [
           1663,
           "Nothing Personal (1995)",
           1
          ],
          [
           1664,
           "8 Heads in a Duffel Bag (1997)",
           4
          ],
          [
           1665,
           "Brother's Kiss, A (1997)",
           1
          ],
          [
           1666,
           "Ripe (1996)",
           1
          ],
          [
           1667,
           "Next Step, The (1995)",
           1
          ],
          [
           1668,
           "Wedding Bell Blues (1996)",
           1
          ],
          [
           1669,
           "MURDER and murder (1996)",
           1
          ],
          [
           1670,
           "Tainted (1998)",
           1
          ],
          [
           1671,
           "Further Gesture, A (1996)",
           1
          ],
          [
           1672,
           "Kika (1993)",
           2
          ],
          [
           1673,
           "Mirage (1995)",
           1
          ],
          [
           1674,
           "Mamma Roma (1962)",
           1
          ],
          [
           1675,
           "Sunchaser, The (1996)",
           1
          ],
          [
           1676,
           "War at Home, The (1996)",
           1
          ],
          [
           1677,
           "Sweet Nothing (1995)",
           1
          ],
          [
           1678,
           "Mat' i syn (1997)",
           1
          ],
          [
           1679,
           "B. Monkey (1998)",
           1
          ],
          [
           1680,
           "Sliding Doors (1998)",
           1
          ],
          [
           1681,
           "You So Crazy (1994)",
           1
          ],
          [
           1682,
           "Scream of Stone (Schrei aus Stein) (1991)",
           1
          ]
         ],
         "hovertemplate": "tsne_1=%{x}<br>tsne_2=%{y}<br>item_id=%{customdata[0]}<br>title=%{customdata[1]}<br>popularity=%{marker.color}<extra></extra>",
         "legendgroup": "",
         "marker": {
          "color": {
           "bdata": "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",
           "dtype": "i2"
          },
          "coloraxis": "coloraxis",
          "symbol": "circle"
         },
         "mode": "markers",
         "name": "",
         "showlegend": false,
         "type": "scattergl",
         "x": {
          "bdata": "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",
          "dtype": "f4"
         },
         "xaxis": "x",
         "y": {
          "bdata": "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",
          "dtype": "f4"
         },
         "yaxis": "y"
        }
       ],
       "layout": {
        "coloraxis": {
         "colorbar": {
          "title": {
           "text": "popularity"
          }
         },
         "colorscale": [
          [
           0,
           "#0d0887"
          ],
          [
           0.1111111111111111,
           "#46039f"
          ],
          [
           0.2222222222222222,
           "#7201a8"
          ],
          [
           0.3333333333333333,
           "#9c179e"
          ],
          [
           0.4444444444444444,
           "#bd3786"
          ],
          [
           0.5555555555555556,
           "#d8576b"
          ],
          [
           0.6666666666666666,
           "#ed7953"
          ],
          [
           0.7777777777777778,
           "#fb9f3a"
          ],
          [
           0.8888888888888888,
           "#fdca26"
          ],
          [
           1,
           "#f0f921"
          ]
         ]
        },
        "legend": {
         "tracegroupgap": 0
        },
        "margin": {
         "t": 60
        },
        "template": {
         "data": {
          "bar": [
           {
            "error_x": {
             "color": "#2a3f5f"
            },
            "error_y": {
             "color": "#2a3f5f"
            },
            "marker": {
             "line": {
              "color": "#E5ECF6",
              "width": 0.5
             },
             "pattern": {
              "fillmode": "overlay",
              "size": 10,
              "solidity": 0.2
             }
            },
            "type": "bar"
           }
          ],
          "barpolar": [
           {
            "marker": {
             "line": {
              "color": "#E5ECF6",
              "width": 0.5
             },
             "pattern": {
              "fillmode": "overlay",
              "size": 10,
              "solidity": 0.2
             }
            },
            "type": "barpolar"
           }
          ],
          "carpet": [
           {
            "aaxis": {
             "endlinecolor": "#2a3f5f",
             "gridcolor": "white",
             "linecolor": "white",
             "minorgridcolor": "white",
             "startlinecolor": "#2a3f5f"
            },
            "baxis": {
             "endlinecolor": "#2a3f5f",
             "gridcolor": "white",
             "linecolor": "white",
             "minorgridcolor": "white",
             "startlinecolor": "#2a3f5f"
            },
            "type": "carpet"
           }
          ],
          "choropleth": [
           {
            "colorbar": {
             "outlinewidth": 0,
             "ticks": ""
            },
            "type": "choropleth"
           }
          ],
          "contour": [
           {
            "colorbar": {
             "outlinewidth": 0,
             "ticks": ""
            },
            "colorscale": [
             [
              0,
              "#0d0887"
             ],
             [
              0.1111111111111111,
              "#46039f"
             ],
             [
              0.2222222222222222,
              "#7201a8"
             ],
             [
              0.3333333333333333,
              "#9c179e"
             ],
             [
              0.4444444444444444,
              "#bd3786"
             ],
             [
              0.5555555555555556,
              "#d8576b"
             ],
             [
              0.6666666666666666,
              "#ed7953"
             ],
             [
              0.7777777777777778,
              "#fb9f3a"
             ],
             [
              0.8888888888888888,
              "#fdca26"
             ],
             [
              1,
              "#f0f921"
             ]
            ],
            "type": "contour"
           }
          ],
          "contourcarpet": [
           {
            "colorbar": {
             "outlinewidth": 0,
             "ticks": ""
            },
            "type": "contourcarpet"
           }
          ],
          "heatmap": [
           {
            "colorbar": {
             "outlinewidth": 0,
             "ticks": ""
            },
            "colorscale": [
             [
              0,
              "#0d0887"
             ],
             [
              0.1111111111111111,
              "#46039f"
             ],
             [
              0.2222222222222222,
              "#7201a8"
             ],
             [
              0.3333333333333333,
              "#9c179e"
             ],
             [
              0.4444444444444444,
              "#bd3786"
             ],
             [
              0.5555555555555556,
              "#d8576b"
             ],
             [
              0.6666666666666666,
              "#ed7953"
             ],
             [
              0.7777777777777778,
              "#fb9f3a"
             ],
             [
              0.8888888888888888,
              "#fdca26"
             ],
             [
              1,
              "#f0f921"
             ]
            ],
            "type": "heatmap"
           }
          ],
          "histogram": [
           {
            "marker": {
             "pattern": {
              "fillmode": "overlay",
              "size": 10,
              "solidity": 0.2
             }
            },
            "type": "histogram"
           }
          ],
          "histogram2d": [
           {
            "colorbar": {
             "outlinewidth": 0,
             "ticks": ""
            },
            "colorscale": [
             [
              0,
              "#0d0887"
             ],
             [
              0.1111111111111111,
              "#46039f"
             ],
             [
              0.2222222222222222,
              "#7201a8"
             ],
             [
              0.3333333333333333,
              "#9c179e"
             ],
             [
              0.4444444444444444,
              "#bd3786"
             ],
             [
              0.5555555555555556,
              "#d8576b"
             ],
             [
              0.6666666666666666,
              "#ed7953"
             ],
             [
              0.7777777777777778,
              "#fb9f3a"
             ],
             [
              0.8888888888888888,
              "#fdca26"
             ],
             [
              1,
              "#f0f921"
             ]
            ],
            "type": "histogram2d"
           }
          ],
          "histogram2dcontour": [
           {
            "colorbar": {
             "outlinewidth": 0,
             "ticks": ""
            },
            "colorscale": [
             [
              0,
              "#0d0887"
             ],
             [
              0.1111111111111111,
              "#46039f"
             ],
             [
              0.2222222222222222,
              "#7201a8"
             ],
             [
              0.3333333333333333,
              "#9c179e"
             ],
             [
              0.4444444444444444,
              "#bd3786"
             ],
             [
              0.5555555555555556,
              "#d8576b"
             ],
             [
              0.6666666666666666,
              "#ed7953"
             ],
             [
              0.7777777777777778,
              "#fb9f3a"
             ],
             [
              0.8888888888888888,
              "#fdca26"
             ],
             [
              1,
              "#f0f921"
             ]
            ],
            "type": "histogram2dcontour"
           }
          ],
          "mesh3d": [
           {
            "colorbar": {
             "outlinewidth": 0,
             "ticks": ""
            },
            "type": "mesh3d"
           }
          ],
          "parcoords": [
           {
            "line": {
             "colorbar": {
              "outlinewidth": 0,
              "ticks": ""
             }
            },
            "type": "parcoords"
           }
          ],
          "pie": [
           {
            "automargin": true,
            "type": "pie"
           }
          ],
          "scatter": [
           {
            "fillpattern": {
             "fillmode": "overlay",
             "size": 10,
             "solidity": 0.2
            },
            "type": "scatter"
           }
          ],
          "scatter3d": [
           {
            "line": {
             "colorbar": {
              "outlinewidth": 0,
              "ticks": ""
             }
            },
            "marker": {
             "colorbar": {
              "outlinewidth": 0,
              "ticks": ""
             }
            },
            "type": "scatter3d"
           }
          ],
          "scattercarpet": [
           {
            "marker": {
             "colorbar": {
              "outlinewidth": 0,
              "ticks": ""
             }
            },
            "type": "scattercarpet"
           }
          ],
          "scattergeo": [
           {
            "marker": {
             "colorbar": {
              "outlinewidth": 0,
              "ticks": ""
             }
            },
            "type": "scattergeo"
           }
          ],
          "scattergl": [
           {
            "marker": {
             "colorbar": {
              "outlinewidth": 0,
              "ticks": ""
             }
            },
            "type": "scattergl"
           }
          ],
          "scattermap": [
           {
            "marker": {
             "colorbar": {
              "outlinewidth": 0,
              "ticks": ""
             }
            },
            "type": "scattermap"
           }
          ],
          "scattermapbox": [
           {
            "marker": {
             "colorbar": {
              "outlinewidth": 0,
              "ticks": ""
             }
            },
            "type": "scattermapbox"
           }
          ],
          "scatterpolar": [
           {
            "marker": {
             "colorbar": {
              "outlinewidth": 0,
              "ticks": ""
             }
            },
            "type": "scatterpolar"
           }
          ],
          "scatterpolargl": [
           {
            "marker": {
             "colorbar": {
              "outlinewidth": 0,
              "ticks": ""
             }
            },
            "type": "scatterpolargl"
           }
          ],
          "scatterternary": [
           {
            "marker": {
             "colorbar": {
              "outlinewidth": 0,
              "ticks": ""
             }
            },
            "type": "scatterternary"
           }
          ],
          "surface": [
           {
            "colorbar": {
             "outlinewidth": 0,
             "ticks": ""
            },
            "colorscale": [
             [
              0,
              "#0d0887"
             ],
             [
              0.1111111111111111,
              "#46039f"
             ],
             [
              0.2222222222222222,
              "#7201a8"
             ],
             [
              0.3333333333333333,
              "#9c179e"
             ],
             [
              0.4444444444444444,
              "#bd3786"
             ],
             [
              0.5555555555555556,
              "#d8576b"
             ],
             [
              0.6666666666666666,
              "#ed7953"
             ],
             [
              0.7777777777777778,
              "#fb9f3a"
             ],
             [
              0.8888888888888888,
              "#fdca26"
             ],
             [
              1,
              "#f0f921"
             ]
            ],
            "type": "surface"
           }
          ],
          "table": [
           {
            "cells": {
             "fill": {
              "color": "#EBF0F8"
             },
             "line": {
              "color": "white"
             }
            },
            "header": {
             "fill": {
              "color": "#C8D4E3"
             },
             "line": {
              "color": "white"
             }
            },
            "type": "table"
           }
          ]
         },
         "layout": {
          "annotationdefaults": {
           "arrowcolor": "#2a3f5f",
           "arrowhead": 0,
           "arrowwidth": 1
          },
          "autotypenumbers": "strict",
          "coloraxis": {
           "colorbar": {
            "outlinewidth": 0,
            "ticks": ""
           }
          },
          "colorscale": {
           "diverging": [
            [
             0,
             "#8e0152"
            ],
            [
             0.1,
             "#c51b7d"
            ],
            [
             0.2,
             "#de77ae"
            ],
            [
             0.3,
             "#f1b6da"
            ],
            [
             0.4,
             "#fde0ef"
            ],
            [
             0.5,
             "#f7f7f7"
            ],
            [
             0.6,
             "#e6f5d0"
            ],
            [
             0.7,
             "#b8e186"
            ],
            [
             0.8,
             "#7fbc41"
            ],
            [
             0.9,
             "#4d9221"
            ],
            [
             1,
             "#276419"
            ]
           ],
           "sequential": [
            [
             0,
             "#0d0887"
            ],
            [
             0.1111111111111111,
             "#46039f"
            ],
            [
             0.2222222222222222,
             "#7201a8"
            ],
            [
             0.3333333333333333,
             "#9c179e"
            ],
            [
             0.4444444444444444,
             "#bd3786"
            ],
            [
             0.5555555555555556,
             "#d8576b"
            ],
            [
             0.6666666666666666,
             "#ed7953"
            ],
            [
             0.7777777777777778,
             "#fb9f3a"
            ],
            [
             0.8888888888888888,
             "#fdca26"
            ],
            [
             1,
             "#f0f921"
            ]
           ],
           "sequentialminus": [
            [
             0,
             "#0d0887"
            ],
            [
             0.1111111111111111,
             "#46039f"
            ],
            [
             0.2222222222222222,
             "#7201a8"
            ],
            [
             0.3333333333333333,
             "#9c179e"
            ],
            [
             0.4444444444444444,
             "#bd3786"
            ],
            [
             0.5555555555555556,
             "#d8576b"
            ],
            [
             0.6666666666666666,
             "#ed7953"
            ],
            [
             0.7777777777777778,
             "#fb9f3a"
            ],
            [
             0.8888888888888888,
             "#fdca26"
            ],
            [
             1,
             "#f0f921"
            ]
           ]
          },
          "colorway": [
           "#636efa",
           "#EF553B",
           "#00cc96",
           "#ab63fa",
           "#FFA15A",
           "#19d3f3",
           "#FF6692",
           "#B6E880",
           "#FF97FF",
           "#FECB52"
          ],
          "font": {
           "color": "#2a3f5f"
          },
          "geo": {
           "bgcolor": "white",
           "lakecolor": "white",
           "landcolor": "#E5ECF6",
           "showlakes": true,
           "showland": true,
           "subunitcolor": "white"
          },
          "hoverlabel": {
           "align": "left"
          },
          "hovermode": "closest",
          "mapbox": {
           "style": "light"
          },
          "paper_bgcolor": "white",
          "plot_bgcolor": "#E5ECF6",
          "polar": {
           "angularaxis": {
            "gridcolor": "white",
            "linecolor": "white",
            "ticks": ""
           },
           "bgcolor": "#E5ECF6",
           "radialaxis": {
            "gridcolor": "white",
            "linecolor": "white",
            "ticks": ""
           }
          },
          "scene": {
           "xaxis": {
            "backgroundcolor": "#E5ECF6",
            "gridcolor": "white",
            "gridwidth": 2,
            "linecolor": "white",
            "showbackground": true,
            "ticks": "",
            "zerolinecolor": "white"
           },
           "yaxis": {
            "backgroundcolor": "#E5ECF6",
            "gridcolor": "white",
            "gridwidth": 2,
            "linecolor": "white",
            "showbackground": true,
            "ticks": "",
            "zerolinecolor": "white"
           },
           "zaxis": {
            "backgroundcolor": "#E5ECF6",
            "gridcolor": "white",
            "gridwidth": 2,
            "linecolor": "white",
            "showbackground": true,
            "ticks": "",
            "zerolinecolor": "white"
           }
          },
          "shapedefaults": {
           "line": {
            "color": "#2a3f5f"
           }
          },
          "ternary": {
           "aaxis": {
            "gridcolor": "white",
            "linecolor": "white",
            "ticks": ""
           },
           "baxis": {
            "gridcolor": "white",
            "linecolor": "white",
            "ticks": ""
           },
           "bgcolor": "#E5ECF6",
           "caxis": {
            "gridcolor": "white",
            "linecolor": "white",
            "ticks": ""
           }
          },
          "title": {
           "x": 0.05
          },
          "xaxis": {
           "automargin": true,
           "gridcolor": "white",
           "linecolor": "white",
           "ticks": "",
           "title": {
            "standoff": 15
           },
           "zerolinecolor": "white",
           "zerolinewidth": 2
          },
          "yaxis": {
           "automargin": true,
           "gridcolor": "white",
           "linecolor": "white",
           "ticks": "",
           "title": {
            "standoff": 15
           },
           "zerolinecolor": "white",
           "zerolinewidth": 2
          }
         }
        },
        "xaxis": {
         "anchor": "y",
         "domain": [
          0,
          1
         ],
         "title": {
          "text": "tsne_1"
         }
        },
        "yaxis": {
         "anchor": "x",
         "domain": [
          0,
          1
         ],
         "title": {
          "text": "tsne_2"
         }
        }
       }
      }
     },
     "metadata": {},
     "output_type": "display_data"
    }
   ],
   "source": [
    "import plotly.express as px\n",
    "\n",
    "tsne_df = pd.DataFrame(item_tsne, columns=[\"tsne_1\", \"tsne_2\"])\n",
    "tsne_df[\"item_id\"] = np.arange(item_tsne.shape[0])\n",
    "tsne_df = tsne_df.merge(items.reset_index())\n",
    "\n",
    "px.scatter(tsne_df, x=\"tsne_1\", y=\"tsne_2\",\n",
    "           color=\"popularity\",\n",
    "           hover_data=[\"item_id\", \"title\", \"popularity\"])"
   ]
  },
  {
   "cell_type": "markdown",
   "metadata": {},
   "source": [
    "### Exercises\n",
    "\n",
    " - Add another layer to the neural network and retrain, compare train/test error.\n",
    " - Try adding more dropout and change layer sizes.\n"
   ]
  },
  {
   "cell_type": "markdown",
   "metadata": {},
   "source": [
    "### A recommendation function for a given user\n",
    "\n",
    "Once the model is trained, the system can be used to recommend a few items for a user that they haven't seen before. The following code does that.\n",
    "\n",
    "- we use the `model.predict` to compute the ratings a user would have given to all items\n",
    "- we build a function that sorts these items and excludes those the user has already seen."
   ]
  },
  {
   "cell_type": "code",
   "execution_count": 38,
   "metadata": {
    "scrolled": true
   },
   "outputs": [],
   "source": [
    "def recommend(user_id, top_n=10):\n",
    "    item_ids = range(1, items['item_id'].max())\n",
    "    seen_mask = all_ratings[\"user_id\"] == user_id\n",
    "    seen_movies = set(all_ratings[seen_mask][\"item_id\"])\n",
    "    item_ids = list(filter(lambda x: x not in seen_movies, item_ids))\n",
    "\n",
    "    user = np.zeros_like(item_ids)\n",
    "    user[:len(item_ids)] = user_id\n",
    "    items_ = np.array(item_ids)\n",
    "    ratings = model.predict([user, items_]).flatten()\n",
    "    top_items = ratings.argsort()[-top_n:][::-1]\n",
    "    return [(indexed_items.loc[item_id][\"title\"], ratings[item_id]) for item_id in top_items]"
   ]
  },
  {
   "cell_type": "code",
   "execution_count": 39,
   "metadata": {},
   "outputs": [
    {
     "name": "stdout",
     "output_type": "stream",
     "text": [
      "\u001b[1m48/48\u001b[0m \u001b[32m━━━━━━━━━━━━━━━━━━━━\u001b[0m\u001b[37m\u001b[0m \u001b[1m0s\u001b[0m 2ms/step\n",
      "    4.6: 20,000 Leagues Under the Sea (1954)\n",
      "    4.5: Eat Drink Man Woman (1994)\n",
      "    4.5: Terminator 2: Judgment Day (1991)\n",
      "    4.5: Young Guns (1988)\n",
      "    4.4: Dead Man Walking (1995)\n",
      "    4.4: Color of Night (1994)\n",
      "    4.4: Legends of the Fall (1994)\n",
      "    4.3: Lawnmower Man, The (1992)\n",
      "    4.3: Get Shorty (1995)\n",
      "    4.3: Apostle, The (1997)\n"
     ]
    }
   ],
   "source": [
    "for title, pred_rating in recommend(5):\n",
    "    print(\"    %0.1f: %s\" % (pred_rating, title))"
   ]
  },
  {
   "cell_type": "markdown",
   "metadata": {
    "collapsed": false
   },
   "source": [
    "### Exercises\n",
    "\n",
    "- Try modifying our neural network to improve recommendation. You could try adding more layers, or using a different loss function. \n",
    "- Your goal is to improve the Mean Absolute Error on the test set. Show the results of your best model."
   ]
  },
  {
   "cell_type": "code",
   "execution_count": null,
   "metadata": {
    "collapsed": false
   },
   "outputs": [
    {
     "name": "stdout",
     "output_type": "stream",
     "text": [
      "Epoch 1/10\n",
      "\u001b[1m1125/1125\u001b[0m \u001b[32m━━━━━━━━━━━━━━━━━━━━\u001b[0m\u001b[37m\u001b[0m \u001b[1m1s\u001b[0m 915us/step - loss: 1.3357 - mae: 1.3356 - mse: 3.2576 - val_loss: 0.7650 - val_mae: 0.7647 - val_mse: 0.9342\n",
      "Epoch 2/10\n",
      "\u001b[1m1125/1125\u001b[0m \u001b[32m━━━━━━━━━━━━━━━━━━━━\u001b[0m\u001b[37m\u001b[0m \u001b[1m1s\u001b[0m 874us/step - loss: 0.7441 - mae: 0.7438 - mse: 0.9127 - val_loss: 0.7476 - val_mae: 0.7473 - val_mse: 0.9271\n",
      "Epoch 3/10\n",
      "\u001b[1m1125/1125\u001b[0m \u001b[32m━━━━━━━━━━━━━━━━━━━━\u001b[0m\u001b[37m\u001b[0m \u001b[1m1s\u001b[0m 791us/step - loss: 0.7321 - mae: 0.7317 - mse: 0.9022 - val_loss: 0.7398 - val_mae: 0.7394 - val_mse: 0.9091\n",
      "Epoch 4/10\n",
      "\u001b[1m1125/1125\u001b[0m \u001b[32m━━━━━━━━━━━━━━━━━━━━\u001b[0m\u001b[37m\u001b[0m \u001b[1m1s\u001b[0m 904us/step - loss: 0.7178 - mae: 0.7173 - mse: 0.8767 - val_loss: 0.7353 - val_mae: 0.7347 - val_mse: 0.9090\n",
      "Epoch 5/10\n",
      "\u001b[1m1125/1125\u001b[0m \u001b[32m━━━━━━━━━━━━━━━━━━━━\u001b[0m\u001b[37m\u001b[0m \u001b[1m1s\u001b[0m 814us/step - loss: 0.7075 - mae: 0.7069 - mse: 0.8625 - val_loss: 0.7342 - val_mae: 0.7335 - val_mse: 0.9195\n",
      "Epoch 6/10\n",
      "\u001b[1m1125/1125\u001b[0m \u001b[32m━━━━━━━━━━━━━━━━━━━━\u001b[0m\u001b[37m\u001b[0m \u001b[1m1s\u001b[0m 823us/step - loss: 0.6938 - mae: 0.6931 - mse: 0.8386 - val_loss: 0.7332 - val_mae: 0.7323 - val_mse: 0.8964\n",
      "Epoch 7/10\n",
      "\u001b[1m1125/1125\u001b[0m \u001b[32m━━━━━━━━━━━━━━━━━━━━\u001b[0m\u001b[37m\u001b[0m \u001b[1m1s\u001b[0m 791us/step - loss: 0.6836 - mae: 0.6827 - mse: 0.8175 - val_loss: 0.7367 - val_mae: 0.7357 - val_mse: 0.9321\n",
      "Epoch 8/10\n",
      "\u001b[1m1125/1125\u001b[0m \u001b[32m━━━━━━━━━━━━━━━━━━━━\u001b[0m\u001b[37m\u001b[0m \u001b[1m1s\u001b[0m 768us/step - loss: 0.6787 - mae: 0.6777 - mse: 0.8168 - val_loss: 0.7381 - val_mae: 0.7370 - val_mse: 0.9398\n",
      "Epoch 9/10\n",
      "\u001b[1m1125/1125\u001b[0m \u001b[32m━━━━━━━━━━━━━━━━━━━━\u001b[0m\u001b[37m\u001b[0m \u001b[1m1s\u001b[0m 764us/step - loss: 0.6662 - mae: 0.6650 - mse: 0.7934 - val_loss: 0.7320 - val_mae: 0.7307 - val_mse: 0.9187\n",
      "Epoch 10/10\n",
      "\u001b[1m1125/1125\u001b[0m \u001b[32m━━━━━━━━━━━━━━━━━━━━\u001b[0m\u001b[37m\u001b[0m \u001b[1m1s\u001b[0m 791us/step - loss: 0.6571 - mae: 0.6558 - mse: 0.7781 - val_loss: 0.7343 - val_mae: 0.7328 - val_mse: 0.9213\n",
      "\u001b[1m625/625\u001b[0m \u001b[32m━━━━━━━━━━━━━━━━━━━━\u001b[0m\u001b[37m\u001b[0m \u001b[1m1s\u001b[0m 283us/step\n",
      "Final test MAE: 0.727\n"
     ]
    },
    {
     "data": {
      "image/png": "[encoded data removed]",
      "text/plain": [
       "<Figure size 640x480 with 1 Axes>"
      ]
     },
     "metadata": {},
     "output_type": "display_data"
    },
    {
     "data": {
      "image/png": "[encoded data removed]",
      "text/plain": [
       "<Figure size 400x400 with 1 Axes>"
      ]
     },
     "metadata": {},
     "output_type": "display_data"
    }
   ],
   "source": [
    "# Extend and improve the model below\n",
    "class RegressionModel(Model):\n",
    "    def __init__(self, embedding_size, max_user_id, max_item_id):\n",
    "        super().__init__()\n",
    "\n",
    "        self.user_embedding = Embedding(output_dim=embedding_size,\n",
    "                                        input_dim=max_user_id + 1,\n",
    "                                        embeddings_regularizer=l2(1e-6),\n",
    "                                        name = 'user_embedding')\n",
    "        \n",
    "        self.item_embedding = Embedding(output_dim=embedding_size,\n",
    "                                        input_dim=max_item_id + 1,\n",
    "                                        embeddings_regularizer=l2(1e-6),\n",
    "                                        name='item_embedding')\n",
    "\n",
    "        # The following two layers don't have parameters.\n",
    "        self.flatten = Flatten()\n",
    "        self.concat = Concatenate()  # Use Concatenate instead of Dot\n",
    "    \n",
    "        # Add a Dense layer to learn the interaction between user and item embeddings\n",
    "        self.dense1 = Dense(64, activation='relu')\n",
    "        self.batchnorm = BatchNormalization()\n",
    "        self.dropout = Dropout(0.3)\n",
    "        self.dense2 = Dense(1, activation='linear')  # Output layer for regression\n",
    "\n",
    "\n",
    "    def call(self, inputs):\n",
    "        user_inputs = inputs[0]\n",
    "        item_inputs = inputs[1]\n",
    "\n",
    "        # Get the flattened user and item embeddings\n",
    "        user_vecs = self.flatten(self.user_embedding(user_inputs))\n",
    "        item_vecs = self.flatten(self.item_embedding(item_inputs))\n",
    "\n",
    "        # Concatenate the user and item embeddings\n",
    "        x = self.concat([user_vecs, item_vecs])   # Combine user and item vectors\n",
    "        x = self.dense1(x)\n",
    "        x = self.dropout(x)\n",
    "        y = self.dense2(x)\n",
    "        return y\n",
    "    \n",
    "# Instantiate and compile the model\n",
    "model = RegressionModel(embedding_size=64, max_user_id=all_ratings['user_id'].max(), max_item_id=all_ratings['item_id'].max())\n",
    "model.compile(optimizer=\"adam\", loss='mae', metrics=['mae', 'mse'])\n",
    "\n",
    "# Training the model\n",
    "history = model.fit([user_id_train, item_id_train], rating_train,\n",
    "                    batch_size=64, epochs=10, validation_split=0.1,\n",
    "                    shuffle=True)\n",
    "# PLot the loss curves\n",
    "plt.plot(history.history['loss'], label='train')\n",
    "plt.plot(history.history['val_loss'], label='validation')\n",
    "plt.ylim(0, 2)\n",
    "plt.legend(loc='best')\n",
    "plt.title('Loss');\n",
    "test_preds = model.predict([user_id_test, item_id_test])\n",
    "print(\"Final test MAE: %0.3f\" % mean_absolute_error(test_preds, rating_test))\n",
    "print\n",
    "plot_predictions(rating_test, test_preds)"
   ]
  },
  {
   "cell_type": "code",
   "execution_count": 66,
   "metadata": {},
   "outputs": [
    {
     "data": {
      "application/vnd.plotly.v1+json": {
       "config": {
        "plotlyServerURL": "https://plot.ly"
       },
       "data": [
        {
         "hovertemplate": "<b>%{hovertext}</b><br><br>type=user<br>x=%{x}<br>y=%{y}<extra></extra>",
         "hovertext": {
          "bdata": "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",
          "dtype": "f8"
         },
         "legendgroup": "user",
         "marker": {
          "color": "#636efa",
          "symbol": "circle"
         },
         "mode": "markers",
         "name": "user",
         "showlegend": true,
         "type": "scattergl",
         "x": {
          "bdata": "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",
          "dtype": "f4"
         },
         "xaxis": "x",
         "y": {
          "bdata": "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",
          "dtype": "f4"
         },
         "yaxis": "y"
        },
        {
         "hovertemplate": "<b>%{hovertext}</b><br><br>type=item<br>x=%{x}<br>y=%{y}<extra></extra>",
         "hovertext": {
          "bdata": "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",
          "dtype": "f8"
         },
         "legendgroup": "item",
         "marker": {
          "color": "#EF553B",
          "symbol": "circle"
         },
         "mode": "markers",
         "name": "item",
         "showlegend": true,
         "type": "scattergl",
         "x": {
          "bdata": "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",
          "dtype": "f4"
         },
         "xaxis": "x",
         "y": {
          "bdata": "V6FIwLm35cAeCrPAHUMxwbCT00DbMKPBWt6vwMQCJD7XBH7AXd3+P0IoAsFW+f3AGG+8wGRjjUF+dQ5B/OyDwc5eSUGCeMJAHKO+vuHkGkFZITtBeXF6QLn2tcBdK6pAfXghQb4dicDL/k1BzB2iP9xNdMH5pixASNWvv6GkGcEuJtdATfmAwGx2qMG9njpBSmtMQRjP4cBxlJm/rUSNQUKoGMB+S1RAYgjIQHec+8BN+5NB8n9CQSXY7MBNLldBZ7iAwMzTfUCvO7a8SD/0wAvrnL95nZ5Br0dRwYhdLkFdwTdAjpHdvrUQckBfMyxBMr2MwPSkQUE4dEzBatdCwUu3xMANuZjAR+QBwfUQIMEIom3Ae/tMwSIVVMBB2DHBJxCzwBWOYMEyNSDBAFdiwIwazz+/dl7BUlNewB2gL8FV240/uOdTQcdsZ8FusxjBQPR1QSHSrEH55K1AFpCGwZBDwcCkPhbBZSuBQeBAxcDaKkbA7baJQRaT6MAGdFbB0FwwwdYodMC3Evq/Vn1mQHKb6j+txpTB8LwgwCB9C0GK/7hA2qlTwJVutEAELwRAHa+AQbWuLkFmobS/ttcKwQwVzD/JN5fAbgPwvxFaScEdcmRB8V1nwf1Uo8HYuZnAvgxiQYKzhMGEIYVBKEtoQRjcpUC0/IzBOLqHwQxAFT9Noo1BzGv4wOWeakEwA3pBBXOQwGqb+cCr/4jAG4AUQL5nQL/SxlBBKkeLwDCfl0C7HpfBvy6eQANMw8DFhWvBM823QFXuYz0EjoZBu5i4v2zcMME5wIZBsrEzQX3WdkFn6PZAcGorwGMpi0HBqRTBP1mWQOpMdkCs0hFBFGcRPx8gP0F/CJPB/z4bQR4blMD0d3TB+aoXwcASsMCNqStBf9QVviCX38C+GkXAjf8xQYjlZsCGW0BAVEOowBs3hkGRd4i/2uCiQIkUkz+RRntBkmBEQFjS8cDfjNdAjIDkwOFimUBqDpJABopswfrlTb5gp8pAUDgeQQLZvT9oPKq/6V5mQUyXsUAVMYTA4TM2wa/NacDP+ItA1sVswMabKkGr3GG/jiBNQfKMGMFpQ7VABjULwcGKEb8y1ExB9RTkQG8SS8A/lTM/GFArwbUJgz6iUbvAaQ5zP8cdPkGSfi3A240cwIOyYz8B68PAnxkQwdKKRUFi3QRBMFFgwaXDzb/WjxLBOnMgQalMSsHvSxdB4ipIwdou/MAcCobB5xkOQD0I1cAuZk3ByOdav+2QV0ECBDa/yliOv/W9iEA1s6HBGmOlQQ9mZMGCO05AtYHWP1cow8CsZ+C/ewfOvu8CL8FlkhDA7gJ/QZKROMFOJ7PAaiPdwN7J/0B8RKTAVwTywMZzT8ASQse/4SZNwZcRu0BJIbxACvtrwLzH5EAQqyhAL6aBQVE5dcET1g7BRaKEwLhfp0CiLarAoob2QFYUKcHRL/a/i9+uP8gZNMHkBs7AUf7GQIeACkEjrxVBPAHtQGl5oMBJGk8+kvCZwRrJjr6lGA1BQoTMQAQdIEEg8oXAgU3lQOQM0sBBP5tBFX6Xwcdt2EBXnDvApdU1wfHDEcFjXwbBTdupv9HDCL8g2tE/AWOUwSycEkGCp50/4Do7Qaw+jMHZ1a5Agw0ZQR4jmMCL4wzAuO0DweY/QsHD3o3AE/WawBGcR8CIGXdASlv5v9dk1r+vsYFAmBPGwAYEDkDC5iJBfbFBQUx/q8CtHY7AhuqIQeI+NcE/U5zBWW5CQfEtmsHzwZ7AHYBYwJevu8BDBKbBgNsQwaYZZkEiPZdB3fK5QMNagz9uyVjB9MiHwcKKYUCZPi3AxRIJwX4TW8DtNshAsTLuQG6iakFo/YjB94BTwdqooMDaMZHBAB8HwZnlt8A3v9jAxw9+wU9FkUGn4GvBLJQwPqNdrUAStf3Av+MAQGfiBsEUBPq/S39FwWft4kClJhXBPAYnwcaviEDKGAjAfh72vn+CFj9F/AbBEk2kwJIAhkB2dw9BO4b/QH2YCUDR+Xw/lysRwb6MWL9mEnrBjKUXQYn0PEDlSaFAeBHqvwe1gsG7HRVAy/vWP7vvLEAlRNrABESYQfmQWkCael/B1V8KwfGME8GIoNE/HMKyQbLpl0BN+/ZANlQwwWuT0kAiAEtB6dWUwQm5vkDZk3dBJbSUwYhN0UBqYgpBeZaSwHej2UDzeYZBjtj0PqzyiEE8+ibAhxZbQaO/yr5rUG/B5Y8lwWeXJj75hkK/dbaAQZSJDsGVx6xA1CZJwOFuv0CuRVJBNpxqQLICkT+9zLJAlkMKwWSGkcA8sQ3BzfhzQG3qDb4up0TBCcQQQLIkhEAEOohAgk08P6ETt0DabIlAn8PUQMdHoL714p9AljO4QcI8fME4qWlAf1lhQTzkT0EnwxxBYLtCwPumKsHdNClBnYOwv9hLAME0B59A5bscwGIlvkCJ2Ui9W8KawLddWkCeVlpA+XxJQAqb20BZc8bA6w7IQEDOicCF3ky+4AyrwS45FUFbJJ6+RSy2wIZmjEC5sK1BWa4sQOogekG8eQNBzYyVQYQ0h8AAkDc9feCmvmmD3z+AYQ9BU87UwKJe2j4RlqU/UdQsv/MNI8HK1vk/PZ7Gv1vvA0EYFHnBaXiCwSOIqr4czYJAAdSKwDgawT/11Sk/F58NvkY2dMDvXMA+tmtHQd5udsGUFJTAo3c5QdjDkz/b61dBV+1JQHDqAEGaeQhB5yPAP6HhDMCP7G6/ToNjv3wqHkGh3bm+wpCIwJQVMUEMEEZB74CNPig/GsF4tKlACTVqQVcwnsA+Rf6/r8ZaPwCuKcHX0dxAFi+iP+Kxeb6+gZPAjyiGwJ+uRkGA/WxBqepuQHQdUsHsEchAdEVxwAj5iMCAK7PAxbRUwNlWwj/U7yrAbHYuv2fx0sBzCm1BjNGSv6QfUUEUfLRBd9mSQLq3pcHZyANBWdagQOfZWcGXY7DA57kBwJned0Fof9VAHbMbweKsGcJz3kpBRWQIwWWwJcE2pjhBMvhfu3lHx0Cw/2XBIXEnwajla8FiyrZAEavRQA0OBUDTG7jA7iwdwYw9sr+CQh1BFZ2RwFBHQUHF+inB1swCwaeUckBSk4xBO+49QTh5d0G9dDNAmaJXvLrmJkGOPT5BqX5XweQMa0HSqUxARATfQEisGMHrDAhAOaYKwZUN0z/zEkTBBfmIwAbyCkCBLB9B5lGewGj8RMEBT2pA2+rkvz2dsr5HNxZBiitOQUux4UBaaKjAWj1iwAhLCUBrScs/r6sRwCkILcEtZfHAfH+LvkZTVEFTqWRBk9e+QbgIWUE6nZ5BhPEOQXgRVcCj3TXAgw5vwUgGZEGcj9lAfsAjwf1QN8HvU43B4+/ewBPTO0AGsSpBxmHAPtnz6MDdRohBQl4zwZhekEEmHGi/qFoEQW6LkUG+Di9BhQRpQT4sgkGTgtVAc1otQVlfCEG/vShBOsFOQBL94UBZyqY+5pkBP0MX9b9r9hBBSvM6QVwJakACluJAXObOvl1XDkElYPJAbzKiwAYvnEDyvMtAGQZowKLMW8C49MhApXqtQBgSEUE00nRBcpKpwJrPacGdxfRA890PQbmZiMH7fRLBr1qnQLLEW0FX2++/TarJwHrzQ0H0XRDB1/c7QE1sQkEPOrjAiAzKwCcnH0F/27DAyQgnQGc+zUCBSVlBFXuEPrtsXUCbEI3BIgeOQan2LEHSDyU/WzA6v/aFVMEjCphA3tl8vwSacL/BjCTBWGxDQJR4sMCmmYlBaT1gQANJKcE6VKo/j11RQdaqG8FPHQ5B7LgmwCso/cBQ1d7AbmiMQC3XokFokYfArs3pv/Qz0cAPeohAbPwcwTiyOUGu8i5BMzmHQZ1r20DgaEJA3ABqQCUlFcHiIpvAgrrlwDlrQEET0RbBmrRxwQ5KD0Ebxa5AeKwUwUy6M8D4f6dBtCcLwaSmF8Gg4DRAjpEswYciksGwbPpAdsqXwcDwfMFyzDLB49eRQIp8b8H2ngDBDYmMQMyOMUE89/G/8aZVQZFM+EBgklfBjxcxwBs3IsAO+8BAXYgawNkJWkHPDctAN7NGQbdwE8EjcAvBSJ64QOLUlUAaiba/jrJnwVaHor+9naFAUZOSQPaJPEEqDo1BDb+BwZwlUb8rcVLBBXS2vik8R8FN51q/XYOWQM1DIEFT2W1Bo8f2wJ5chr+u/uVADmIpQdMpTEHAfVfAxh17QU9tJ8AYd4tAF+B6QQLuw0ArkO3A5J86QLzKEEFPhpjAa6c8QemCP8BJpCXBWwI0QczFasGrGwXB9asowT/Rsb/YEvRASdkxwe/Pl0DZvjXBvlA+wAHWp8BYkEDBfitiQISoJMAd49zAa5IJQUlPS8Hrgp5BUk4vwdZZqj/udGfB7ElewUcypUAar1lBFeYQwfAi20ARo4O/jGHswBzqhcBdBGM9l4ypQC4QlkD8bBzB5AmNv//4XUGa9vbAvu5fQe2qcEDXN4A+if5OweQ5H8Cp2/fASQCPQaO+j8DYHBBBYHziwHNNG8FNhpa/5qY8wD71TUDwXixBL5EIQNLmIUBtGU5B35zbP46j6EA/VYdAgLkCPitLs0DE1gHBtQtiQfw8QT9qgbfA/5+CQV5RusAU1g/BCLI7wbg2rUDgI2lAb/wcQQ+CBEEteEhBVS9zvwVNOkFzlUBBmDeRwAZfzUCBJsDAoUdJwUWLkUEFMffAmjwuwb6Qf0AkBDzB+HvywMBBIUGmIOxAS1erwZBcwT8lObO/3LAZwTbsn0Ai+EZAspIlQKG8Z8HIJBfA3/YTQZR4asGRp34/mlvEwJQEi0Bkm4vAb9AzwZ/rqMFTv37B5Tt7QdpXKb9s+r7Ay7bxwMkWEME/FSpBcOrIwLcgbUCbJCXB3SEhwdj1OMCEIxZBbq+hQSApC8Aik3tBElUfwAsiM0FxmA7A55iIQe/yqcHnmkXBwX9yQbCTgcDOXURBFiaAv6Lww0CSrhDBcLyzwMOKmEATUYhA6SwBwXqgQkFiJ3NBKGxIwU06akEDFBPBwXU1QPGjJMFPZhHBN98gv97c1UDYcxNB9GRHQeThMkGBZALAi3MhQIBnlEGcTsRA8sBHweb0s0D2bnRBanKXwAjxj8BMAsBARgyDQaEVCUE8NHPBKqnSwH3OCUG+WxFBurGpwOEp2T903Gi+cQwNvL6V7ECeYyTBS0KzQdWTo8DsN6k/sXDAwJQnnUCFn8++EpkvQSLjIkFJHIhBWVC8v6s3vkA4SQ5AZo/NwL9ahkD53O7AB24DQb1jSb99sxTBWbWdwXzqq0BTc/LAVLRswVIdi79JZB9BmFPwvgydOkFfafdAva8twSRJF8FOWDtAVOCAv41j8j9U0FbBwv0FQK5aU8F86DXBspCkP8wVPsGi53lBFWejQVg070Bk0SNABVDeP8ujCMGxJyrB0vtuQWBLtkBG7CbBaYAJQf8bjkFf3yBBluSewCNeA0B+eHPAB0y7wAj50sBSXALBcgKCQJhH3j9MQ/rAtO2+QPXAn8BUtedA6jvewLAe2sDaSD1Bx4tEwfCr5b/ke7M/SIYRwSTE9sDNWR7AgNaYwfZQ7z8wkaDBww0bwFoJrEGhd6c/fOkJQbINOcHKThBBETZvQZEeHEGnesU+HAQXwYS45UDHdAXBQ6K1QMQmBECCXibBJubZP138lcGIkgU/ocerwPRpur9VFPc/x7z0QHLrKkAjkxdBTQu5QIDu2j2LteZA75VAwawcN8FXcTFBCoZvQa+kSj+Z/zhB0Q8vwOhUe0Bu2lpB04PXwFOhvj1oXJRBKWMjQAt0nEASw9VA8gXmQMXN4MDZ7U5BGq4wQHiyTsF0TaVAgUczQfqfBEGfXgXBFgx5wR3OKcAm8RDBzZwCQJC/xMDXIHRA+K1kwPsiD8EQSolBQEUEQbs/J0GxTY3BZzLBwDLuLME84I8+nGSbQWVEtsDM/kVBgG10QeUJkUGsx1VAikZzwJt3jkFUExTBwUtiwYWUOkAoOizAAAhOwOwHlEEkMIVBwbZ7QY0xOUG9iE7AWuCdQFEkTUGiM49BfWOgQDN6qD+lqVbAnN/iwL1oLMFK+Y/BiEDfQMkoL0EGhPE/IH4mQe6fHcCcjzjBW9uHQXCTB8Ao9pNBbF3yP91BWcBNjVFBK6FuwSNsN8AiKZBBhvZnwIlapcAevxfBaTHbvyFeUMGXFJHBUSN8wM94sUDCcZBAEDjdQAmED0Hx86jBHCEgwWuWgMAEwL8+nVSKQZYeecFZ3m1A1kBXwTH2bUE3/S/BKoRtwKfSpT6hSPe/cqKDQHu3i0CIDQpBB02lQDnFYEHXAopBpRIWwTYg7ECvMr9B/aPjQGQ2wMAFyTbBS2PPwMv++L878ZZAMS7qwIBskUHItp7Bs3gHQcDDOsE6CL2/x6KjwIPuFcAMIoE/X+o/QdqTiEFkXxJBLMkVwYmLDEGdYoNBjbjlQO2TYUAx3RtBeA1jPzgfa0DWC8VAPlUjQfDZZ0EQbwjBAJB/wUnqcj/VnJzBChY3we3lE0Ho1/9A+dgPwaraQkFTEmBBoV6vv7OItL7gA5a/mYNFQcHVCkHN0BLBUxhqwdDoacAPJwXBq2lywJ0d8D+pojbAoNcFQYvFg8Aw9H7AtTlbwYF3j8GXYBi//TRJQQ7/gkD5uZZAMb4cwffRT0AdGFZBCgYiwY+9OsF06U7ARu1IQWaV9sCX+sRAQkhjQW9pej+/oUNB7zNhwaA1rUBVVjBBcZSZQb5g/EA/vJFAvEW/v8MUokEyCWHBnzJHPgvitEDz9RBBcOC9QK4pBUHzdQtBEjNXwZVKl8AFZuFANmuhwWOYP0Hg4BBB53BcwVLbvkGtZvVAEHIMQbO8B8GKJBBBXRnqQBa5Q8H5IH6/2E3kv7eGQUFiNhtB1wfNwNfXQsHjohVAdcI6wRzcC8EXzyvAArmQQSY3BMBaHZvAigF2vyt/hkAsV82/mYAYwQ2mM0D1GBVB1SOUQMl9p7/Exfi/lrJlQZXVnMAzzcbAfwDPQPc1fMEFjpY/4XALwbJF9b+HDgbAjMguvxO/N8GEJKZAokAWwTRBt8Cam/y+o29+wAyqhUEq5SHBLR4MwCKy2kAhcddAbWuzwWv8Ar/0sHG/IgxOQazSL0HmofO+GfAEwd3l1sDUULbAjfuOwEUM9MACB7zAme5BwIwBgkAneuo/QTgAP9uoq8CIucO/WQu0wD0aKMEItAu/pL8QwXWxcT/z+BTB79ccwd/TJ0EAOZ/AMdYkwL2zjcGGarVA+82awLjihMAS/CDAgiaaQOdAVMBjGQDBHbuXwPuqnkBC/8hA+gYkQV2IgkE1Qak/tWsKwGFaRsBlUAVBHXmXwD/nRMHKpbLAONxDwV7um8G5o+I/bKwJwfFrhcApPb9AAwOxQGeMIcF1BBrAc4G0v3C82sD3U1zB9dniQFKB40CWUx7BP4pdQWMpVcGgAMpAHVuaQLshPUE7y2LBaVl3QUxRV0HTBgzB0ibDQK21Y0FwmmbAVnf0QMj3P0CZUbjAWTkOwU/5hkAUZDBBLFMHQe34ST9QcJHAsCMvQWAgmUDd31jBSn0SQNzDIUDqXIDBj6r/wLk5rb8Y4YdBzDaIQf4G38BchQNB3JKCQaw/qcE/RNPAAEY5wY+KVcAOXlnA98KaPgXN30DhfCRBD+DvQAL8jkG3fbk+JomuQND8u0DQgezAta1iwcfdUEFYleFAz5z8wD+zvEDeDP++/EfCv6KC+kCBSKVA77j0PrHIL8AhmpBB77K+v3D0hsE2Gr5AgXmfPktZvUDTVELA7P+6wBRIgT7ZStjAudqZQKNz8sDhuwVBPWf1wFU+qcHypNY/nbKbP8caLb/NBcO/5NRCPtNy78D53C8/7/lowFTN1sB0J/HAgEAiQaCqxED/UwDBSpNZPxWc/MClMI2/ypwFwYTTbkGM4HZBwJj5wHzGUkAA1ZQ/Y3MWwGz8W8EMjj3A0StvQRgYTcGYElRAEkliQdgPXMHc2THBmt7jwFfjHMHizh5Buo6JQe8DzMA1Vvi/fnNTQOSjU8F1Va4/3BcpQbFH4sBMUTnAA9jLQMPEb0Dfj4pB1c3xwMhyjcCS6uDALw2HwdykQ79LF6dAmKl0QRRaBUFa6XlBcea4vuwkXUCbOnXA0l+9QPwcX0CI95JBnJsKQWTPfkCLsJhAT6N5PCs+08B5+DpAl+SsvzTdvcA55yU//AR9QTWAOEG4HDtAq/iTwEZn178CTlE/kCZ3waL0psBaP1S//jNmv+UEfsCBT1hBFRckwA8iAMEfMcDAm39/QRephEE4nSpBPUDMwIpAPECPAaDA2bZVQDO6w8Dnz8HAvOX+wDb2B8Df76DAi0Y3v5LSCsAlgszA9yy3wLapRMCHBrXA33W8wbbAz8CIwqTAR9LRwHKL28Ai1CfADOQ0wblnkb/obNRAyQgWv6iuqMCQxvS8bUqUv6mJgUAdxx9ApJ0KQJDcBkB7FQfBth21v69i1cDRokZAmKwrwOoEycDfmaE9NTkmQdkbhkEeaKdAVudiweMJwEDKX2DAHtHBv2WXAMBhAV7AaSMGwQwbh8B5gBVBCY7UQNbtKb8DKUFBjUlhQQnIBcGpEtlAMSMCwO8vFsFXUnfAb4IvwSnOpb8tHB1Bw9hxwZXRG0HPBJHA6KmrwKQq2T6eOMRAX+emQM7Ah8AMS2FA1CceQe11PMDXAaa/Mw7gwI/ssMCXoStB8mLBv7R92L5lKjNAY/E6wFrVz7+K7bpA+M9IwLH7oMAXGRpBhCuoviSKlb8HrAtByn4awcsusr9R0yDAj8+CvhXOj7+M9nJBc0lnv6mM5L8LAFO/Na8AwDnMOsG8DapBPjCYQI0/N7+KznxACvdPwfIyLUEK0yXB9pJcwJJAKEFrZqvAnvRaQIT0FUE0gI5AiYklv3L3ccA+kbpAMoH1wCsxT72OO11AtqsdP/5OhD9c1wvBVR+xvwAPyECbFNvA",
          "dtype": "f4"
         },
         "yaxis": "y"
        }
       ],
       "layout": {
        "legend": {
         "title": {
          "text": "type"
         },
         "tracegroupgap": 0
        },
        "template": {
         "data": {
          "bar": [
           {
            "error_x": {
             "color": "#2a3f5f"
            },
            "error_y": {
             "color": "#2a3f5f"
            },
            "marker": {
             "line": {
              "color": "#E5ECF6",
              "width": 0.5
             },
             "pattern": {
              "fillmode": "overlay",
              "size": 10,
              "solidity": 0.2
             }
            },
            "type": "bar"
           }
          ],
          "barpolar": [
           {
            "marker": {
             "line": {
              "color": "#E5ECF6",
              "width": 0.5
             },
             "pattern": {
              "fillmode": "overlay",
              "size": 10,
              "solidity": 0.2
             }
            },
            "type": "barpolar"
           }
          ],
          "carpet": [
           {
            "aaxis": {
             "endlinecolor": "#2a3f5f",
             "gridcolor": "white",
             "linecolor": "white",
             "minorgridcolor": "white",
             "startlinecolor": "#2a3f5f"
            },
            "baxis": {
             "endlinecolor": "#2a3f5f",
             "gridcolor": "white",
             "linecolor": "white",
             "minorgridcolor": "white",
             "startlinecolor": "#2a3f5f"
            },
            "type": "carpet"
           }
          ],
          "choropleth": [
           {
            "colorbar": {
             "outlinewidth": 0,
             "ticks": ""
            },
            "type": "choropleth"
           }
          ],
          "contour": [
           {
            "colorbar": {
             "outlinewidth": 0,
             "ticks": ""
            },
            "colorscale": [
             [
              0,
              "#0d0887"
             ],
             [
              0.1111111111111111,
              "#46039f"
             ],
             [
              0.2222222222222222,
              "#7201a8"
             ],
             [
              0.3333333333333333,
              "#9c179e"
             ],
             [
              0.4444444444444444,
              "#bd3786"
             ],
             [
              0.5555555555555556,
              "#d8576b"
             ],
             [
              0.6666666666666666,
              "#ed7953"
             ],
             [
              0.7777777777777778,
              "#fb9f3a"
             ],
             [
              0.8888888888888888,
              "#fdca26"
             ],
             [
              1,
              "#f0f921"
             ]
            ],
            "type": "contour"
           }
          ],
          "contourcarpet": [
           {
            "colorbar": {
             "outlinewidth": 0,
             "ticks": ""
            },
            "type": "contourcarpet"
           }
          ],
          "heatmap": [
           {
            "colorbar": {
             "outlinewidth": 0,
             "ticks": ""
            },
            "colorscale": [
             [
              0,
              "#0d0887"
             ],
             [
              0.1111111111111111,
              "#46039f"
             ],
             [
              0.2222222222222222,
              "#7201a8"
             ],
             [
              0.3333333333333333,
              "#9c179e"
             ],
             [
              0.4444444444444444,
              "#bd3786"
             ],
             [
              0.5555555555555556,
              "#d8576b"
             ],
             [
              0.6666666666666666,
              "#ed7953"
             ],
             [
              0.7777777777777778,
              "#fb9f3a"
             ],
             [
              0.8888888888888888,
              "#fdca26"
             ],
             [
              1,
              "#f0f921"
             ]
            ],
            "type": "heatmap"
           }
          ],
          "histogram": [
           {
            "marker": {
             "pattern": {
              "fillmode": "overlay",
              "size": 10,
              "solidity": 0.2
             }
            },
            "type": "histogram"
           }
          ],
          "histogram2d": [
           {
            "colorbar": {
             "outlinewidth": 0,
             "ticks": ""
            },
            "colorscale": [
             [
              0,
              "#0d0887"
             ],
             [
              0.1111111111111111,
              "#46039f"
             ],
             [
              0.2222222222222222,
              "#7201a8"
             ],
             [
              0.3333333333333333,
              "#9c179e"
             ],
             [
              0.4444444444444444,
              "#bd3786"
             ],
             [
              0.5555555555555556,
              "#d8576b"
             ],
             [
              0.6666666666666666,
              "#ed7953"
             ],
             [
              0.7777777777777778,
              "#fb9f3a"
             ],
             [
              0.8888888888888888,
              "#fdca26"
             ],
             [
              1,
              "#f0f921"
             ]
            ],
            "type": "histogram2d"
           }
          ],
          "histogram2dcontour": [
           {
            "colorbar": {
             "outlinewidth": 0,
             "ticks": ""
            },
            "colorscale": [
             [
              0,
              "#0d0887"
             ],
             [
              0.1111111111111111,
              "#46039f"
             ],
             [
              0.2222222222222222,
              "#7201a8"
             ],
             [
              0.3333333333333333,
              "#9c179e"
             ],
             [
              0.4444444444444444,
              "#bd3786"
             ],
             [
              0.5555555555555556,
              "#d8576b"
             ],
             [
              0.6666666666666666,
              "#ed7953"
             ],
             [
              0.7777777777777778,
              "#fb9f3a"
             ],
             [
              0.8888888888888888,
              "#fdca26"
             ],
             [
              1,
              "#f0f921"
             ]
            ],
            "type": "histogram2dcontour"
           }
          ],
          "mesh3d": [
           {
            "colorbar": {
             "outlinewidth": 0,
             "ticks": ""
            },
            "type": "mesh3d"
           }
          ],
          "parcoords": [
           {
            "line": {
             "colorbar": {
              "outlinewidth": 0,
              "ticks": ""
             }
            },
            "type": "parcoords"
           }
          ],
          "pie": [
           {
            "automargin": true,
            "type": "pie"
           }
          ],
          "scatter": [
           {
            "fillpattern": {
             "fillmode": "overlay",
             "size": 10,
             "solidity": 0.2
            },
            "type": "scatter"
           }
          ],
          "scatter3d": [
           {
            "line": {
             "colorbar": {
              "outlinewidth": 0,
              "ticks": ""
             }
            },
            "marker": {
             "colorbar": {
              "outlinewidth": 0,
              "ticks": ""
             }
            },
            "type": "scatter3d"
           }
          ],
          "scattercarpet": [
           {
            "marker": {
             "colorbar": {
              "outlinewidth": 0,
              "ticks": ""
             }
            },
            "type": "scattercarpet"
           }
          ],
          "scattergeo": [
           {
            "marker": {
             "colorbar": {
              "outlinewidth": 0,
              "ticks": ""
             }
            },
            "type": "scattergeo"
           }
          ],
          "scattergl": [
           {
            "marker": {
             "colorbar": {
              "outlinewidth": 0,
              "ticks": ""
             }
            },
            "type": "scattergl"
           }
          ],
          "scattermap": [
           {
            "marker": {
             "colorbar": {
              "outlinewidth": 0,
              "ticks": ""
             }
            },
            "type": "scattermap"
           }
          ],
          "scattermapbox": [
           {
            "marker": {
             "colorbar": {
              "outlinewidth": 0,
              "ticks": ""
             }
            },
            "type": "scattermapbox"
           }
          ],
          "scatterpolar": [
           {
            "marker": {
             "colorbar": {
              "outlinewidth": 0,
              "ticks": ""
             }
            },
            "type": "scatterpolar"
           }
          ],
          "scatterpolargl": [
           {
            "marker": {
             "colorbar": {
              "outlinewidth": 0,
              "ticks": ""
             }
            },
            "type": "scatterpolargl"
           }
          ],
          "scatterternary": [
           {
            "marker": {
             "colorbar": {
              "outlinewidth": 0,
              "ticks": ""
             }
            },
            "type": "scatterternary"
           }
          ],
          "surface": [
           {
            "colorbar": {
             "outlinewidth": 0,
             "ticks": ""
            },
            "colorscale": [
             [
              0,
              "#0d0887"
             ],
             [
              0.1111111111111111,
              "#46039f"
             ],
             [
              0.2222222222222222,
              "#7201a8"
             ],
             [
              0.3333333333333333,
              "#9c179e"
             ],
             [
              0.4444444444444444,
              "#bd3786"
             ],
             [
              0.5555555555555556,
              "#d8576b"
             ],
             [
              0.6666666666666666,
              "#ed7953"
             ],
             [
              0.7777777777777778,
              "#fb9f3a"
             ],
             [
              0.8888888888888888,
              "#fdca26"
             ],
             [
              1,
              "#f0f921"
             ]
            ],
            "type": "surface"
           }
          ],
          "table": [
           {
            "cells": {
             "fill": {
              "color": "#EBF0F8"
             },
             "line": {
              "color": "white"
             }
            },
            "header": {
             "fill": {
              "color": "#C8D4E3"
             },
             "line": {
              "color": "white"
             }
            },
            "type": "table"
           }
          ]
         },
         "layout": {
          "annotationdefaults": {
           "arrowcolor": "#2a3f5f",
           "arrowhead": 0,
           "arrowwidth": 1
          },
          "autotypenumbers": "strict",
          "coloraxis": {
           "colorbar": {
            "outlinewidth": 0,
            "ticks": ""
           }
          },
          "colorscale": {
           "diverging": [
            [
             0,
             "#8e0152"
            ],
            [
             0.1,
             "#c51b7d"
            ],
            [
             0.2,
             "#de77ae"
            ],
            [
             0.3,
             "#f1b6da"
            ],
            [
             0.4,
             "#fde0ef"
            ],
            [
             0.5,
             "#f7f7f7"
            ],
            [
             0.6,
             "#e6f5d0"
            ],
            [
             0.7,
             "#b8e186"
            ],
            [
             0.8,
             "#7fbc41"
            ],
            [
             0.9,
             "#4d9221"
            ],
            [
             1,
             "#276419"
            ]
           ],
           "sequential": [
            [
             0,
             "#0d0887"
            ],
            [
             0.1111111111111111,
             "#46039f"
            ],
            [
             0.2222222222222222,
             "#7201a8"
            ],
            [
             0.3333333333333333,
             "#9c179e"
            ],
            [
             0.4444444444444444,
             "#bd3786"
            ],
            [
             0.5555555555555556,
             "#d8576b"
            ],
            [
             0.6666666666666666,
             "#ed7953"
            ],
            [
             0.7777777777777778,
             "#fb9f3a"
            ],
            [
             0.8888888888888888,
             "#fdca26"
            ],
            [
             1,
             "#f0f921"
            ]
           ],
           "sequentialminus": [
            [
             0,
             "#0d0887"
            ],
            [
             0.1111111111111111,
             "#46039f"
            ],
            [
             0.2222222222222222,
             "#7201a8"
            ],
            [
             0.3333333333333333,
             "#9c179e"
            ],
            [
             0.4444444444444444,
             "#bd3786"
            ],
            [
             0.5555555555555556,
             "#d8576b"
            ],
            [
             0.6666666666666666,
             "#ed7953"
            ],
            [
             0.7777777777777778,
             "#fb9f3a"
            ],
            [
             0.8888888888888888,
             "#fdca26"
            ],
            [
             1,
             "#f0f921"
            ]
           ]
          },
          "colorway": [
           "#636efa",
           "#EF553B",
           "#00cc96",
           "#ab63fa",
           "#FFA15A",
           "#19d3f3",
           "#FF6692",
           "#B6E880",
           "#FF97FF",
           "#FECB52"
          ],
          "font": {
           "color": "#2a3f5f"
          },
          "geo": {
           "bgcolor": "white",
           "lakecolor": "white",
           "landcolor": "#E5ECF6",
           "showlakes": true,
           "showland": true,
           "subunitcolor": "white"
          },
          "hoverlabel": {
           "align": "left"
          },
          "hovermode": "closest",
          "mapbox": {
           "style": "light"
          },
          "paper_bgcolor": "white",
          "plot_bgcolor": "#E5ECF6",
          "polar": {
           "angularaxis": {
            "gridcolor": "white",
            "linecolor": "white",
            "ticks": ""
           },
           "bgcolor": "#E5ECF6",
           "radialaxis": {
            "gridcolor": "white",
            "linecolor": "white",
            "ticks": ""
           }
          },
          "scene": {
           "xaxis": {
            "backgroundcolor": "#E5ECF6",
            "gridcolor": "white",
            "gridwidth": 2,
            "linecolor": "white",
            "showbackground": true,
            "ticks": "",
            "zerolinecolor": "white"
           },
           "yaxis": {
            "backgroundcolor": "#E5ECF6",
            "gridcolor": "white",
            "gridwidth": 2,
            "linecolor": "white",
            "showbackground": true,
            "ticks": "",
            "zerolinecolor": "white"
           },
           "zaxis": {
            "backgroundcolor": "#E5ECF6",
            "gridcolor": "white",
            "gridwidth": 2,
            "linecolor": "white",
            "showbackground": true,
            "ticks": "",
            "zerolinecolor": "white"
           }
          },
          "shapedefaults": {
           "line": {
            "color": "#2a3f5f"
           }
          },
          "ternary": {
           "aaxis": {
            "gridcolor": "white",
            "linecolor": "white",
            "ticks": ""
           },
           "baxis": {
            "gridcolor": "white",
            "linecolor": "white",
            "ticks": ""
           },
           "bgcolor": "#E5ECF6",
           "caxis": {
            "gridcolor": "white",
            "linecolor": "white",
            "ticks": ""
           }
          },
          "title": {
           "x": 0.05
          },
          "xaxis": {
           "automargin": true,
           "gridcolor": "white",
           "linecolor": "white",
           "ticks": "",
           "title": {
            "standoff": 15
           },
           "zerolinecolor": "white",
           "zerolinewidth": 2
          },
          "yaxis": {
           "automargin": true,
           "gridcolor": "white",
           "linecolor": "white",
           "ticks": "",
           "title": {
            "standoff": 15
           },
           "zerolinecolor": "white",
           "zerolinewidth": 2
          }
         }
        },
        "title": {
         "text": "t-SNE Projection of User and Item Embeddings"
        },
        "xaxis": {
         "anchor": "y",
         "domain": [
          0,
          1
         ],
         "title": {
          "text": "x"
         }
        },
        "yaxis": {
         "anchor": "x",
         "domain": [
          0,
          1
         ],
         "title": {
          "text": "y"
         }
        }
       }
      }
     },
     "metadata": {},
     "output_type": "display_data"
    }
   ],
   "source": [
    "# Visualizing the embeddings using t-SNE\n",
    "# Step 1: Extract trained embedding weights\n",
    "user_emb_matrix = model.user_embedding.get_weights()[0]\n",
    "item_emb_matrix = model.item_embedding.get_weights()[0]\n",
    "\n",
    "# Step 2: Apply t-SNE to reduce dimensions\n",
    "tsne = TSNE(n_components=2, perplexity=30, init=\"pca\", random_state=42)\n",
    "user_tsne = tsne.fit_transform(user_emb_matrix)\n",
    "item_tsne = tsne.fit_transform(item_emb_matrix)\n",
    "\n",
    "# Step 3: Build DataFrames for Plotly visualization\n",
    "user_df = pd.DataFrame(user_tsne, columns=['x', 'y'])\n",
    "user_df['type'] = 'user'\n",
    "user_df['id'] = user_df.index\n",
    "\n",
    "item_df = pd.DataFrame(item_tsne, columns=['x', 'y'])\n",
    "item_df['type'] = 'item'\n",
    "item_df['id'] = item_df.index\n",
    "\n",
    "# Combine into a single DataFrame\n",
    "tsne_df = pd.concat([user_df, item_df])\n",
    "\n",
    "# Step 4: Plot using Plotly\n",
    "fig = px.scatter(tsne_df, x='x', y='y', color='type', hover_name='id',\n",
    "                 title='t-SNE Projection of User and Item Embeddings')\n",
    "fig.show()"
   ]
  }
 ],
 "metadata": {
  "kernelspec": {
   "display_name": "dsi_env",
   "language": "python",
   "name": "python3"
  },
  "language_info": {
   "codemirror_mode": {
    "name": "ipython",
    "version": 3
   },
   "file_extension": ".py",
   "mimetype": "text/x-python",
   "name": "python",
   "nbconvert_exporter": "python",
   "pygments_lexer": "ipython3",
   "version": "3.9.12"
  }
 },
 "nbformat": 4,
 "nbformat_minor": 4
}
